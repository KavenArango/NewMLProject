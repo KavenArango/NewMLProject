{
 "cells": [
  {
   "cell_type": "markdown",
   "metadata": {},
   "source": [
    "## Statistical Hypothesis Testing\n",
    "### Null and Alternate Hypothesis\n",
    "Statistical **Hypothesis Testing** is making an assumption (hypothesis) and testing with the test data to see if the assumption was correct or incorrect. Every hypothesis test, regardless of the data population and other parameters involved, requires the three steps below.\n",
    "* Making an initial assumption.\n",
    "* Collecting evidence (data).\n",
    "* Based on the available evidence (data), deciding whether to reject or not reject the initial assumption.\n",
    "\n",
    "The initial assumption made is called **Null Hypothesis (H-0)** and the alternative (opposite) to the **Null Hypothesis** is called the **Alternate Hypothesis (H-A)**\n",
    "\n",
    "Two widely used approach to **hypothesis testing** are\n",
    "* Critical value approach\n",
    "* p-value approach\n",
    "\n",
    "The **Critical value** approach involves comparing the observed test statistic to some cutoff value, called the **Critical Value**. If the test statistic is more extreme (i.e. more than the **Upper Critical Value** or less than the **Lower Critical Value**) than the **Critical Value**, then the null hypothesis is rejected in favor of the alternative hypothesis. If the test statistic is not as extreme as the critical value, then the null hypothesis is not rejected.\n",
    "\n",
    "The **p-value** approach involves determining the probability of observing a more extreme test statistics in the direction of **Alternate Hypothesis**, assuming the null hypothesis were true. \n",
    "\n",
    "If the **p-value** is less than (or equal to) **α (the accepted level of p-value)**, then the null hypothesis **is rejected** in favor of the alternative hypothesis. If the P-value is greater than **α (the critical value)**, then the null hypothesis **is not rejected**.\n",
    "\n",
    "### Z-Score and p-Value\n",
    "In this section we are just learning the definitions of **Z-Score** and **p-Value** and their inter-relations. In a subsequent section we will use the Z-Score, p-value along with **Level of Confidence** or **Level of Significance** to test a hypothesis (i.e. Reject (i.e. the Alternate Hypothesis is acceptedas the new norm. the Null Hypothesis or Fail to Reject the Null Hypothesis (i.e. Null Hypothesis remains valid)\n",
    "\n",
    "A **Z-Score** of a sample of data is a score that expresses the value of a distribution in standard deviation with respect to the mean. It shows how far (**how many Standard Deviation**) a specific value of data is from the sample **Mean**.\n",
    "Z-Score is calcualted by the formula\n",
    "\n",
    "**z = (X - X-bar)/Std-dev**\n",
    "\n",
    "where \n",
    "\n",
    "X = a Data Value\n",
    "\n",
    "X-bar = Sample Mean\n",
    "      \n",
    "Std-dev = Standard Deviation of the sample\n",
    "\n",
    "**p-value** of a Data Value is the probability of obtaining a sample data that is \"more extreme* than the ones observed in your data assuming the Null Hypothesis is true.\n",
    "\n",
    "The p-value of a z-score can be obtained from a Statistical Z-Table or using a Python Library function. Here we will use the Python Library function.\n",
    "\n",
    "**p-value = stats.norm.cdf(z-score)**\n",
    "\n",
    "However, depending on the data we are trying to test (in the case 53) compared to the currently known data (National Average = 60, Standard Deviation = 3) we may have to use a slightly different formula. Do do that we need to learn the **Left Tail** and **Right Tail** tests.\n",
    "\n",
    "### Left-Tail, Right-Tail and Two-Tail Tests of Hypothesis\n",
    "If the data we are trying to test (53) is **less than** the **Mean** (60) we use the **Left Tail Test**. If the data (say the class average was 68 as opposed to 53) is **greater than** the **Mean** (60), we use the **Right Tail Test**.\n",
    "\n",
    "For a **Right Tail Test** the formula for p-value (again using a Python Library function) is\n",
    "\n",
    "**p-value =  1- stats.norm.cdf(z-score)**\n",
    "\n",
    "***p-value for a z-score can be looked up from the Statistical Z-Table***\n",
    "\n",
    "#### An Example of Z-Score and p-value\n",
    "Assume that we have the scores of a test in Business Analytics in a class of 100. The Mean of the sample (100 test scores) is 53. The National Average of the same test is 60 with a Standard Deviation of 3. We want to calculate the Z-score and p-value for this class sample (Average is 53) with respect to the National data (Average = 60, Standard Deviation = 3) to test our hypothesis \"the class score is similar to the National Average\"\n",
    "\n",
    "Here we will calculate the z-score and corresponding p-value for Case-1 where the **class average is 53** and Case-2 where the **class average is 63**\n",
    "      "
   ]
  },
  {
   "cell_type": "code",
   "execution_count": 1,
   "metadata": {},
   "outputs": [
    {
     "name": "stdout",
     "output_type": "stream",
     "text": [
      "========== Example of a Left Tail Test ============\n",
      "Class score mean =  53\n",
      "Zscore for mean class score (53) =  -2.33\n",
      "p-value for the mean class score (53) =  0.009903\n",
      "========== Example of a Right Tail Test ============\n",
      "Class score mean =  63\n",
      "Zscore for mean class score (63) =  1.0\n",
      "p-value for the mean class score (63) =  0.158655\n"
     ]
    }
   ],
   "source": [
    "from IPython.core.interactiveshell import InteractiveShell\n",
    "InteractiveShell.ast_node_interactivity = \"all\"\n",
    "\n",
    "import scipy.stats as stats\n",
    "\n",
    "# Example of a Left Tail Test\n",
    "print('========== Example of a Left Tail Test ============')\n",
    "# Case-1 where class score mean = 53\n",
    "print('Class score mean = ', 53)\n",
    "# Calculating the z-score of 53 with respect to the National Score (Mean = 60, S-Dev = 3)\n",
    "zscore1 = round((53 - 60)/3, 2)\n",
    "print('Zscore for mean class score (53) = ', zscore1)\n",
    "# Since 53 is less than the national average 60 we will do the Left Tail Test\n",
    "prob1 = round(stats.norm.cdf(zscore1), 6)\n",
    "print('p-value for the mean class score (53) = ',  prob1)\n",
    "\n",
    "# Example of a Right Tail Test\n",
    "print('========== Example of a Right Tail Test ============')\n",
    "# Case-2 where class score mean = 63\n",
    "print('Class score mean = ', 63)\n",
    "# Calculating the z-score of 68 with respect to the National Score (Mean = 60, S-Dev = 3)\n",
    "zscore2 = round((63 - 60)/3, 2)\n",
    "print('Zscore for mean class score (63) = ', zscore2)\n",
    "# Since 68 is more than the national average 60 we will do the Right Tail Test\n",
    "prob2 = round(1 - stats.norm.cdf(zscore2), 6)\n",
    "print('p-value for the mean class score (63) = ',  prob2)"
   ]
  },
  {
   "cell_type": "markdown",
   "metadata": {},
   "source": [
    "### Level of Confidence and Level of Significance\n",
    "Since the results of statistical test are not **definite proof** of the conclusion, the results are always associsated with a **Level of Confidence** or a **Livel of Significance**. Normally we would strive for a high **Level of Confidence**  or a statistically significant result with high **Level of Significance** when we are testing if a Null Hypothesis is true or the Alternate Hypothesis should replace the Null Hypothesis.\n",
    "\n",
    "Usually the **Level of Confidence (C)** used are 95% (0.95), 99% (0.99) etc. for the conclusions of a hypothesis testing to be considered **\"reliable\"**. **Level of Significance** is the inverse of Level of Confidence, i.e. \n",
    "\n",
    "**Level of Significance = 1 - Level of Confidence** or S = 1- C. For Level of Confidence of 99% (0.99) the Level of Significance is 0.01 and for the Level of Confidence of 95% (0.95), the Level of Significance is 0.05.\n",
    "\n",
    "In majority of hypothesis tests a Level of Significance of 0.05 is used. This is called the **Critical Value α** to test the p-value (calculated in the previous step)\n",
    "\n",
    "If the p-value is **less than** the **Critical Value α**, the test results are considered as \"highly significant**. **Critical Value α = 0.01**, by the same token is considered as \"very highly significant\".\n",
    "\n",
    "### Hypothesis Testing Using Z-Score, p-Value and Level of Significance\n",
    "In a hypothesis test using -Score and p-value, if the p-value is less than **Critical Value α** (0.05 in our case), the test is considered statistically highly significant and Alternate Hypothesis is accepted and the Null Hypothesis is rejected and vice versa.\n",
    "\n",
    "In our test case-1 where the mean class score is 53, the p-value is 0.00993 which is less than the Critical Value α (0.05), the Null Hypothesis, that the mean marks of the class is similar to the national average is **Rejected**\n",
    "\n",
    "In test case-2 where the mean class score is 66, the p-value is 0.02275 which is more than the Critical Value α (0.05), the Null Hypothesis, that the mean marks of the class is similar to the national average is **Accepted/Retained**\n",
    "\n",
    "A Two-Tailed test can also be used in the above case using the same concepts of Z-Score, p-value and α, the Critical Significance Level. We will discuss Hypothesis Testing in more details in the **Descriptive Analytics** section.\n",
    "\n",
    "\n",
    "### Getting p-value from z-score and z-score from p-value\n",
    "We have already used **stats.norm.cdf(zscore1)** to get p-value from z-score\n",
    "\n",
    "***p-value = stats.norm.cdf(zscore1)***\n",
    "\n",
    "Now we will use stats.norm.ppf(p-value) to get z-score from p-value\n",
    "\n",
    "***z-score = stats.norm.ppf(c-value), remembering, p-value = 1 - c-value***\n",
    "\n",
    "Let us calculate z-score for the most commonly used **Confidence Levels (C)** of 90% (0.9), 95% (0.95), 98% (0.98) and 99% (0.99), i.e. the most commonly used **Significance Levels (S)** of 0.1, 0.05, 0.02 and 0.01 respectively"
   ]
  },
  {
   "cell_type": "code",
   "execution_count": 2,
   "metadata": {},
   "outputs": [
    {
     "name": "stdout",
     "output_type": "stream",
     "text": [
      "1.2815515655446004\n",
      "1.6448536269514722\n",
      "2.0537489106318225\n",
      "2.3263478740408408\n",
      "===================================================================\n",
      "1.6448536269514722\n",
      "1.959963984540054\n",
      "2.3263478740408408\n",
      "2.5758293035489004\n",
      "1.2815515655446004\n"
     ]
    }
   ],
   "source": [
    "import scipy.stats as stats\n",
    "from scipy.stats import norm\n",
    "\n",
    "z_score_1 = stats.norm.ppf(0.9) # for C= 0.9 i.e. p = 0.1\n",
    "print(z_score_1)\n",
    "z_score_2 = stats.norm.ppf(0.95) # for C= 0.95 i.e. p = 0.05\n",
    "print(z_score_2)\n",
    "z_score_3 = stats.norm.ppf(0.98) # for C= 0.98 i.e. p = 0.02\n",
    "print(z_score_3)\n",
    "z_score_4 = stats.norm.ppf(0.99) # for C= 0.99 i.e. p = 0.01\n",
    "print(z_score_4)\n",
    "# For 2-tail test the corresponding z-scores are (+-)1.645, 1.96, 2.33 and 2.575 respectively (show calc with α/2 )\n",
    "print(\"===================================================================\")\n",
    "z_score_5 = stats.norm.ppf(0.95) # for C= 0.95 i.e. p = 0.05 on each tail\n",
    "print(z_score_5)\n",
    "z_score_6 = stats.norm.ppf(0.975) # for C= 0.975 i.e. p = 0.025 on each tail\n",
    "print(z_score_6)\n",
    "z_score_7 = stats.norm.ppf(0.99) # for C= 0.99 i.e. p = 0.01 on each tail\n",
    "print(z_score_7)\n",
    "z_score_8 = stats.norm.ppf(0.995) # for C= 0.995 i.e. p = 0.005 on each tail\n",
    "print(z_score_8)\n",
    "z_score_9 = stats.norm.ppf(0.900) # for C= 0.900 i.e. p = 0.01 on each tail\n",
    "print(z_score_9)"
   ]
  },
  {
   "cell_type": "code",
   "execution_count": 3,
   "metadata": {},
   "outputs": [
    {
     "name": "stdout",
     "output_type": "stream",
     "text": [
      "Confidence Level = 0.9 Margin of Error =  0.1 Z-Score =  1.2815515655446004  Standard Deviation =  0.5 Sample Size =  41.06\n",
      "Confidence Level = 0.91 Margin of Error =  0.09 Z-Score =  1.3407550336902165  Standard Deviation =  0.5 Sample Size =  55.48\n",
      "Confidence Level = 0.92 Margin of Error =  0.08 Z-Score =  1.4050715603096329  Standard Deviation =  0.5 Sample Size =  77.12\n",
      "Confidence Level = 0.93 Margin of Error =  0.07 Z-Score =  1.475791028179171  Standard Deviation =  0.5 Sample Size =  111.12\n",
      "Confidence Level = 0.94 Margin of Error =  0.06 Z-Score =  1.5547735945968535  Standard Deviation =  0.5 Sample Size =  167.86\n",
      "Confidence Level = 0.95 Margin of Error =  0.05 Z-Score =  1.6448536269514722  Standard Deviation =  0.5 Sample Size =  270.56\n",
      "Confidence Level = 0.96 Margin of Error =  0.04 Z-Score =  1.7506860712521692  Standard Deviation =  0.5 Sample Size =  478.88\n",
      "Confidence Level = 0.97 Margin of Error =  0.03 Z-Score =  1.8807936081512509  Standard Deviation =  0.5 Sample Size =  982.56\n",
      "Confidence Level = 0.98 Margin of Error =  0.02 Z-Score =  2.0537489106318225  Standard Deviation =  0.5 Sample Size =  2636.25\n",
      "Confidence Level = 0.99 Margin of Error =  0.01 Z-Score =  2.3263478740408408  Standard Deviation =  0.5 Sample Size =  13530.0\n"
     ]
    }
   ],
   "source": [
    "std_dev = 0.5\n",
    "for x in [0.90, 0.91, 0.92, 0.93, 0.94, 0.95, 0.96, 0.97, 0.98, 0.99]:\n",
    "    z_score = stats.norm.ppf(x)\n",
    "    margin_of_error = round((1-x), 2)\n",
    "    sample_size = round(round((z_score**2) * (std_dev * (1- std_dev)), 4)/round((margin_of_error**2), 4), 2)\n",
    "    print('Confidence Level =', x, 'Margin of Error = ', margin_of_error, 'Z-Score = ', z_score, ' Standard Deviation = ', std_dev, 'Sample Size = ', sample_size)\n",
    "    "
   ]
  },
  {
   "cell_type": "markdown",
   "metadata": {},
   "source": [
    "### Example Scenarios of Different Types of Hypothesis Tests\n",
    "#### Example - 1\n",
    "\n",
    "*** A company has stated that they make straw machine that makes straws that are 4 mm in diameter. A worker belives that the machine no longer makes straws of this size and samples 100 straws to perform a hypothesis test with 99% Confidence level. Write the null and alternate hypothesis and any other related data.***\n",
    "\n",
    "                   H-0: µ = 4 mm H-a: µ != 4 mm n = 100, C = 0.99, Critical Value α = 1 - C = 0.01 \n",
    "\n",
    "#### Example - 2\n",
    "*** Doctors believe that the average teen sleeps on average no longer than 10 hours per day. A researcher belives that the teens sleep longer. Write the H-0 and H-a***\n",
    "\n",
    "                   H-0: µ <= 10   H-a: µ > 10\n",
    "                   \n",
    "#### Example - 3\n",
    "*** The school board claims that at least 60% of students bring a phone to school. A teacher believes this number is too high and randomly samples 25 students to test at a Significance Level of 0.02. Write the H-0, H-a and other related informations***\n",
    "\n",
    "                  H-0: p >= 0.60  H-a: p < 0.60  n = 25  Critical Value α = 0.02   C = 1 - α = 1- 0.02 = 0.98 (98%)\n",
    "                  \n",
    "With the available information, it is possible to write the **null** and **alternate** hypotheses, but in these examples we do not have enough information to test them.\n",
    "\n",
    "Recall the steps of hypothesis tests outlined above\n",
    "\n",
    "* Write the hypotheses H-0 and H-a\n",
    "* Given µ, standard deviation calculate the z-score for the number to be tested using formula z = (X-bar - µ)/Std-dev\n",
    "* Calculate the p-value using the python function p-value = 1- stats.norm.cdf(z-score)\n",
    "* Given Significance Level Critical Value α or given Confidence Level calculate Critical Value α = 1-C\n",
    "* For **Left Tail** test use the p-value calculated\n",
    "* For **Right Tail Test** p-value = 1- (calculated p-value)\n",
    "* For **Two Tail Test** compare the calculated p-vlaue with  α/2\n",
    "* If the calculated p-value is **less** than Critical Value α, **reject** Null Hypothesis else **fail to reject** the Null Hypothesis\n",
    "\n",
    "***Note: If H-a has <, it is a Left Tail Test, if H-a has >, it is a Right Tail Test, if H-a has != it is a 2-Tail Test***\n",
    "\n",
    "So, to be able to test the hypothesis we need to have x (the value to be tested), x-bar (sample mean), std-dev (sample standard deviation, required Confidence Level or the required Significance Level.\n",
    "\n",
    "In the next example we will go through these steps (assuming all the necessary information are given)\n",
    "\n",
    "#### Example - 4\n",
    "Records show that students on average score less than or equal to 850 on a test. A test prep company says that the students who take their course will score higher than this. To test, they sample 1000 students who score on an average of 856 with a standard deviation of 98 after taking the course. At 0.05 Significance Level, test the company claim.\n",
    "\n",
    "            H-0: µ <= 850  H-a: µ > 850  n = 1000  x-bar = 856  std-dev = 98  α = 0.05 (C = 0.95 or 95%)\n",
    "       \n",
    "Let's calculate the z-score and p-value to test the hypothesis. It is a **Right Tail Test**\n"
   ]
  },
  {
   "cell_type": "code",
   "execution_count": 5,
   "metadata": {},
   "outputs": [
    {
     "name": "stdout",
     "output_type": "stream",
     "text": [
      "Z-score =  0.061224489795918366\n",
      "p-value =  0.4755902131389005\n"
     ]
    }
   ],
   "source": [
    "import numpy as np\n",
    "from scipy.stats import norm\n",
    "\n",
    "x_bar = 856\n",
    "µ = 850\n",
    "s_dev = 98\n",
    "z_score = (x_bar - µ)/s_dev\n",
    "print(\"Z-score = \", z_score)\n",
    "p_value = (1 - norm.cdf(z_score)) # since it is a Right Tail test\n",
    "print(\"p-value = \", p_value)"
   ]
  },
  {
   "cell_type": "markdown",
   "metadata": {},
   "source": [
    "***Since the calculated p-value is greater than α (0.05) we fail to reject  the null hypothesis, i.e. company claim is invalid or NOT Statistically Significant***\n",
    "\n",
    "#### Example - 5\n",
    "A newspaper reports that the average age a woman gets married is 25 years or  less. A researcher thinks that the average age is higher. He samples 213 women and gets an average of 25.4 years with standard deviation of 2.3 years. With 95% Confidence Level, test the researcher's claim.\n",
    "\n",
    "Let's calculate the z-score and p-value to test the hypothesis. It is a **Right Tail Test**\n",
    "\n",
    "\n",
    "        H-0: µ <= 25  H-a: µ > 25  n = 213  x-bar = 25.4  s-dev = 2.3  C = 95% = 0.95  α = 0.05\n",
    "\n",
    "Let's calculate the z-score and p-value to test the hypothesis. It is a **Right Tail Test**"
   ]
  },
  {
   "cell_type": "code",
   "execution_count": 6,
   "metadata": {},
   "outputs": [
    {
     "name": "stdout",
     "output_type": "stream",
     "text": [
      "Z-score =  0.17391304347826025\n",
      "p-value =  0.43096690081487876\n"
     ]
    }
   ],
   "source": [
    "import numpy as np\n",
    "from scipy.stats import norm\n",
    "\n",
    "x_bar = 25.4\n",
    "µ = 25\n",
    "s_dev = 2.3\n",
    "z_score = (x_bar - µ)/s_dev\n",
    "print(\"Z-score = \",z_score)\n",
    "p_value = (1 - stats.norm.cdf(z_score)) # since it is a Right Tail test\n",
    "print(\"p-value = \", p_value)"
   ]
  },
  {
   "cell_type": "markdown",
   "metadata": {},
   "source": [
    "***Since the calculated p-value is greater than α (0.05) we fail to reject  the null hypothesis, i.e. researcher's claim is invalid or NOT Statistically Significant***\n",
    "\n",
    "#### Example - 6\n",
    "A study showed that on an average women in a city had 1.48 kids. A researcher believes that the number is wrong. He surveys 128 women in the city and finds that on an average these women had 1.39 kids with standard deviation of 0.84 kids. At 90% Confidence Level, test the claim.\n",
    "\n",
    "    H-0: µ = 1.48 H-a: µ != 1.48   n = 128   x-bar = 1.39   s-dev = 0.84   C = 90% = 0.9. \n",
    "    \n",
    "    \n",
    "Let's calculate the z-score and p-value to test the hypothesis. It is a **Two Tail Test**. This is a Two Tailed Test, so critical value = (1 -c) /2 = 0.05\n",
    "    \n"
   ]
  },
  {
   "cell_type": "code",
   "execution_count": 7,
   "metadata": {},
   "outputs": [
    {
     "name": "stdout",
     "output_type": "stream",
     "text": [
      "Z-score =  -0.10714285714285725\n",
      "p-value =  0.4573378238740764\n"
     ]
    }
   ],
   "source": [
    "import numpy as np\n",
    "from scipy.stats import norm\n",
    "\n",
    "x_bar = 1.39\n",
    "µ = 1.48\n",
    "s_dev = 0.84\n",
    "z_score = (x_bar - µ)/s_dev\n",
    "print(\"Z-score = \", z_score)\n",
    "p_value = stats.norm.cdf(z_score) # since it is a Two Tail test\n",
    "print(\"p-value = \",p_value)"
   ]
  },
  {
   "cell_type": "markdown",
   "metadata": {},
   "source": [
    "***Since the calculated p-value is greater than α/2 (0.05) we fail to reject  the null hypothesis, i.e. researcher's claim is invalid or NOT Statistically Significant***\n",
    "\n",
    "#### Example - 7\n",
    "The government says the average weight of males is 162.9 pounds or greater. A researcher thinks this is too high. He does a study of 39 males and gets an average weight of 160.1 pounds with a standard deviation of 1.6 pounds. At 0.05 Significance Level, test the claim.\n",
    "\n",
    "    H-0: µ >= 162.9   H-a: µ < 162.9   n = 39    x-bar = 160.1    s-dev = 1.6   α = 0.05\n",
    "\n",
    "Let's calculate the z-score and p-value to test the hypothesis. It is a **Left Tail Test**"
   ]
  },
  {
   "cell_type": "code",
   "execution_count": 8,
   "metadata": {},
   "outputs": [
    {
     "name": "stdout",
     "output_type": "stream",
     "text": [
      "Z-score =  -1.750000000000007\n",
      "p-value =  0.040059156863816475\n"
     ]
    }
   ],
   "source": [
    "import numpy as np\n",
    "from scipy.stats import norm\n",
    "\n",
    "x_bar = 160.1\n",
    "µ = 162.9\n",
    "s_dev = 1.6\n",
    "z_score = (x_bar - µ)/s_dev\n",
    "print(\"Z-score = \", z_score)\n",
    "p_value = stats.norm.cdf(z_score) # since it is a Left Tail test\n",
    "print(\"p-value = \",p_value)"
   ]
  },
  {
   "cell_type": "markdown",
   "metadata": {},
   "source": [
    "***Since the calculated p-value is less than α (0.05) we reject  the null hypothesis, i.e. researcher's claim is valid or Statistically Significant***\n",
    "\n"
   ]
  },
  {
   "cell_type": "code",
   "execution_count": null,
   "metadata": {},
   "outputs": [],
   "source": []
  }
 ],
 "metadata": {
  "kernelspec": {
   "display_name": "Python 3",
   "language": "python",
   "name": "python3"
  },
  "language_info": {
   "codemirror_mode": {
    "name": "ipython",
    "version": 3
   },
   "file_extension": ".py",
   "mimetype": "text/x-python",
   "name": "python",
   "nbconvert_exporter": "python",
   "pygments_lexer": "ipython3",
   "version": "3.6.6"
  }
 },
 "nbformat": 4,
 "nbformat_minor": 2
}
