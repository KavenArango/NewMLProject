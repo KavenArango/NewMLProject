{
 "cells": [
  {
   "cell_type": "markdown",
   "metadata": {},
   "source": [
    "# Python Programming Language\n",
    "## Introduction\n",
    "Python is a very intuitive and easy to learn language. However, at the same time Python is as powerful as most of the modern programming language.\n",
    "\n",
    "Python is an \"Interpreted\" language as opposed to a \"Compiled\" language. In short what you type in the command line or command window the Python interpreter reads it, if it is syntactically correct, the interpreter tries to execute it and produces the result as an output.\n",
    "## Our Goal\n",
    "Our goal in this class (QSO-250) is NOT to teach the whole Python programming language (there are other programming lanuage courses for this purpose). Our goal is also NOT to cover all aspects of Python. \n",
    "\n",
    "However, these days Python is probably the most popular language/tool for Business Analytics and Data Science. In this class we will go through the \"minimum subset\" of basic and some advanced Python that we will use, in subsequent classes to do some aspects of Descriptive, Predictive and Prescriptive Analytics. \n",
    "\n",
    "More advanced courses in Descriptive, Predictive and Prescriptive Analytics will cover these areas lot more extensively with lot more use of \"Advanced Python\".\n",
    "## Program = Data Structures + Algorithm\n",
    "Following this principle, we will explore Python data types and data structures first and then we we will explore algorthms in the form of program control flow, creating and calling functions, building our own libraries/modules.\n",
    "\n",
    "Most importantly we will import and use python libraries, especially the ones we need for **Descriptive, Predictive and Prescriptive Analytics**. Hopefully by now you have already installed those libraries as a part of our **Python Setup** exercise. We will import them as needed (as we will import **math** library a few cells down) and use them as we go along.\n",
    "## The Method we will use\n",
    "This is of course is a Jupyter Notebook (with text and code samples) which I will use in the class. The code cells are executable in-place. However during the class we will insert code cell/s as needed and cut and paste or type our in-class code and execute them. The entire session will be captured and save in your Jupyter notebook. You can re-open it, re-use it, add to it and do many more things.\n",
    "\n",
    "So let's get started..."
   ]
  },
  {
   "cell_type": "code",
   "execution_count": 1,
   "metadata": {},
   "outputs": [
    {
     "name": "stdout",
     "output_type": "stream",
     "text": [
      "Hello World 1 Hello Again 2 How about a decimal number? 67.83\n"
     ]
    }
   ],
   "source": [
    "print(\"Hello World\", 1, \"Hello Again\", 2, \"How about a decimal number?\", 67.83)"
   ]
  },
  {
   "cell_type": "code",
   "execution_count": 2,
   "metadata": {},
   "outputs": [
    {
     "name": "stdout",
     "output_type": "stream",
     "text": [
      "30\n",
      "10\n"
     ]
    }
   ],
   "source": [
    "x = 2\n",
    "x = 6\n",
    "if (x > 3):\n",
    "    print(x * 5)\n",
    "    print(x + 4)\n",
    "else:\n",
    "    print(x)"
   ]
  },
  {
   "cell_type": "code",
   "execution_count": 3,
   "metadata": {},
   "outputs": [],
   "source": [
    "from IPython.core.interactiveshell import InteractiveShell\n",
    "InteractiveShell.ast_node_interactivity = \"all\""
   ]
  },
  {
   "cell_type": "markdown",
   "metadata": {},
   "source": [
    "## Let's use Python just as a Calculator\n",
    "Enter any arithmatic expression in the command window and click on \"Run\""
   ]
  },
  {
   "cell_type": "code",
   "execution_count": 4,
   "metadata": {},
   "outputs": [
    {
     "data": {
      "text/plain": [
       "3"
      ]
     },
     "execution_count": 4,
     "metadata": {},
     "output_type": "execute_result"
    },
    {
     "data": {
      "text/plain": [
       "2520"
      ]
     },
     "execution_count": 4,
     "metadata": {},
     "output_type": "execute_result"
    }
   ],
   "source": [
    "1 + 2\n",
    "45* 56"
   ]
  },
  {
   "cell_type": "code",
   "execution_count": 5,
   "metadata": {},
   "outputs": [
    {
     "data": {
      "text/plain": [
       "3724"
      ]
     },
     "execution_count": 5,
     "metadata": {},
     "output_type": "execute_result"
    }
   ],
   "source": [
    "3987 - 263"
   ]
  },
  {
   "cell_type": "code",
   "execution_count": 6,
   "metadata": {},
   "outputs": [
    {
     "data": {
      "text/plain": [
       "970921905"
      ]
     },
     "execution_count": 6,
     "metadata": {},
     "output_type": "execute_result"
    }
   ],
   "source": [
    "12345 * 78649"
   ]
  },
  {
   "cell_type": "code",
   "execution_count": 7,
   "metadata": {},
   "outputs": [
    {
     "data": {
      "text/plain": [
       "189979.54753806285"
      ]
     },
     "execution_count": 7,
     "metadata": {},
     "output_type": "execute_result"
    }
   ],
   "source": [
    "2345867453/12348"
   ]
  },
  {
   "cell_type": "code",
   "execution_count": 8,
   "metadata": {},
   "outputs": [
    {
     "data": {
      "text/plain": [
       "16"
      ]
     },
     "execution_count": 8,
     "metadata": {},
     "output_type": "execute_result"
    }
   ],
   "source": [
    "2**4"
   ]
  },
  {
   "cell_type": "code",
   "execution_count": 9,
   "metadata": {},
   "outputs": [
    {
     "data": {
      "text/plain": [
       "70068969453040674800765371696597378669622918377633262568691484098479539955899606342098352761129789463351024684469517710664217247385438493928113102294202591196328682700655029028072720982110023712768"
      ]
     },
     "execution_count": 9,
     "metadata": {},
     "output_type": "execute_result"
    }
   ],
   "source": [
    "23678**45"
   ]
  },
  {
   "cell_type": "code",
   "execution_count": 10,
   "metadata": {},
   "outputs": [
    {
     "ename": "NameError",
     "evalue": "name 'sqrt' is not defined",
     "output_type": "error",
     "traceback": [
      "\u001b[1;31m---------------------------------------------------------------------------\u001b[0m",
      "\u001b[1;31mNameError\u001b[0m                                 Traceback (most recent call last)",
      "\u001b[1;32m<ipython-input-10-dfd1b01e9a51>\u001b[0m in \u001b[0;36m<module>\u001b[1;34m\u001b[0m\n\u001b[1;32m----> 1\u001b[1;33m \u001b[0msqrt\u001b[0m\u001b[1;33m(\u001b[0m\u001b[1;36m16\u001b[0m\u001b[1;33m)\u001b[0m\u001b[1;33m\u001b[0m\u001b[1;33m\u001b[0m\u001b[0m\n\u001b[0m",
      "\u001b[1;31mNameError\u001b[0m: name 'sqrt' is not defined"
     ]
    }
   ],
   "source": [
    "sqrt(16)"
   ]
  },
  {
   "cell_type": "markdown",
   "metadata": {},
   "source": [
    "**What happend here???**\n",
    "\n",
    "sqrt is not deined in basic pyhon. To get it we need to import the ***module math***"
   ]
  },
  {
   "cell_type": "code",
   "execution_count": 11,
   "metadata": {},
   "outputs": [],
   "source": [
    "import math"
   ]
  },
  {
   "cell_type": "code",
   "execution_count": 12,
   "metadata": {},
   "outputs": [
    {
     "data": {
      "text/plain": [
       "4.0"
      ]
     },
     "execution_count": 12,
     "metadata": {},
     "output_type": "execute_result"
    }
   ],
   "source": [
    "math.sqrt(16)"
   ]
  },
  {
   "cell_type": "code",
   "execution_count": 13,
   "metadata": {},
   "outputs": [
    {
     "data": {
      "text/plain": [
       "487.70574120057273"
      ]
     },
     "execution_count": 13,
     "metadata": {},
     "output_type": "execute_result"
    }
   ],
   "source": [
    "math.sqrt(237856.89)"
   ]
  },
  {
   "cell_type": "code",
   "execution_count": 14,
   "metadata": {},
   "outputs": [
    {
     "data": {
      "text/plain": [
       "587.9451079820292"
      ]
     },
     "execution_count": 14,
     "metadata": {},
     "output_type": "execute_result"
    }
   ],
   "source": [
    "math.sqrt(345679.45)"
   ]
  },
  {
   "cell_type": "markdown",
   "metadata": {},
   "source": [
    "Now let's try to find 2 raised to the power of 3 or anythin raised to the power of anything.\n",
    "\n",
    "We can do that by using **math.pow()** function which takes two parameters, a **base** and an **exponent**"
   ]
  },
  {
   "cell_type": "code",
   "execution_count": 15,
   "metadata": {},
   "outputs": [
    {
     "data": {
      "text/plain": [
       "8.0"
      ]
     },
     "execution_count": 15,
     "metadata": {},
     "output_type": "execute_result"
    }
   ],
   "source": [
    "math.pow(2, 3)"
   ]
  },
  {
   "cell_type": "code",
   "execution_count": 16,
   "metadata": {},
   "outputs": [
    {
     "data": {
      "text/plain": [
       "5.298617756632813e+16"
      ]
     },
     "execution_count": 16,
     "metadata": {},
     "output_type": "execute_result"
    }
   ],
   "source": [
    "math.pow(245, 7)"
   ]
  },
  {
   "cell_type": "code",
   "execution_count": 17,
   "metadata": {},
   "outputs": [
    {
     "name": "stdout",
     "output_type": "stream",
     "text": [
      "I am young\n"
     ]
    }
   ],
   "source": [
    "age = 23\n",
    "if age < 50:\n",
    "    print('I am young')\n",
    "else:\n",
    "    print('I am old')\n"
   ]
  },
  {
   "cell_type": "markdown",
   "metadata": {},
   "source": [
    "BTW, you can comment out code by preceding it with **#** as shown below"
   ]
  },
  {
   "cell_type": "code",
   "execution_count": 18,
   "metadata": {},
   "outputs": [
    {
     "data": {
      "text/plain": [
       "1.8956258430116204e+61"
      ]
     },
     "execution_count": 18,
     "metadata": {},
     "output_type": "execute_result"
    }
   ],
   "source": [
    "# This is a comment and not an executable code\n",
    "math.pow (23, 45)  # this is an executable code with added comment to the right"
   ]
  },
  {
   "cell_type": "markdown",
   "metadata": {},
   "source": [
    "## What have we seen so far\n",
    "We have seen that we can use integers, decimals and do arithmatic operations using them and **operators +, -, \\*, /, sqrt, pow()** etc. just as e would do in a calculator.\n",
    "## Let's take the next step and do something more complex\n",
    "### Let's use some numeric variables, create expressions and run them\n",
    "\n",
    "Now we will use **integer and decimal variables** (each variable has a name (say x) and a value (say 4)) and use them again and again with arithmatics operators in expressions of any level of complexity"
   ]
  },
  {
   "cell_type": "code",
   "execution_count": 19,
   "metadata": {},
   "outputs": [
    {
     "name": "stdout",
     "output_type": "stream",
     "text": [
      "result =  2.400651003804493e+25\n",
      "result1 =  60370.9568\n",
      "result2 =  56891.7888\n"
     ]
    }
   ],
   "source": [
    "x= 45.3\n",
    "y = 567.23\n",
    "z = 98.56\n",
    "a = 78\n",
    "result = pow (((x * y) + (y + z)/a), (y/z))\n",
    "print('result = ', result)\n",
    "result1 = (x + y) * z\n",
    "print('result1 = ', result1)\n",
    "x = 10\n",
    "result2 = (x + y) * z\n",
    "print('result2 = ' , result2)"
   ]
  },
  {
   "cell_type": "markdown",
   "metadata": {},
   "source": [
    "You will notice that running the cell with the expression calculates the result but does not output the result till the variable **result** is used in the **print()** function to output the result.\n",
    "### Let's introduce a new variable type called ***string*** and use them with numeric variables\n",
    "Now we will introduce a new type of variable called **string** and use them along with numeric and decimal variable (you may have noticed the use of that in the ***print()*** function call above).\n",
    "\n",
    "Strings are set of charaters enclosed in single or double quotes.\\ is used to escape the quotes.\n",
    "\n",
    "You can assign a string as the value of a variable"
   ]
  },
  {
   "cell_type": "code",
   "execution_count": 20,
   "metadata": {},
   "outputs": [
    {
     "name": "stdout",
     "output_type": "stream",
     "text": [
      "5\n",
      "It is a string now\n"
     ]
    }
   ],
   "source": [
    "x  = 5\n",
    "print(x)\n",
    "\n",
    "x = \"It is a string now\"\n",
    "print(x)"
   ]
  },
  {
   "cell_type": "code",
   "execution_count": 21,
   "metadata": {},
   "outputs": [
    {
     "data": {
      "text/plain": [
       "'This is a string'"
      ]
     },
     "execution_count": 21,
     "metadata": {},
     "output_type": "execute_result"
    }
   ],
   "source": [
    "'This is a string'"
   ]
  },
  {
   "cell_type": "code",
   "execution_count": 22,
   "metadata": {},
   "outputs": [
    {
     "data": {
      "text/plain": [
       "'This is also a string'"
      ]
     },
     "execution_count": 22,
     "metadata": {},
     "output_type": "execute_result"
    }
   ],
   "source": [
    "\"This is also a string\""
   ]
  },
  {
   "cell_type": "code",
   "execution_count": 23,
   "metadata": {},
   "outputs": [
    {
     "name": "stdout",
     "output_type": "stream",
     "text": [
      "The length of the string a is  91\n"
     ]
    }
   ],
   "source": [
    "a = 'This is a string variable. a used to be a numeric variable, but now it is a string variable'\n",
    "print('The length of the string a is ', len(a))"
   ]
  },
  {
   "cell_type": "code",
   "execution_count": 24,
   "metadata": {},
   "outputs": [
    {
     "name": "stdout",
     "output_type": "stream",
     "text": [
      "a's length is  91 notice the escape of the '\n"
     ]
    }
   ],
   "source": [
    "print('a\\'s length is ' , len(a), 'notice the escape of the \\'')"
   ]
  },
  {
   "cell_type": "markdown",
   "metadata": {},
   "source": [
    "Typing and executing one command per cell is tedious. So let's change the mode of the cell by doing the following two steps"
   ]
  },
  {
   "cell_type": "code",
   "execution_count": 25,
   "metadata": {},
   "outputs": [],
   "source": [
    "from IPython.core.interactiveshell import InteractiveShell\n",
    "InteractiveShell.ast_node_interactivity = \"all\""
   ]
  },
  {
   "cell_type": "markdown",
   "metadata": {},
   "source": [
    "Now type multiple commands in the cell and then click 'run'"
   ]
  },
  {
   "cell_type": "code",
   "execution_count": 26,
   "metadata": {},
   "outputs": [
    {
     "name": "stdout",
     "output_type": "stream",
     "text": [
      "THIS IS A STRING VARIABLE. A USED TO BE A NUMERIC VARIABLE, BUT NOW IT IS A STRING VARIABLE\n",
      "this is a string variable. a used to be a numeric variable, but now it is a string variable\n",
      "Length of a =  91\n"
     ]
    }
   ],
   "source": [
    "print(a.upper()) # converts a to a 'all upper' string\n",
    "print(a.lower()) # converts a to a 'all lower' string\n",
    "print('Length of a = ', len(a)) # shows the length of the string variable a"
   ]
  },
  {
   "cell_type": "markdown",
   "metadata": {},
   "source": [
    "Let's try a few more string functions"
   ]
  },
  {
   "cell_type": "code",
   "execution_count": 27,
   "metadata": {},
   "outputs": [
    {
     "name": "stdout",
     "output_type": "stream",
     "text": [
      "This is a string variable. a used to be a numeric variable, but now it is a string variable\n",
      "T\n",
      "a\n"
     ]
    },
    {
     "data": {
      "text/plain": [
       "17"
      ]
     },
     "execution_count": 27,
     "metadata": {},
     "output_type": "execute_result"
    },
    {
     "data": {
      "text/plain": [
       "29"
      ]
     },
     "execution_count": 27,
     "metadata": {},
     "output_type": "execute_result"
    }
   ],
   "source": [
    "print(a)\n",
    "print(a[0]) # shows the first character of a. indexing starts with 0\n",
    "print(a[8]) # shows the 9th charter of a\n",
    "a.find('variable') # searches for the given other string (not a regular expression) within s, \n",
    "                   # returns the first index where it begins or -1 if not found\n",
    "a.find('used')"
   ]
  },
  {
   "cell_type": "code",
   "execution_count": 28,
   "metadata": {},
   "outputs": [
    {
     "data": {
      "text/plain": [
       "'This is a string VARIABLE. a used to be a numeric VARIABLE, but now it is a string VARIABLE'"
      ]
     },
     "execution_count": 28,
     "metadata": {},
     "output_type": "execute_result"
    },
    {
     "name": "stdout",
     "output_type": "stream",
     "text": [
      "['This is a string variable. a used to be a numeric variable', ' but now it is a string variable']\n",
      "This is a string variable. a used to be a numeric variable--- but now it is a string variable\n"
     ]
    },
    {
     "data": {
      "text/plain": [
       "['This',\n",
       " 'is',\n",
       " 'a',\n",
       " 'string',\n",
       " 'variable.',\n",
       " 'a',\n",
       " 'used',\n",
       " 'to',\n",
       " 'be',\n",
       " 'a',\n",
       " 'numeric',\n",
       " 'variable,',\n",
       " 'but',\n",
       " 'now',\n",
       " 'it',\n",
       " 'is',\n",
       " 'a',\n",
       " 'string',\n",
       " 'variable']"
      ]
     },
     "execution_count": 28,
     "metadata": {},
     "output_type": "execute_result"
    }
   ],
   "source": [
    "a.replace('variable', 'VARIABLE') # replaces all instances of 'variable' with 'VARIABLE'\n",
    "b = a.split(',') # splits the string at ',' and returns the list of substring\n",
    "print(b)\n",
    "c = \"---\".join(b) # a new string with ',' replaced by '---'\n",
    "print(c)\n",
    "a.split() # splits the string a 'white space' and returns the list of all substrings"
   ]
  },
  {
   "cell_type": "markdown",
   "metadata": {},
   "source": [
    "Some examples of string slicing"
   ]
  },
  {
   "cell_type": "code",
   "execution_count": 29,
   "metadata": {},
   "outputs": [
    {
     "data": {
      "text/plain": [
       "'ell'"
      ]
     },
     "execution_count": 29,
     "metadata": {},
     "output_type": "execute_result"
    },
    {
     "data": {
      "text/plain": [
       "'llo World'"
      ]
     },
     "execution_count": 29,
     "metadata": {},
     "output_type": "execute_result"
    },
    {
     "data": {
      "text/plain": [
       "'Hello W'"
      ]
     },
     "execution_count": 29,
     "metadata": {},
     "output_type": "execute_result"
    }
   ],
   "source": [
    "a = 'Hello World'\n",
    "a[1:4] # slice of a starting from index 1 upto but not including index 4\n",
    "a[2:] # slice of a from index 2 till the end\n",
    "a[:7] #slice of a, 7 characters from beginning"
   ]
  },
  {
   "cell_type": "markdown",
   "metadata": {},
   "source": [
    "The data type String has many more functions and there are many more operations you can do on a string. We will move on to the next data type. There are many many examples and documantations on this. The best way to find out what you need is to google it, depending on your need and use the example.\n",
    "\n",
    "**Important note: Strings are immutable, i.e. their value cannot be changed**\n",
    "\n"
   ]
  },
  {
   "cell_type": "code",
   "execution_count": 30,
   "metadata": {},
   "outputs": [
    {
     "data": {
      "text/plain": [
       "'W'"
      ]
     },
     "execution_count": 30,
     "metadata": {},
     "output_type": "execute_result"
    },
    {
     "ename": "TypeError",
     "evalue": "'str' object does not support item assignment",
     "output_type": "error",
     "traceback": [
      "\u001b[1;31m---------------------------------------------------------------------------\u001b[0m",
      "\u001b[1;31mTypeError\u001b[0m                                 Traceback (most recent call last)",
      "\u001b[1;32m<ipython-input-30-ed99bc7a7ee0>\u001b[0m in \u001b[0;36m<module>\u001b[1;34m\u001b[0m\n\u001b[0;32m      1\u001b[0m \u001b[0ma\u001b[0m\u001b[1;33m[\u001b[0m\u001b[1;36m6\u001b[0m\u001b[1;33m]\u001b[0m \u001b[1;31m# 7th character of a\u001b[0m\u001b[1;33m\u001b[0m\u001b[1;33m\u001b[0m\u001b[0m\n\u001b[1;32m----> 2\u001b[1;33m \u001b[0ma\u001b[0m\u001b[1;33m[\u001b[0m\u001b[1;36m6\u001b[0m\u001b[1;33m]\u001b[0m \u001b[1;33m=\u001b[0m \u001b[1;34m'w'\u001b[0m\u001b[1;33m\u001b[0m\u001b[1;33m\u001b[0m\u001b[0m\n\u001b[0m",
      "\u001b[1;31mTypeError\u001b[0m: 'str' object does not support item assignment"
     ]
    }
   ],
   "source": [
    "a[6] # 7th character of a\n",
    "a[6] = 'w'"
   ]
  },
  {
   "cell_type": "markdown",
   "metadata": {},
   "source": [
    "However it is entirely possible to assign a new value to the same string variable by doing some string operation (shown below). The old and new strings both remain intact, but the variable a now points to the new string"
   ]
  },
  {
   "cell_type": "code",
   "execution_count": 31,
   "metadata": {},
   "outputs": [
    {
     "name": "stdout",
     "output_type": "stream",
     "text": [
      "Hello world\n",
      "Hello world and hello again\n"
     ]
    }
   ],
   "source": [
    "a = a.replace('W', 'w')\n",
    "print(a)\n",
    "a = a + ' and hello again'\n",
    "print(a)"
   ]
  },
  {
   "cell_type": "markdown",
   "metadata": {},
   "source": [
    "You have seen some outputs above where a set of things are enclosed within []. \n",
    "\n",
    "This is the variable of type **\"List\"**. We will use List in many places in future.\n",
    "\n",
    "So let's see some featurs and capabilities of a **List**\n",
    "\n",
    "A list can be written as a list of comma-separated values (items) between square brackets. Lists might contain items of different types, but usually the items all have the same type.\n"
   ]
  },
  {
   "cell_type": "code",
   "execution_count": 32,
   "metadata": {},
   "outputs": [
    {
     "data": {
      "text/plain": [
       "[1, 4, 9, 16, 25, 36]"
      ]
     },
     "execution_count": 32,
     "metadata": {},
     "output_type": "execute_result"
    },
    {
     "data": {
      "text/plain": [
       "9"
      ]
     },
     "execution_count": 32,
     "metadata": {},
     "output_type": "execute_result"
    },
    {
     "data": {
      "text/plain": [
       "36"
      ]
     },
     "execution_count": 32,
     "metadata": {},
     "output_type": "execute_result"
    },
    {
     "data": {
      "text/plain": [
       "[16, 25, 36]"
      ]
     },
     "execution_count": 32,
     "metadata": {},
     "output_type": "execute_result"
    },
    {
     "data": {
      "text/plain": [
       "[1, 4]"
      ]
     },
     "execution_count": 32,
     "metadata": {},
     "output_type": "execute_result"
    }
   ],
   "source": [
    "squares = [1, 4, 9,  16, 25, 36]\n",
    "squares\n",
    "squares[2] # The third item in the list\n",
    "squares[-1] # The first item from the end\n",
    "squares[-3:] # Items starting from the 3rd item from the end to the end of the list\n",
    "squares[:-4]  # items from the beginning till the 4th item from the end"
   ]
  },
  {
   "cell_type": "markdown",
   "metadata": {},
   "source": [
    "Lists and contain lists (or any other data type). The contained lists can be up to any levels"
   ]
  },
  {
   "cell_type": "code",
   "execution_count": 2,
   "metadata": {},
   "outputs": [
    {
     "ename": "NameError",
     "evalue": "name 'squares' is not defined",
     "output_type": "error",
     "traceback": [
      "\u001b[1;31m---------------------------------------------------------------------------\u001b[0m",
      "\u001b[1;31mNameError\u001b[0m                                 Traceback (most recent call last)",
      "\u001b[1;32m<ipython-input-2-367c61a229ae>\u001b[0m in \u001b[0;36m<module>\u001b[1;34m\u001b[0m\n\u001b[1;32m----> 1\u001b[1;33m \u001b[0mprint\u001b[0m\u001b[1;33m(\u001b[0m\u001b[0msquares\u001b[0m\u001b[1;33m)\u001b[0m\u001b[1;33m\u001b[0m\u001b[1;33m\u001b[0m\u001b[0m\n\u001b[0m\u001b[0;32m      2\u001b[0m \u001b[0mcubes\u001b[0m \u001b[1;33m=\u001b[0m \u001b[1;33m[\u001b[0m\u001b[1;36m1\u001b[0m\u001b[1;33m,\u001b[0m \u001b[1;36m8\u001b[0m\u001b[1;33m,\u001b[0m \u001b[1;36m27\u001b[0m\u001b[1;33m,\u001b[0m \u001b[1;36m64\u001b[0m\u001b[1;33m,\u001b[0m \u001b[1;36m125\u001b[0m\u001b[1;33m]\u001b[0m\u001b[1;33m\u001b[0m\u001b[1;33m\u001b[0m\u001b[0m\n\u001b[0;32m      3\u001b[0m \u001b[0msquaresandcubes\u001b[0m \u001b[1;33m=\u001b[0m \u001b[1;33m[\u001b[0m\u001b[0msquares\u001b[0m\u001b[1;33m,\u001b[0m \u001b[0mcubes\u001b[0m\u001b[1;33m]\u001b[0m \u001b[1;31m# a list containing squares and cubes\u001b[0m\u001b[1;33m\u001b[0m\u001b[1;33m\u001b[0m\u001b[0m\n\u001b[0;32m      4\u001b[0m \u001b[0mprint\u001b[0m\u001b[1;33m(\u001b[0m\u001b[0msquaresandcubes\u001b[0m\u001b[1;33m)\u001b[0m\u001b[1;33m\u001b[0m\u001b[1;33m\u001b[0m\u001b[0m\n\u001b[0;32m      5\u001b[0m \u001b[0mprint\u001b[0m\u001b[1;33m(\u001b[0m\u001b[0msquares\u001b[0m \u001b[1;33m+\u001b[0m \u001b[0mcubes\u001b[0m\u001b[1;33m)\u001b[0m \u001b[1;31m# print the suares and cubes added together\u001b[0m\u001b[1;33m\u001b[0m\u001b[1;33m\u001b[0m\u001b[0m\n",
      "\u001b[1;31mNameError\u001b[0m: name 'squares' is not defined"
     ]
    }
   ],
   "source": [
    "print(squares)\n",
    "cubes = [1, 8, 27, 64, 125]\n",
    "squaresandcubes = [squares, cubes] # a list containing squares and cubes\n",
    "print(squaresandcubes)\n",
    "print(squares + cubes) # print the suares and cubes added together\n",
    "singles = [1, 2, 3, 4, 5]\n",
    "singlesandsquares = [singles, squares] # a list containing singles and squares\n",
    "print(singlesandsquares)\n",
    "alllists = [singles, squares, cubes] # a list containing all the lists\n",
    "print(alllists)\n",
    "print('*********************')\n",
    "squares = [1, 4, 9,  16, 25, 36]\n",
    "print(squares)\n",
    "print('===============')\n",
    "squares.insert(0, singles)\n",
    "print(squares)\n",
    "squares.insert(-1, cubes)\n",
    "print(squares)"
   ]
  },
  {
   "cell_type": "code",
   "execution_count": 34,
   "metadata": {},
   "outputs": [
    {
     "data": {
      "text/plain": [
       "[[1, 2, 3, 4, 5], [1, 4, 9, 16, 25, 36], [1, 8, 27, 64, 125]]"
      ]
     },
     "execution_count": 34,
     "metadata": {},
     "output_type": "execute_result"
    }
   ],
   "source": [
    "alllists"
   ]
  },
  {
   "cell_type": "code",
   "execution_count": 35,
   "metadata": {},
   "outputs": [
    {
     "data": {
      "text/plain": [
       "[[1, 2, 3, 4, 5], 1, 4, 9, 16, 25, [1, 8, 27, 64, 125], 36]"
      ]
     },
     "execution_count": 35,
     "metadata": {},
     "output_type": "execute_result"
    }
   ],
   "source": [
    "squares"
   ]
  },
  {
   "cell_type": "markdown",
   "metadata": {},
   "source": [
    "Now we have a more complex list (alllists). alllists contains individual items as well as lists as its components. We can access items of a list to any depth"
   ]
  },
  {
   "cell_type": "code",
   "execution_count": 36,
   "metadata": {},
   "outputs": [
    {
     "data": {
      "text/plain": [
       "[1, 2, 3, 4, 5]"
      ]
     },
     "execution_count": 36,
     "metadata": {},
     "output_type": "execute_result"
    },
    {
     "data": {
      "text/plain": [
       "[1, 4, 9, 16, 25, 36]"
      ]
     },
     "execution_count": 36,
     "metadata": {},
     "output_type": "execute_result"
    },
    {
     "data": {
      "text/plain": [
       "[1, 8, 27, 64, 125]"
      ]
     },
     "execution_count": 36,
     "metadata": {},
     "output_type": "execute_result"
    },
    {
     "data": {
      "text/plain": [
       "9"
      ]
     },
     "execution_count": 36,
     "metadata": {},
     "output_type": "execute_result"
    },
    {
     "data": {
      "text/plain": [
       "36"
      ]
     },
     "execution_count": 36,
     "metadata": {},
     "output_type": "execute_result"
    }
   ],
   "source": [
    "alllists[0] # the first element is a list\n",
    "alllists[1] # second element is a list containing individual items as well as other lits\n",
    "alllists[2] # third element is also a list\n",
    "alllists[1][2] # third element of the second element of alllists\n",
    "alllists[1][5] # access and print the 6th element of the 2nd element of alllist\n",
    "\n"
   ]
  },
  {
   "cell_type": "markdown",
   "metadata": {},
   "source": [
    "Another data type very similar to List is a **Tuple**. Tuples are a sets of items enclosed in **()** as opposed to **[]** (for Lists)\n",
    "\n",
    "However, \n",
    "* Unlike Lists, Tuples are immutable (i.e cannot be changed)\n",
    "* Usually Lists contain homegeneous elements while Tuples contain heterogeneous elements\n",
    "* If you have data that doesn't change, implementing it as tuple will guarantee that it remains write-protected.\n",
    "\n",
    "You can do most of the operations that you can do on Lists (as we did above) on a Tuple"
   ]
  },
  {
   "cell_type": "code",
   "execution_count": 37,
   "metadata": {},
   "outputs": [
    {
     "name": "stdout",
     "output_type": "stream",
     "text": [
      "(1, 2, 3, 'Harry', 'Sam', [1, 2, 3, 4, 5], [[1, 2, 3, 4, 5], 1, 4, 9, 16, 25, [1, 8, 27, 64, 125], 36], [1, 8, 27, 64, 125])\n"
     ]
    }
   ],
   "source": [
    "my_tuple = (1, 2, 3, 'Harry', 'Sam', singles, squares, cubes)\n",
    "print(my_tuple)"
   ]
  },
  {
   "cell_type": "code",
   "execution_count": 38,
   "metadata": {},
   "outputs": [
    {
     "name": "stdout",
     "output_type": "stream",
     "text": [
      "(1, 3, 78, 99, 7, 44, 123, 'Harry', 'Sally', 'John', 'Jane...', 'and others')\n"
     ]
    },
    {
     "data": {
      "text/plain": [
       "1"
      ]
     },
     "execution_count": 38,
     "metadata": {},
     "output_type": "execute_result"
    },
    {
     "data": {
      "text/plain": [
       "'and others'"
      ]
     },
     "execution_count": 38,
     "metadata": {},
     "output_type": "execute_result"
    },
    {
     "name": "stdout",
     "output_type": "stream",
     "text": [
      "(1, 3, 78, 99, 7, 44, 123, 1, 3, 78, 99, 7, 44, 123)\n",
      "Oh  ('no', 'no', 'no', 'no')\n"
     ]
    },
    {
     "data": {
      "text/plain": [
       "(1, 3, 78, 99, 7, 44, 123)"
      ]
     },
     "execution_count": 38,
     "metadata": {},
     "output_type": "execute_result"
    },
    {
     "data": {
      "text/plain": [
       "[1, 3, 7, 44, 78, 99, 123]"
      ]
     },
     "execution_count": 38,
     "metadata": {},
     "output_type": "execute_result"
    },
    {
     "data": {
      "text/plain": [
       "123"
      ]
     },
     "execution_count": 38,
     "metadata": {},
     "output_type": "execute_result"
    },
    {
     "data": {
      "text/plain": [
       "1"
      ]
     },
     "execution_count": 38,
     "metadata": {},
     "output_type": "execute_result"
    },
    {
     "data": {
      "text/plain": [
       "355"
      ]
     },
     "execution_count": 38,
     "metadata": {},
     "output_type": "execute_result"
    }
   ],
   "source": [
    "just_number_tuple = (1, 3, 78, 99, 7, 44, 123)\n",
    "just_string_tuple = ('Harry', 'Sally', 'John', 'Jane...', 'and others')\n",
    "print(just_number_tuple + just_string_tuple) # concatenate two tuples\n",
    "just_number_tuple[0]\n",
    "just_string_tuple[-1]\n",
    "#just_number_tuple.insert(-1, 89)- cannot insert or append to a tuple (immutable)\n",
    "print(just_number_tuple *2) # repeats the elements of the tuple twice\n",
    "print('Oh ', ('no', 'no')*2)\n",
    "just_number_tuple\n",
    "sorted(just_number_tuple) # sorts the tuple\n",
    "max(just_number_tuple) # highest item of the tuple\n",
    "min(just_number_tuple) # lowest item of the tuple\n",
    "sum(just_number_tuple)\n"
   ]
  },
  {
   "cell_type": "code",
   "execution_count": 39,
   "metadata": {},
   "outputs": [
    {
     "data": {
      "text/plain": [
       "5"
      ]
     },
     "execution_count": 39,
     "metadata": {},
     "output_type": "execute_result"
    },
    {
     "data": {
      "text/plain": [
       "1"
      ]
     },
     "execution_count": 39,
     "metadata": {},
     "output_type": "execute_result"
    }
   ],
   "source": [
    "max(singles)\n",
    "min(cubes)"
   ]
  },
  {
   "cell_type": "markdown",
   "metadata": {},
   "source": [
    "Even though a Tuple cannot be changed, if some element of the Tuple is mutable (such as a list), that element can be changed,"
   ]
  },
  {
   "cell_type": "code",
   "execution_count": 40,
   "metadata": {},
   "outputs": [
    {
     "data": {
      "text/plain": [
       "(1,\n",
       " 2,\n",
       " 3,\n",
       " 'Harry',\n",
       " 'Sam',\n",
       " [1, 2, 3, 4, 5],\n",
       " [[1, 2, 3, 4, 5], 1, 4, 9, 16, 25, [1, 8, 27, 64, 125], 36],\n",
       " [1, 8, 27, 64, 125])"
      ]
     },
     "execution_count": 40,
     "metadata": {},
     "output_type": "execute_result"
    },
    {
     "data": {
      "text/plain": [
       "(1,\n",
       " 2,\n",
       " 3,\n",
       " 'Harry',\n",
       " 'Sam',\n",
       " [1, 2, 33, 4, 5],\n",
       " [[1, 2, 33, 4, 5], 1, 4, 9, 16, 25, [1, 8, 27, 64, 125], 36],\n",
       " [1, 8, 27, 64, 125])"
      ]
     },
     "execution_count": 40,
     "metadata": {},
     "output_type": "execute_result"
    }
   ],
   "source": [
    "my_tuple\n",
    "my_tuple[5][2] = 33 # The original list [1, 2, 3, 4,5] is now [1, 2, 33, 4, 5]\n",
    "my_tuple"
   ]
  },
  {
   "cell_type": "markdown",
   "metadata": {},
   "source": [
    "A useful operation is iterating over all elements of a Tuple and do something (same can be done with Lists)"
   ]
  },
  {
   "cell_type": "code",
   "execution_count": 41,
   "metadata": {},
   "outputs": [
    {
     "name": "stdout",
     "output_type": "stream",
     "text": [
      "Hello world and hello  Harry\n",
      "Hello world and hello  Sally\n",
      "Hello world and hello  John\n",
      "Hello world and hello  Jane...\n",
      "Hello world and hello  and others\n"
     ]
    }
   ],
   "source": [
    "for name in just_string_tuple:\n",
    "    print('Hello world and hello ', name)"
   ]
  },
  {
   "cell_type": "markdown",
   "metadata": {},
   "source": [
    "This brings us to a new concept called the **program control flow** and **Looping**. The above was an example of a **for loop**. \n",
    "\n",
    "But before we do that we need to learn **relational operators** and **boolean** data types\n",
    "\n",
    "**Relational operators are <, > <=, >=, ==, != etc**. They compare vlues of two variables (usually of the same type) and returns a result of type **Boolean** which has two possible values **TRUE** and **FALSE**. Strings are compared by their lexicographic  order using the ASCII values of each character. \n",
    "\n",
    "**and, or, not** are **Boolean** operators\n",
    "\n",
    "If **a** and **b** are two relational expressions then\n",
    "\n",
    "(a and b) is true if both a is true and b is true. Otherwise, it is false.\n",
    "\n",
    "(a or b) is true if either a is true or b is true. Otherwise, it is false.\n",
    "\n",
    "Comparisons or relational expressions are often used to drive conditional programming logic."
   ]
  },
  {
   "cell_type": "code",
   "execution_count": 42,
   "metadata": {},
   "outputs": [
    {
     "data": {
      "text/plain": [
       "True"
      ]
     },
     "execution_count": 42,
     "metadata": {},
     "output_type": "execute_result"
    },
    {
     "data": {
      "text/plain": [
       "False"
      ]
     },
     "execution_count": 42,
     "metadata": {},
     "output_type": "execute_result"
    },
    {
     "data": {
      "text/plain": [
       "True"
      ]
     },
     "execution_count": 42,
     "metadata": {},
     "output_type": "execute_result"
    },
    {
     "data": {
      "text/plain": [
       "False"
      ]
     },
     "execution_count": 42,
     "metadata": {},
     "output_type": "execute_result"
    },
    {
     "data": {
      "text/plain": [
       "True"
      ]
     },
     "execution_count": 42,
     "metadata": {},
     "output_type": "execute_result"
    },
    {
     "name": "stdout",
     "output_type": "stream",
     "text": [
      "False\n",
      "False\n",
      "True\n",
      "False\n",
      "False\n",
      "True\n",
      "True\n",
      "False\n",
      "True\n"
     ]
    }
   ],
   "source": [
    "x = 6\n",
    "y= 23\n",
    "z = 3\n",
    "x < y # is x less than y\n",
    "x > y # is x greater than y\n",
    "x > z # is x greater than z\n",
    "x == y # is x equal to y\n",
    "z != y # is x not equal to y\n",
    "a = (x > y)\n",
    "print(a)\n",
    "c = 'Apple' # ASCII value of A is 65\n",
    "b = 'banana'\n",
    "d = 'apple' # ASCII value of a is 97\n",
    "a = (b == c)\n",
    "print(a)\n",
    "print(b != c)\n",
    "print (b < c)\n",
    "print(c == d)\n",
    "print(c < d)\n",
    "print((x < y) and (x > z)) # both conditions are TRUE and hence the whole comparison is TRUE\n",
    "print((x < z) and (y > z)) # first comparison is FALSE, the second comparison is TRUE, whole comparison is FALSE\n",
    "print((x < z) or (y > z)) # first comparison is FALSE, the second comparison is TRUE, whole comparison is TRUE"
   ]
  },
  {
   "cell_type": "code",
   "execution_count": 25,
   "metadata": {},
   "outputs": [],
   "source": [
    "from IPython.core.interactiveshell import InteractiveShell\n",
    "InteractiveShell.ast_node_interactivity = \"all\""
   ]
  },
  {
   "cell_type": "markdown",
   "metadata": {},
   "source": [
    "## We will explore a few more data structures and programming constructs.\n",
    "\n",
    "### They are dictionary, default-dictionary, counter, set\n",
    "\n",
    "### sorting, word count, list comprehension, generators, iterators in python. You can find similar data structures and programming constructs in other languages such as C#, C++, Java etc.\n",
    "\n",
    "## Set\n",
    "\n",
    "* Sets are unordered.\n",
    "* Set elements are unique. Duplicate elements are not allowed.\n",
    "* A set itself may be modified, but the elements contained in the set must be of an immutable type.\n",
    "* Set elements are comma separated and enclosed in a pair of \"curly braces\" as opposed to \"pair of square brackets\" as in a list\n",
    "* set elements can be of any mixed types\n",
    "* you can pass an 'iterable' (a data structure that you can iterate over, such as a list or a tuple) as the argument to create a set\n",
    "* some of the set operators are len() i.e. size, in(), i.e.membership, union, intersection, difference and many others\n",
    "\n",
    "### Create some sets and explore their properties and operations"
   ]
  },
  {
   "cell_type": "code",
   "execution_count": 26,
   "metadata": {},
   "outputs": [
    {
     "name": "stdout",
     "output_type": "stream",
     "text": [
      "(1, 23, 32, 156)\n",
      "('a', 'big', 'brown', 'fox', 'jumped', 'over', 'the', 'lazy', 'dogs')\n",
      "(1, 23, 32, 156, 'a', 'big', 'brown', 'fox', 'jumped', 'over', 'the', 'lazy', 'dogs', 1, 23, 32, 156, 'a', 'big', 'brown', 'fox', 'jumped', 'over', 'the', 'lazy', 'dogs')\n",
      "=======================================================\n",
      "[1, 23, 32, 156]\n",
      "['a', 'big', 'brown', 'fox', 'jumped', 'over', 'the', 'lazy', 'dogs']\n",
      "[1, 23, 32, 156, 'a', 'big', 'brown', 'fox', 'jumped', 'over', 'the', 'lazy', 'dogs', 1, 23, 32, 156, 'a', 'big', 'brown', 'fox', 'jumped', 'over', 'the', 'lazy', 'dogs']\n",
      "=======================================================\n",
      "{32, 1, 156, 23}\n",
      "{'over', 'brown', 'jumped', 'fox', 'big', 'lazy', 'the', 'dogs', 'a'}\n",
      "{32, 1, 156, 23}\n",
      "{'over', 'brown', 'jumped', 'fox', 'big', 'lazy', 'the', 'dogs', 'a'}\n",
      "=======================================================\n",
      "(1, 23, 32, 156, 'a', 'big', 'brown', 'fox', 'jumped', 'over', 'the', 'lazy', 'dogs', 1, 23, 32, 156, 'a', 'big', 'brown', 'fox', 'jumped', 'over', 'the', 'lazy', 'dogs')\n",
      "[1, 23, 32, 156, 'a', 'big', 'brown', 'fox', 'jumped', 'over', 'the', 'lazy', 'dogs', 1, 23, 32, 156, 'a', 'big', 'brown', 'fox', 'jumped', 'over', 'the', 'lazy', 'dogs']\n",
      "=======================================================\n",
      "{32, 1, 'big', 'over', 'brown', 'jumped', 'fox', 23, 'lazy', 'the', 156, 'dogs', 'a'}\n",
      "{32, 1, 'big', 'over', 'brown', 'jumped', 'fox', 23, 'lazy', 'the', 156, 'dogs', 'a'}\n",
      "=======================================================\n"
     ]
    }
   ],
   "source": [
    "# Define some tuples\n",
    "\n",
    "tuple1 = (1, 23, 32, 156)\n",
    "tuple2 = ('a', 'big', 'brown', 'fox', 'jumped', 'over', 'the', 'lazy', 'dogs')\n",
    "\n",
    "# define some lists\n",
    "\n",
    "list1 = [1, 23, 32, 156]\n",
    "list2 = ['a', 'big', 'brown', 'fox', 'jumped', 'over', 'the', 'lazy', 'dogs']\n",
    "\n",
    "print(tuple1)\n",
    "print(tuple2)\n",
    "print(tuple1 +tuple2+ tuple1 + tuple2)\n",
    "\n",
    "print('=======================================================')\n",
    "\n",
    "print(list1)\n",
    "print(list2)\n",
    "print(list1 +list2 + list1 + list2)\n",
    "\n",
    "print('=======================================================')\n",
    "\n",
    "# Crete sets from the tuples\n",
    "\n",
    "s1 = set(tuple1)\n",
    "s2 = set(tuple2)\n",
    "\n",
    "# create sets from the lists\n",
    "\n",
    "s3 = set(list1)\n",
    "s4 = set(list2)\n",
    "\n",
    "print(s1)\n",
    "print(s2)\n",
    "print(s3)\n",
    "print(s4)\n",
    "\n",
    "print('=======================================================')\n",
    "\n",
    "tuple1212 = tuple1 + tuple2 + tuple1 + tuple2\n",
    "list1212 = list1 + list2 + list1 + list2\n",
    "print(tuple1212)\n",
    "print(list1212)\n",
    "print('=======================================================')\n",
    "\n",
    "# Now make sets from the combined tuples and combined lists\n",
    "\n",
    "s5 = set(tuple1212)\n",
    "s6 = set(list1212)\n",
    "print(s5)\n",
    "print(s6)\n",
    "print('=======================================================')\n",
    "\n",
    "# Notice that the duplicates are removed in the sets\n"
   ]
  },
  {
   "cell_type": "markdown",
   "metadata": {},
   "source": [
    "## Dictionary (dict)\n",
    "\n",
    "**Dictionaries** are Python’s implementation of a data structure that is more generally known as an **associative array**. A dictionary consists of a collection of key-value pairs. Each key-value pair maps the key to its associated value.\n",
    "\n",
    "You can define a dictionary by enclosing a comma-separated list of key-value pairs in curly braces ({}). A colon (:) separates each key from its associated value:\n",
    "\n",
    "A dictionary key can be of any type (1. 2.35, 'Boston' etc.) even a Boolean (such as TRUE, FALSE etc), not sure why anyone will do that\n",
    "\n",
    "Also a key in a dictionary must be unique. **If a key is repeated, the second occurrance will override the first**\n",
    "\n",
    "### A good use of dict is in a word count function where the count of the occurrance of a word is shown for each word\n",
    "\n",
    "### Explore use of a dictionary in a word count program after you explore counter"
   ]
  },
  {
   "cell_type": "code",
   "execution_count": 27,
   "metadata": {},
   "outputs": [
    {
     "name": "stdout",
     "output_type": "stream",
     "text": [
      "{'Colorado': 'Rockies', 'Boston': 'Red Sox', 'Minnesota': 'Twins', 'Milwaukee': 'Brewers', 'Seattle': 'Mariners'}\n"
     ]
    }
   ],
   "source": [
    "MLB_team = {'Colorado' : 'Rockies', 'Boston'   : 'Red Sox', 'Minnesota': 'Twins','Milwaukee': 'Brewers','Seattle'  : 'Mariners'}\n",
    "\n",
    "print(MLB_team)"
   ]
  },
  {
   "cell_type": "code",
   "execution_count": 44,
   "metadata": {},
   "outputs": [
    {
     "name": "stdout",
     "output_type": "stream",
     "text": [
      "{'Colorado': 'Rockies', 'Boston': 'Red Sox', 'Minnesota': 'Twins', 'Milwaukee': 'Brewers', 'Seattle': 'Mariners'}\n",
      "=========================================================\n",
      "{'Colorado': 'Rockies', 'Boston': 'Red Sox', 'Minnesota': 'Twins', 'Milwaukee': 'Brewers', 'Seattle': 'Mariners'}\n",
      "Red Sox\n",
      "{'Colorado': 'Rockies', 'Boston': 'Red Sox', 'Minnesota': 'Twins', 'Milwaukee': 'Brewers', 'Seattle': 'Sea Hawks', 'Atlanta': 'Braves'}\n"
     ]
    },
    {
     "data": {
      "text/plain": [
       "{'Colorado': 'Rockies',\n",
       " 'Boston': 'Red Sox',\n",
       " 'Minnesota': 'Twins',\n",
       " 'Milwaukee': 'Brewers',\n",
       " 'Seattle': 'Sea Hawks',\n",
       " 'Atlanta': 'Braves'}"
      ]
     },
     "execution_count": 44,
     "metadata": {},
     "output_type": "execute_result"
    },
    {
     "name": "stdout",
     "output_type": "stream",
     "text": [
      "{'Colorado': 'Rockies', 'Boston': 'Red Sox', 'Minnesota': 'Twins', 'Milwaukee': 'Brewers', 'Seattle': 'Sea Hawks', 'Atlanta': 'Braves'}\n",
      "{'Colorado': 'Rockies', 'Boston': 'Red Sox', 'Minnesota': 'Twins', 'Milwaukee': 'Brewers', 'Seattle': 'Sea Hawks', 'Atlanta': 'Braves'}\n"
     ]
    },
    {
     "data": {
      "text/plain": [
       "'Rockies'"
      ]
     },
     "execution_count": 44,
     "metadata": {},
     "output_type": "execute_result"
    },
    {
     "data": {
      "text/plain": [
       "'Red Sox'"
      ]
     },
     "execution_count": 44,
     "metadata": {},
     "output_type": "execute_result"
    },
    {
     "data": {
      "text/plain": [
       "'Mariners'"
      ]
     },
     "execution_count": 44,
     "metadata": {},
     "output_type": "execute_result"
    },
    {
     "name": "stdout",
     "output_type": "stream",
     "text": [
      "{0: 'Rockies', 1: 'Red Sox', 2: 'Twins', 3: 'Brewers', 4: 'Mariners', 5: 'Braves'}\n"
     ]
    },
    {
     "data": {
      "text/plain": [
       "'Brewers'"
      ]
     },
     "execution_count": 44,
     "metadata": {},
     "output_type": "execute_result"
    },
    {
     "name": "stdout",
     "output_type": "stream",
     "text": [
      "============================================================\n"
     ]
    },
    {
     "data": {
      "text/plain": [
       "dict"
      ]
     },
     "execution_count": 44,
     "metadata": {},
     "output_type": "execute_result"
    },
    {
     "name": "stdout",
     "output_type": "stream",
     "text": [
      "Joe    Fonebone     51     Edna\n",
      "['Ralph', 'Betty', 'Joey']\n",
      "{'dog': 'Fido', 'cat': 'Sox'}\n",
      "Fido Sox\n",
      "===================================================\n",
      "{42: 'aaa', 2.78: 'bbb', True: 'ccc'}\n",
      "aaa\n",
      "bbb\n",
      "ccc\n"
     ]
    }
   ],
   "source": [
    "# A dictionary can also be defined as a list of tuples (of key:value pairs)\n",
    "\n",
    "new_MLB_team = dict([('Colorado', 'Rockies'), ('Boston', 'Red Sox'), ('Minnesota', 'Twins'), ('Milwaukee', 'Brewers'), ('Seattle', 'Mariners')])\n",
    "\n",
    "print(new_MLB_team)\n",
    "\n",
    "print('=========================================================')\n",
    "\n",
    "# If the key values are simple strings they can be specified as keyword arguments. So here is yet another way to define MLB_team:\n",
    "\n",
    "yet_another_MLB_team = dict(Colorado='Rockies', Boston='Red Sox', Minnesota='Twins', Milwaukee='Brewers', Seattle='Mariners')\n",
    "\n",
    "print(yet_another_MLB_team)\n",
    "\n",
    "# Access dictionary members using their index. Indexes are case sensitive and gives KeyError if an index is not found\n",
    "\n",
    "print(MLB_team['Boston'])\n",
    "# print(MLB_team['boston'])\n",
    "\n",
    "# print(MLB_team['Toronto'])\n",
    "\n",
    "# Add to a dictionary\n",
    "\n",
    "MLB_team['Atlanta'] = 'Braves'\n",
    "\n",
    "print(MLB_team)\n",
    "\n",
    "# You can update the 'value' of a key-value pair\n",
    "\n",
    "MLB_team[\"Seattle\"] = 'Sea Hawks'\n",
    "MLB_team\n",
    "print(MLB_team)  # Both form of outputs are fine\n",
    "\n",
    "MLB_team_list = ['Rockies', 'Red Sox', 'Twins', 'Brewers', 'Mariners']\n",
    "\n",
    "# You can access the list by numeric index\n",
    "print(MLB_team)\n",
    "MLB_team_list[0]\n",
    "MLB_team_list[1]\n",
    "MLB_team_list[4]\n",
    "\n",
    "# But you cannot access a dictionary with numeric index unless numeric keys are used in the dictionary definition\n",
    "\n",
    "# This will give an error\n",
    "# MLB_team[3]\n",
    "\n",
    "# This will not after the dictionary is defined with numeric indices\n",
    "numeric_MLB_team = {0 : 'Rockies', 1   : 'Red Sox', 2: 'Twins',3: 'Brewers',4  : 'Mariners', 5: 'Braves'}\n",
    "\n",
    "print(numeric_MLB_team)\n",
    "numeric_MLB_team[3]\n",
    "\n",
    "print('============================================================')\n",
    "\n",
    "# Build a dictionary incrementally\n",
    "\n",
    "person = {}\n",
    "type(person)\n",
    "\n",
    "person['fname'] = 'Joe'\n",
    "person['lname'] = 'Fonebone'\n",
    "person['age'] = 51\n",
    "person['spouse'] = 'Edna'\n",
    "person['children'] = ['Ralph', 'Betty', 'Joey']  # Notice the use of a list\n",
    "person['pets'] = {'dog': 'Fido', 'cat': 'Sox'} # Notice the use of a dictionary\n",
    "\n",
    "print (person['fname'], '  ', person['lname'], '   ', person['age'], '   ', person['spouse'])\n",
    "print(person['children'])\n",
    "print(person['pets'])\n",
    "print(person['pets']['dog'], person['pets']['cat']) # Notice the second level of indexing\n",
    "\n",
    "print('===================================================')\n",
    "\n",
    "foo = {42: 'aaa', 2.78: 'bbb', True: 'ccc'}\n",
    "print(foo)\n",
    "print(foo[42])\n",
    "print(foo[2.78])\n",
    "print(foo[True])"
   ]
  },
  {
   "cell_type": "markdown",
   "metadata": {},
   "source": [
    "## Default Dictionary (defaultdict)\n",
    "\n",
    "**Defaultdict** is a container like dictionaries present in the module collections. Defaultdict is a sub-class of the dict class that returns a dictionary-like object. \n",
    "\n",
    "The functionality of both dictionaries and defualtdict are almost same except for the fact that **defualtdict never raises a KeyError. It provides a default value for the key that does not exists.**\n",
    "\n",
    "**Need to import defaultdict from Collections library first**\n",
    "\n",
    "### Explore more uses of defaultdict"
   ]
  },
  {
   "cell_type": "code",
   "execution_count": 46,
   "metadata": {},
   "outputs": [
    {
     "name": "stdout",
     "output_type": "stream",
     "text": [
      "1\n",
      "2\n",
      "Not Present\n"
     ]
    }
   ],
   "source": [
    " # Function to return a default values for keys that is not present \n",
    "from collections import defaultdict\n",
    "def def_value(): \n",
    "    return \"Not Present\"\n",
    "      \n",
    "# Defining the dict \n",
    "d = defaultdict(def_value) \n",
    "d[\"a\"] = 1\n",
    "d[\"b\"] = 2\n",
    "  \n",
    "print(d[\"a\"]) \n",
    "print(d[\"b\"]) \n",
    "print(d[\"c\"]) "
   ]
  },
  {
   "cell_type": "markdown",
   "metadata": {},
   "source": [
    "## Counter\n",
    "\n",
    "**Python Counter**, is a subclass of ‘dict’. It keeps a count of the number of occurrences of any value in the container. Simply speaking, if you add the value ‘hello’ thrice in the container, it will remember that you added it thrice.\n",
    "\n",
    "### See examples of\n",
    "* Basic Counter\n",
    "* Some Counter arithmatic\n",
    "* Creating a word count fuction using disctionary and Counter\n",
    "\n",
    "## Explore more on Counter and combining it with dictionary"
   ]
  },
  {
   "cell_type": "code",
   "execution_count": 58,
   "metadata": {},
   "outputs": [
    {
     "name": "stdout",
     "output_type": "stream",
     "text": [
      "Counter({'a': 3, 'b': 2, 'c': 1})\n",
      "3    2    1\n",
      "Counter({'l': 2, 'H': 1, 'e': 1, 'o': 1})\n",
      "Counter({'l': 3, 'o': 2, 'H': 1, 'e': 1, ' ': 1, 'w': 1, 'r': 1, 'd': 1})\n"
     ]
    },
    {
     "data": {
      "text/plain": [
       "[('l', 3), ('o', 2)]"
      ]
     },
     "execution_count": 58,
     "metadata": {},
     "output_type": "execute_result"
    },
    {
     "data": {
      "text/plain": [
       "[('l', 3), ('o', 2), ('H', 1), ('e', 1)]"
      ]
     },
     "execution_count": 58,
     "metadata": {},
     "output_type": "execute_result"
    },
    {
     "name": "stdout",
     "output_type": "stream",
     "text": [
      "Counter({'l': 5, 'o': 3, 'H': 2, 'e': 2, ' ': 1, 'w': 1, 'r': 1, 'd': 1})\n",
      "Counter({'l': 1, 'o': 1, ' ': 1, 'w': 1, 'r': 1, 'd': 1})\n",
      "=============================================================\n",
      "{'the': 2, 'quick': 1, 'brown': 1, 'fox': 1, 'jumps': 1, 'over': 1, 'lazy': 1, 'dog.': 1}\n"
     ]
    }
   ],
   "source": [
    "# first import Counter from Collections\n",
    "\n",
    "from collections import Counter\n",
    "\n",
    "c=Counter(['a','b','c','a','b','a'])\n",
    "\n",
    "print(c)\n",
    "\n",
    "print(c['a'], '  ', c['b'], '  ', c['c'])\n",
    "\n",
    "s1 = 'Hello'\n",
    "c1 = Counter(s1)\n",
    "print(c1)\n",
    "\n",
    "s2 ='Hello world'\n",
    "c2 = Counter(s2)\n",
    "print(c2)\n",
    "\n",
    "# Use the most_common() function to get the top n counts\n",
    "c2.most_common(2)\n",
    "c2.most_common(4)\n",
    "\n",
    "# You can do counter arithmatic where the counts of the elements added or subtracted \n",
    "\n",
    "print(c1 + c2)\n",
    "print(c2 - c1)\n",
    "\n",
    "print('=============================================================')\n",
    "\n",
    "# Defining a Word Count function using dictionary a Counter\n",
    "\n",
    "def word_count(str):\n",
    "    counts = dict()  # Create an empty dictionary\n",
    "    words = str.split() # Split the string into words\n",
    "\n",
    "    for word in words:  # Iterate through words and update count\n",
    "        if word in counts:\n",
    "            counts[word] += 1\n",
    "        else:\n",
    "            counts[word] = 1\n",
    "\n",
    "    return counts\n",
    "\n",
    "print( word_count('the quick brown fox jumps over the lazy dog.'))\n"
   ]
  },
  {
   "cell_type": "markdown",
   "metadata": {},
   "source": [
    "## Driving program logic, aka control flow in python\n",
    "\n",
    "We will now use these in driving program logic (if (condition) elif ) etc. also to drive loops (for, while loops).\n",
    "\n",
    "We are not quite finished with Python data types. There are some more advanced data types/Data Structures. They are **Dictionary**, **Defaultdict**, **Set**, **Counter** etc. We will cover them, on an as-needed basis, if and when we cover more advanced aspects of the three parts (Descriptive, Predictive, Prescriptive) of Business Analytics using more advanced capabilities of Python.\n",
    "\n",
    "Now, let's continue with Python **Program Control, Looping** etc.\n",
    "## ***if, elif, elif,......else statement***\n",
    "\n",
    "**if (condition/s) (do something) elif (different condition/s) (do something else) else (do the last-resort thing)**\n",
    "\n",
    "There can be any number of **elif (different condition/s)** segments in the statement\n",
    "\n",
    "The **(condition/s)** can be a single condition or a combination of multiple conditions joined together with **and**, **or**, **not**.\n",
    "\n",
    "If the **(condition/s)** evaluates to **TRUE**, the corresponding **(do something)** part of the program executes. If it evaluates to **FALSE** the **elif (different condition/s)** part is evaluated and the same process repeates till one of the set of **conditions** evaluates to **TRUE** and the corresponding **do-something** part executes. If all the if and elif conditions fail, the program control goes the **(do the last-resort thing)** part of the program and that part of the code is executed."
   ]
  },
  {
   "cell_type": "code",
   "execution_count": 43,
   "metadata": {},
   "outputs": [
    {
     "name": "stdout",
     "output_type": "stream",
     "text": [
      "The number  55  is either less than 10 or greater than 30\n"
     ]
    }
   ],
   "source": [
    "my_cond = 55\n",
    "if (my_cond < 0):\n",
    "    print('The number ', my_cond, 'is negative')\n",
    "elif (my_cond == 0):\n",
    "    print('The number ', my_cond, 'is zero')\n",
    "elif (my_cond >= 10) and (my_cond <= 20):\n",
    "    print('The number ', my_cond, ' is positive and is beetween 10 and 20')\n",
    "elif (my_cond >= 20) and (my_cond < 30):\n",
    "    print('The number ', my_cond, ' is between 20 and 30')\n",
    "else:\n",
    "    print('The number ', my_cond, ' is either less than 10 or greater than 30')"
   ]
  },
  {
   "cell_type": "markdown",
   "metadata": {},
   "source": [
    "This shows how the control flow of program can be directed to different parts of the overall program using various combinations of relational expressions."
   ]
  },
  {
   "cell_type": "code",
   "execution_count": 44,
   "metadata": {},
   "outputs": [
    {
     "name": "stdout",
     "output_type": "stream",
     "text": [
      "The number  15  is positive and is beetween 10 and 20\n",
      "This condition works\n"
     ]
    }
   ],
   "source": [
    "my_cond = 15\n",
    "if (my_cond < 0):\n",
    "    print('The number ', my_cond, 'is negative')\n",
    "    print('condition-1 works')\n",
    "elif (my_cond == 0):\n",
    "    print('The number ', my_cond, 'is zero')\n",
    "    print('condition-2 works')\n",
    "elif (my_cond >= 10) and (my_cond <= 20):\n",
    "    print('The number ', my_cond, ' is positive and is beetween 10 and 20')\n",
    "    print('This condition works')\n",
    "elif (my_cond >= 20) and (my_cond < 30):\n",
    "    print('condition-3 works')\n",
    "    print('The number ', my_cond, ' is between 20 and 30')\n",
    "else:\n",
    "    print('The number ', my_cond, ' is either less than 10 or greater than 30')"
   ]
  },
  {
   "cell_type": "markdown",
   "metadata": {},
   "source": [
    "# ***range() function***\n",
    "**range()** is a useful basic Python function that can help the program to traverse through (iterate) a set of values (numeric, string) and when combined with **if-elif-else** statements can drive different program logics\n",
    "\n",
    "The Python built-in function **range()** creates **Lists** containing arithmatic progression. "
   ]
  },
  {
   "cell_type": "code",
   "execution_count": 45,
   "metadata": {},
   "outputs": [
    {
     "data": {
      "text/plain": [
       "[0, 1, 2, 3, 4, 5, 6, 7, 8, 9]"
      ]
     },
     "execution_count": 45,
     "metadata": {},
     "output_type": "execute_result"
    },
    {
     "data": {
      "text/plain": [
       "[1, 5, 9, 13, 17]"
      ]
     },
     "execution_count": 45,
     "metadata": {},
     "output_type": "execute_result"
    },
    {
     "data": {
      "text/plain": [
       "[-10, -30, -50, -70, -90, -110, -130, -150, -170, -190]"
      ]
     },
     "execution_count": 45,
     "metadata": {},
     "output_type": "execute_result"
    }
   ],
   "source": [
    "list(range(10)) # generates a list of 10 items starting at 0 with the (default) increment of 1\n",
    "                # in Python 3.7 you need to wrap the range() function inside a a list() function to \n",
    "                # see the output immediately\n",
    "                # this is a bit counter-intuitive but it is for programming efficiency -- we will NOT worry about it\n",
    "list(range(1, 20, 4)) # generates a list from 1 to 20 with an increment 0f 4\n",
    "list(range(-10, -200, -20)) # range() negative starting and ending points with negative increments"
   ]
  },
  {
   "cell_type": "markdown",
   "metadata": {},
   "source": [
    "A very good use of range() is to iterate over a list, e.g in a for loop"
   ]
  },
  {
   "cell_type": "code",
   "execution_count": 46,
   "metadata": {},
   "outputs": [
    {
     "name": "stdout",
     "output_type": "stream",
     "text": [
      "The number is  1 it's square is 1\n",
      "The number is  2 it's square is 4\n",
      "The number is  3 it's square is 9\n",
      "The number is  4 it's square is 16\n",
      "The number is  5 it's square is 25\n",
      "The number is  6 it's square is 36\n",
      "The number is  7 it's square is 49\n",
      "The number is  8 it's square is 64\n",
      "The number is  9 it's square is 81\n",
      "0 Mary\n",
      "1 had\n",
      "2 a\n",
      "3 little\n",
      "4 lamb\n"
     ]
    }
   ],
   "source": [
    "for i in range(1, 10):\n",
    "    print('The number is ', i, 'it\\'s square is', i**2) # for the sequence of the numbers in range(1, 10)\n",
    "                                                        # print the number and it's square\n",
    "        \n",
    "a = ['Mary', 'had', 'a', 'little', 'lamb'] # create a list of words\n",
    "for i in range(len(a)): # for the length of the list print the print the index and the \n",
    "    print(i, a[i])      # word at the index"
   ]
  },
  {
   "cell_type": "markdown",
   "metadata": {},
   "source": [
    "## ***for loop***\n",
    "We have already used the **for** statement, also called the **for loop** in some of the above examples.\n",
    "\n",
    "Let's understand the syntax of a **for loop**\n",
    "\n",
    "**for (condition == TRUE) (do something)**. As long as the **condition** evaluatesto TRUE the **do something** continues to execute"
   ]
  },
  {
   "cell_type": "code",
   "execution_count": 47,
   "metadata": {},
   "outputs": [
    {
     "name": "stdout",
     "output_type": "stream",
     "text": [
      "The number is  1\n",
      "The number is  2\n",
      "The number is  3\n",
      "The number is  4\n",
      "The number is  5\n",
      "The number is  6\n",
      "The number is  7\n",
      "The number is  8\n",
      "The number is  9\n",
      "===============\n",
      "The number is 1\n",
      "Square of the number is  1\n",
      "The number is 6\n",
      "Square of the number is  36\n",
      "The number is 11\n",
      "Square of the number is  121\n",
      "The number is 16\n",
      "Square of the number is  256\n"
     ]
    }
   ],
   "source": [
    "for i in range(1, 10):\n",
    "    print('The number is ', i)\n",
    "print('===============')\n",
    "for i in range(1, 20, 5):\n",
    "    print('The number is', i)\n",
    "    print('Square of the number is ', i**2)"
   ]
  },
  {
   "cell_type": "code",
   "execution_count": 48,
   "metadata": {},
   "outputs": [
    {
     "name": "stdout",
     "output_type": "stream",
     "text": [
      "The number is 12\n",
      "Square of the number 144\n",
      "The number is 45\n",
      "Square of the number 2025\n",
      "The number is 25\n",
      "Square of the number 625\n",
      "The number is 234\n",
      "Square of the number 54756\n"
     ]
    }
   ],
   "source": [
    "my_list = [12, 45, 25, 234]\n",
    "for i in my_list:\n",
    "    print('The number is', i)\n",
    "    print('Square of the number', i**2)"
   ]
  },
  {
   "cell_type": "markdown",
   "metadata": {},
   "source": [
    "This can also be written as below with a different looping method and with a few extra lines of code"
   ]
  },
  {
   "cell_type": "code",
   "execution_count": 49,
   "metadata": {},
   "outputs": [
    {
     "name": "stdout",
     "output_type": "stream",
     "text": [
      "The number is  1\n",
      "The number is  2\n",
      "The number is  3\n",
      "The number is  4\n",
      "The number is  5\n",
      "The number is  6\n",
      "The number is  7\n",
      "The number is  8\n",
      "The number is  9\n"
     ]
    }
   ],
   "source": [
    "i = 1\n",
    "while(i < 10):   # This is another type of loop, we explain the \"while\" loop in more details after this\n",
    "    print('The number is ', i)\n",
    "    i += 1 # increment the value of i, can also be written as i = i + 1"
   ]
  },
  {
   "cell_type": "markdown",
   "metadata": {},
   "source": [
    "More examples of **for loops**"
   ]
  },
  {
   "cell_type": "code",
   "execution_count": 50,
   "metadata": {},
   "outputs": [
    {
     "name": "stdout",
     "output_type": "stream",
     "text": [
      "Hello  Mr. Harry\n",
      "Hello  Ms. Jane\n",
      "Hello  Ms. Harriet\n",
      "Hello  Mr. John\n",
      "The arithmatic progression sum =  5050\n"
     ]
    }
   ],
   "source": [
    "people = ['Harry', 'Jane','Harriet', 'John'] # 2 males and 2 females\n",
    "for name in people:\n",
    "    if name in ['Harry', 'John']:\n",
    "        salutation = 'Mr.'  # if male, salutation is Mr.\n",
    "    elif name in ['Harriet', 'Jane']:\n",
    "        salutation = 'Ms.'  # if female salutation is Ms.\n",
    "    print('Hello ', salutation, name) # say hello with proper etiquette\n",
    "    \n",
    "my_sum = 0 # compute the arithmatic progression sum\n",
    "for i in range(1, 101):  # the end of the range is not included\n",
    "    my_sum += i\n",
    "print('The arithmatic progression sum = ', my_sum)"
   ]
  },
  {
   "cell_type": "markdown",
   "metadata": {},
   "source": [
    "## ***while loop***\n",
    "Moving on to **while loop**\n",
    "\n",
    "**while (condition == TRUE) (do something)**. Just like the **for loop**, as long as the condition evaluatesto TRUE the do something continues to execute"
   ]
  },
  {
   "cell_type": "code",
   "execution_count": 51,
   "metadata": {},
   "outputs": [
    {
     "name": "stdout",
     "output_type": "stream",
     "text": [
      "Hello  Mr. Harry\n",
      "Hello  Ms. Jane\n",
      "Hello  Ms. Harriet\n",
      "Hello  Mr. John\n"
     ]
    }
   ],
   "source": [
    "i = 0\n",
    "while i < len(people):\n",
    "    name = people[i]\n",
    "    if name in ['Harry', 'John']:\n",
    "        salutation = 'Mr.'  # if male, salutation is Mr.\n",
    "    elif name in ['Harriet', 'Jane']:\n",
    "        salutation = 'Ms.'  # if female salutation is Ms.\n",
    "    \n",
    "    print('Hello ', salutation, name) # say hello with proper etiquette\n",
    "    i += 1"
   ]
  },
  {
   "cell_type": "code",
   "execution_count": 52,
   "metadata": {},
   "outputs": [
    {
     "name": "stdout",
     "output_type": "stream",
     "text": [
      "RANDOM 73\n",
      "RANDOM 95\n",
      "The number is odd and greater than 75\n"
     ]
    }
   ],
   "source": [
    "import random\n",
    "\n",
    "while True:\n",
    "    n = random.randint(0, 100) # get a random interger number between 0 and 100\n",
    "    print(\"RANDOM\", n)   # print the number\n",
    "\n",
    "    if (n % 2 != 0) and (n >= 75):   # if the number is odd and is greater than 75, stop\n",
    "        print(\"The number is odd and greater than 75\")\n",
    "        break                        # we will talk about \"break\" and \"continue\" after this"
   ]
  },
  {
   "cell_type": "markdown",
   "metadata": {},
   "source": [
    "## ***Break and Continue in loops***\n",
    "**break** and **continue** are used to continue or break out of a **for** and a **while** loop. In the previous example the loop will continue to execute forever since the contidion is **TRUE** forever. Only when the **number is odd and is greater than 75** the execution will break out of the execution loop.\n",
    "\n",
    "**continue** allows the loop to continue till the **break** condition is met. Usually **break and continue** are used together to bring a symmetry in the code."
   ]
  },
  {
   "cell_type": "code",
   "execution_count": 53,
   "metadata": {},
   "outputs": [
    {
     "name": "stdout",
     "output_type": "stream",
     "text": [
      "Pet cat\n",
      "Pet dog\n",
      "panther  is not a pet\n",
      "Pet parakeet\n"
     ]
    }
   ],
   "source": [
    "list = [\"cat\", \"dog\", \"panther\", \"parakeet\"]\n",
    "\n",
    "i = 0\n",
    "while i < len(list):\n",
    "    element = list[i]\n",
    "    i += 1\n",
    "\n",
    "    # Test for this element.\n",
    "    if element == \"panther\":\n",
    "        print(element, ' is not a pet')\n",
    "        continue\n",
    "\n",
    "    # Display element.\n",
    "    print(\"Pet\", element)"
   ]
  },
  {
   "cell_type": "markdown",
   "metadata": {},
   "source": [
    "## More Programming constructs in python\n",
    "\n",
    "## Sorting\n",
    "\n",
    "* Sorting can be done on lists or tuples\n",
    "* Sorting can ascending or descending\n",
    "* Cannot sort lists or tuples of heterogeneous data types"
   ]
  },
  {
   "cell_type": "code",
   "execution_count": 1,
   "metadata": {},
   "outputs": [
    {
     "name": "stdout",
     "output_type": "stream",
     "text": [
      "[-55, 1, 4, 34, 234]\n",
      "[-55, 1, 4, 34, 234]\n",
      "[234, 34, 4, 1, -55]\n",
      "[234, 34, 4, 1, -55]\n",
      "['This', 'a', 'for', 'is', 'list', 'sorting', 'testing']\n",
      "['testing', 'sorting', 'list', 'is', 'for', 'a', 'This']\n",
      "==============================================================\n",
      "[1, 34, 4, 234, -55]\n",
      "[-55, 1, 4, 34, 234]\n",
      "[234, 34, 4, 1, -55]\n"
     ]
    },
    {
     "ename": "TypeError",
     "evalue": "'<' not supported between instances of 'str' and 'int'",
     "output_type": "error",
     "traceback": [
      "\u001b[1;31m---------------------------------------------------------------------------\u001b[0m",
      "\u001b[1;31mTypeError\u001b[0m                                 Traceback (most recent call last)",
      "\u001b[1;32m<ipython-input-1-80ba241b2d1e>\u001b[0m in \u001b[0;36m<module>\u001b[1;34m\u001b[0m\n\u001b[0;32m     26\u001b[0m \u001b[0mprint\u001b[0m\u001b[1;33m(\u001b[0m\u001b[0ms_list\u001b[0m\u001b[1;33m)\u001b[0m\u001b[1;33m\u001b[0m\u001b[1;33m\u001b[0m\u001b[0m\n\u001b[0;32m     27\u001b[0m \u001b[1;33m\u001b[0m\u001b[0m\n\u001b[1;32m---> 28\u001b[1;33m \u001b[0mprint\u001b[0m\u001b[1;33m(\u001b[0m\u001b[0msorted\u001b[0m\u001b[1;33m(\u001b[0m\u001b[0mmixed_list\u001b[0m\u001b[1;33m)\u001b[0m\u001b[1;33m)\u001b[0m\u001b[1;33m\u001b[0m\u001b[1;33m\u001b[0m\u001b[0m\n\u001b[0m",
      "\u001b[1;31mTypeError\u001b[0m: '<' not supported between instances of 'str' and 'int'"
     ]
    }
   ],
   "source": [
    "s_list = [1, 34, 4, 234, -55]\n",
    "s_tuple = (1, 34, 4, 234, -55)\n",
    "mixed_list = [1, 34, 4, 234, -55, \"This\", 'is', 'a', 'test']\n",
    "\n",
    "print(sorted(s_list))\n",
    "print(sorted(s_tuple))\n",
    "\n",
    "# In descending order\n",
    "print(sorted(s_list, reverse=True))\n",
    "print(sorted(s_tuple, reverse =True))\n",
    "\n",
    "s_list1 = ['This', 'is', 'a', 'list', 'for', 'testing', 'sorting']\n",
    "\n",
    "print(sorted(s_list1))\n",
    "print(sorted(s_list1, reverse=True))\n",
    "\n",
    "# The same can be done for tuples\n",
    "\n",
    "# In all these operations the original list and tuple remains unchanged\n",
    "\n",
    "print('==============================================================')\n",
    "print(s_list)\n",
    "s_list.sort() # The list changes because of the sorting\n",
    "print(s_list)\n",
    "s_list.sort(reverse=True)\n",
    "print(s_list)\n",
    "\n",
    "print(sorted(mixed_list))"
   ]
  },
  {
   "cell_type": "markdown",
   "metadata": {},
   "source": [
    "## Defining functions\n",
    "Functions are bodies of code using any/all the programming constructs we learnt so far. **Functions** are called from other parts of python code using their **name and parameters**. Funtions can have **zero or more parameters** which are passed in at the time of the function call. The body of code inside the function uses these parameters"
   ]
  },
  {
   "cell_type": "code",
   "execution_count": 54,
   "metadata": {},
   "outputs": [
    {
     "data": {
      "text/plain": [
       "['Harry', 'Jane', 'Harriet', 'John']"
      ]
     },
     "execution_count": 54,
     "metadata": {},
     "output_type": "execute_result"
    }
   ],
   "source": [
    "people"
   ]
  },
  {
   "cell_type": "code",
   "execution_count": 57,
   "metadata": {},
   "outputs": [
    {
     "name": "stdout",
     "output_type": "stream",
     "text": [
      "Hello world and hello  Harry\n",
      "Hello world and hello  Jane\n",
      "Hello world and hello  Harriet\n",
      "Hello world and hello  John\n"
     ]
    }
   ],
   "source": [
    "def sayhello(name):\n",
    "    print(\"Hello world and hello \", name)\n",
    "for name in people:\n",
    "    sayhello(name)"
   ]
  },
  {
   "cell_type": "code",
   "execution_count": 58,
   "metadata": {},
   "outputs": [],
   "source": [
    "def polite_sayhello(salutation, name):\n",
    "    print(\"Hello world and hello\", salutation, name)"
   ]
  },
  {
   "cell_type": "code",
   "execution_count": 59,
   "metadata": {},
   "outputs": [
    {
     "name": "stdout",
     "output_type": "stream",
     "text": [
      "Hello world and hello Mr. Harry\n",
      "Hello world and hello Ms. Jane\n",
      "Hello world and hello Ms. Harriet\n",
      "Hello world and hello Mr. John\n"
     ]
    }
   ],
   "source": [
    "for name in people:\n",
    "    if name in ['Harry', 'John']:\n",
    "    #if (name =='Harry' or name == 'John'):\n",
    "        salutation = 'Mr.'  # if male, salutation is Mr.\n",
    "    elif name in ['Harriet', 'Jane']:\n",
    "    # elif (name == 'Harriet' or name == 'Jane'):\n",
    "        salutation = 'Ms.'  # if female salutation is Ms.\n",
    "    else:\n",
    "        print('name not in people')\n",
    "    polite_sayhello(salutation, name)\n"
   ]
  },
  {
   "cell_type": "markdown",
   "metadata": {},
   "source": [
    "Another example of a little more complex function"
   ]
  },
  {
   "cell_type": "code",
   "execution_count": 1,
   "metadata": {
    "tags": []
   },
   "outputs": [
    {
     "name": "stdout",
     "output_type": "stream",
     "text": [
      "0\n",
      "1\n",
      "1\n",
      "2\n",
      "3\n",
      "5\n",
      "8\n",
      "13\n",
      "21\n",
      "34\n",
      "55\n",
      "89\n",
      "144\n",
      "233\n",
      "377\n",
      "610\n",
      "987\n",
      "1597\n"
     ]
    }
   ],
   "source": [
    "def fib(n):    # write Fibonacci series up to n\n",
    "    a = 0\n",
    "    b = 1\n",
    "    total = 1\n",
    "    while a < n:\n",
    "        print (a)\n",
    "        total = a + b\n",
    "        a = b\n",
    "        b = total\n",
    "    return\n",
    " \n",
    "# Now call the function we just defined:\n",
    "fib(2000)"
   ]
  },
  {
   "cell_type": "markdown",
   "metadata": {},
   "source": [
    "We will define and run a few more functions (just for practice). We will revisit some of these functions and more details in appropriate sections (Statistics, Descriptive Analytics, Predictive Analytics etc.)"
   ]
  },
  {
   "cell_type": "code",
   "execution_count": 61,
   "metadata": {},
   "outputs": [
    {
     "name": "stdout",
     "output_type": "stream",
     "text": [
      "14.8182\n"
     ]
    }
   ],
   "source": [
    "v1 = 326\n",
    "v2 = 22\n",
    "print(round(v1/v2, 4))"
   ]
  },
  {
   "cell_type": "code",
   "execution_count": 62,
   "metadata": {},
   "outputs": [
    {
     "name": "stdout",
     "output_type": "stream",
     "text": [
      "[2, 27, 48, 99, 348, 587, 439, 567, 602]\n"
     ]
    }
   ],
   "source": [
    "input_data = [2, 27, 48, 99, 348, 587, 439, 567, 602]\n",
    "print(input_data)"
   ]
  },
  {
   "cell_type": "code",
   "execution_count": 63,
   "metadata": {},
   "outputs": [
    {
     "name": "stdout",
     "output_type": "stream",
     "text": [
      "600\n",
      "===================================================\n",
      "2719\n",
      "=====================\n",
      "302.11\n",
      "===================================================\n",
      "[-300.11, -275.11, -254.11, -203.11, 45.89, 284.89, 136.89, 264.89, 299.89]\n",
      "===================================================\n",
      "1355125\n",
      "===================================================\n",
      "66710.61\n",
      "===================================================\n"
     ]
    }
   ],
   "source": [
    "from __future__ import division\n",
    "from decimal import Decimal\n",
    "\n",
    "input_data = [2, 27, 48, 99, 348, 587, 439, 567, 602]\n",
    "\n",
    "def data_range(x):\n",
    "    return max(x) - min(x)\n",
    "print(data_range(input_data))\n",
    "print('===================================================')\n",
    "\n",
    "print(sum(input_data))\n",
    "print(\"=====================\")\n",
    "\n",
    "def mean(x):\n",
    "    return round((sum(x) / len(x)), 2)\n",
    "print(mean(input_data))\n",
    "print('===================================================')\n",
    "\n",
    "def diff_from_mean(x):\n",
    "    x_bar = mean(x)\n",
    "    return [round((x_i - x_bar), 2) for x_i in x]\n",
    "print(diff_from_mean(input_data))\n",
    "print('===================================================')\n",
    "\n",
    "def sum_of_squares(x):\n",
    "    return(sum(x_i**2 for x_i in x))\n",
    "print((sum_of_squares(input_data)))\n",
    "print('===================================================')\n",
    "\n",
    "def variance(x):\n",
    "    l = len(x)\n",
    "    deviations = diff_from_mean(x)\n",
    "    return (sum_of_squares(deviations)/(l - 1))\n",
    "print(round(variance(input_data), 2))\n",
    "print('===================================================')"
   ]
  },
  {
   "cell_type": "markdown",
   "metadata": {},
   "source": [
    "## Plotting some graphs\n",
    "As said above, we will get back to some of these functions at appropriate time. \n",
    "\n",
    "Now let's plat some graphs using matplotlib (base level graphical library of Python)"
   ]
  },
  {
   "cell_type": "code",
   "execution_count": 83,
   "metadata": {},
   "outputs": [
    {
     "data": {
      "text/plain": [
       "[<matplotlib.lines.Line2D at 0x18e32abb550>]"
      ]
     },
     "execution_count": 83,
     "metadata": {},
     "output_type": "execute_result"
    },
    {
     "data": {
      "text/plain": [
       "Text(0.5, 1.0, 'Nomonal GDP')"
      ]
     },
     "execution_count": 83,
     "metadata": {},
     "output_type": "execute_result"
    },
    {
     "data": {
      "text/plain": [
       "Text(0, 0.5, 'Billions of $')"
      ]
     },
     "execution_count": 83,
     "metadata": {},
     "output_type": "execute_result"
    },
    {
     "data": {
      "image/png": "[encoded data removed]",
      "text/plain": [
       "<Figure size 432x288 with 1 Axes>"
      ]
     },
     "metadata": {
      "needs_background": "light"
     },
     "output_type": "display_data"
    },
    {
     "name": "stdout",
     "output_type": "stream",
     "text": [
      "===================================================\n"
     ]
    },
    {
     "data": {
      "text/plain": [
       "<BarContainer object of 5 artists>"
      ]
     },
     "execution_count": 83,
     "metadata": {},
     "output_type": "execute_result"
    },
    {
     "data": {
      "text/plain": [
       "Text(0.5, 1.0, 'My Favorite Movies')"
      ]
     },
     "execution_count": 83,
     "metadata": {},
     "output_type": "execute_result"
    },
    {
     "data": {
      "text/plain": [
       "Text(0, 0.5, '# of Academy Awards')"
      ]
     },
     "execution_count": 83,
     "metadata": {},
     "output_type": "execute_result"
    },
    {
     "data": {
      "image/png": "[encoded data removed]",
      "text/plain": [
       "<Figure size 432x288 with 1 Axes>"
      ]
     },
     "metadata": {
      "needs_background": "light"
     },
     "output_type": "display_data"
    },
    {
     "name": "stdout",
     "output_type": "stream",
     "text": [
      "===================================================\n"
     ]
    }
   ],
   "source": [
    "from matplotlib import pyplot as plt\n",
    "\n",
    "years = [1950, 1960, 1970, 1980, 1990, 2000, 2010]\n",
    "gdp = [300.2, 543.3, 1075.9, 2862.5, 5979.6, 10289.7, 14958.3 ]\n",
    "plt.plot(years, gdp, color= 'green', marker= 'o', linestyle= 'solid')\n",
    "plt.title('Nomonal GDP')\n",
    "plt.ylabel('Billions of $')\n",
    "plt.show()\n",
    "print('===================================================')\n",
    "\n",
    "movies = ['Annie Hall', 'Ben_Hur', 'Casablanca', 'Gandhi', 'West Side Story']\n",
    "num_oscars = [5, 11, 3, 8, 10]\n",
    "plt.bar(movies, num_oscars)\n",
    "plt.title('My Favorite Movies')\n",
    "plt.ylabel('# of Academy Awards')\n",
    "plt.show()\n",
    "print('===================================================')\n",
    "\n"
   ]
  },
  {
   "cell_type": "markdown",
   "metadata": {},
   "source": [
    "**Scatterplot** is a very useful technique and is widely used in all Data Science/Business Analytics activities. Normally, the first step to start analysing an unknown set of data is to do a few scatterplots between sets of variables to get an initial feel for the data and how they may be related.\n",
    "\n",
    "For example, if you are analysing a set of people who has friends and they spend time on a website of their common interest. It may be a good idea to do a scatterplot of **# of friends** each person has and his/her corresponding **time on the \"website** of interest\" and see if that show some kind of relationships.\n",
    "\n",
    "BTW, people do scatterplot using MS-Excell all the time without caring for what is going on inside. Here is how **you** will write it in Python where **you have full control**"
   ]
  },
  {
   "cell_type": "code",
   "execution_count": 39,
   "metadata": {},
   "outputs": [
    {
     "data": {
      "text/plain": [
       "<matplotlib.collections.PathCollection at 0x2389ed21550>"
      ]
     },
     "execution_count": 39,
     "metadata": {},
     "output_type": "execute_result"
    },
    {
     "data": {
      "text/plain": [
       "Text(0.5, 1.0, 'Daily Minutes Vs. Number of Friends')"
      ]
     },
     "execution_count": 39,
     "metadata": {},
     "output_type": "execute_result"
    },
    {
     "data": {
      "text/plain": [
       "Text(0.5, 0, '# of Friends')"
      ]
     },
     "execution_count": 39,
     "metadata": {},
     "output_type": "execute_result"
    },
    {
     "data": {
      "text/plain": [
       "Text(0, 0.5, 'Daily Minutes Spent at the Site')"
      ]
     },
     "execution_count": 39,
     "metadata": {},
     "output_type": "execute_result"
    },
    {
     "data": {
      "image/png": "[encoded data removed]",
      "text/plain": [
       "<Figure size 432x288 with 1 Axes>"
      ]
     },
     "metadata": {
      "needs_background": "light"
     },
     "output_type": "display_data"
    }
   ],
   "source": [
    "friends = [70, 65, 72, 63, 71, 64, 60, 64, 67] # number of friends for each person\n",
    "minutes = [175, 170, 205, 120, 220, 130, 105, 145, 190]\n",
    "plt.scatter(friends, minutes)\n",
    "plt.title('Daily Minutes Vs. Number of Friends')\n",
    "plt.xlabel('# of Friends')\n",
    "plt.ylabel('Daily Minutes Spent at the Site')\n",
    "plt.show()"
   ]
  },
  {
   "cell_type": "markdown",
   "metadata": {},
   "source": [
    "## Using the powerful 'pandas' library"
   ]
  },
  {
   "cell_type": "markdown",
   "metadata": {},
   "source": [
    "As said before, we will be using these tools and techniques a lot as we progress.\n",
    "\n",
    "For now let us end this section on **Basic Python Programming** by using some examples of one one of the most powerful python libraries called **pandas**. **Pandas** has many capabilities, but here we will just use a very **powerful and useful** data structure called **data frames** provided by **pandas** and do some very complex analytic operation such as **pivot table** with **almost no code**.\n",
    "\n",
    "BTW, you can do the same analytic operations using MS-Excel (with a fair amount of training in Excel Pivot Table)\n",
    "\n",
    "## We will use Pandas dataframe extensively.\n",
    "\n",
    "## Explore other capabilities of dataframe"
   ]
  },
  {
   "cell_type": "code",
   "execution_count": 67,
   "metadata": {},
   "outputs": [
    {
     "data": {
      "text/html": [
       "<div>\n",
       "<style scoped>\n",
       "    .dataframe tbody tr th:only-of-type {\n",
       "        vertical-align: middle;\n",
       "    }\n",
       "\n",
       "    .dataframe tbody tr th {\n",
       "        vertical-align: top;\n",
       "    }\n",
       "\n",
       "    .dataframe thead th {\n",
       "        text-align: right;\n",
       "    }\n",
       "</style>\n",
       "<table border=\"1\" class=\"dataframe\">\n",
       "  <thead>\n",
       "    <tr style=\"text-align: right;\">\n",
       "      <th></th>\n",
       "      <th>Account</th>\n",
       "      <th>Name</th>\n",
       "      <th>Rep</th>\n",
       "      <th>Manager</th>\n",
       "      <th>Product</th>\n",
       "      <th>Quantity</th>\n",
       "      <th>Price</th>\n",
       "      <th>Status</th>\n",
       "    </tr>\n",
       "  </thead>\n",
       "  <tbody>\n",
       "    <tr>\n",
       "      <th>0</th>\n",
       "      <td>714466</td>\n",
       "      <td>Trantow-Barrows</td>\n",
       "      <td>Craig Booker</td>\n",
       "      <td>Debra Henley</td>\n",
       "      <td>CPU</td>\n",
       "      <td>1</td>\n",
       "      <td>30000</td>\n",
       "      <td>presented</td>\n",
       "    </tr>\n",
       "    <tr>\n",
       "      <th>1</th>\n",
       "      <td>714466</td>\n",
       "      <td>Trantow-Barrows</td>\n",
       "      <td>Craig Booker</td>\n",
       "      <td>Debra Henley</td>\n",
       "      <td>Software</td>\n",
       "      <td>1</td>\n",
       "      <td>10000</td>\n",
       "      <td>presented</td>\n",
       "    </tr>\n",
       "    <tr>\n",
       "      <th>2</th>\n",
       "      <td>714466</td>\n",
       "      <td>Trantow-Barrows</td>\n",
       "      <td>Craig Booker</td>\n",
       "      <td>Debra Henley</td>\n",
       "      <td>Maintenance</td>\n",
       "      <td>2</td>\n",
       "      <td>5000</td>\n",
       "      <td>pending</td>\n",
       "    </tr>\n",
       "    <tr>\n",
       "      <th>3</th>\n",
       "      <td>737550</td>\n",
       "      <td>Fritsch, Russel and Anderson</td>\n",
       "      <td>Craig Booker</td>\n",
       "      <td>Debra Henley</td>\n",
       "      <td>CPU</td>\n",
       "      <td>1</td>\n",
       "      <td>35000</td>\n",
       "      <td>declined</td>\n",
       "    </tr>\n",
       "    <tr>\n",
       "      <th>4</th>\n",
       "      <td>146832</td>\n",
       "      <td>Kiehn-Spinka</td>\n",
       "      <td>Daniel Hilton</td>\n",
       "      <td>Debra Henley</td>\n",
       "      <td>CPU</td>\n",
       "      <td>2</td>\n",
       "      <td>65000</td>\n",
       "      <td>won</td>\n",
       "    </tr>\n",
       "    <tr>\n",
       "      <th>5</th>\n",
       "      <td>218895</td>\n",
       "      <td>Kulas Inc</td>\n",
       "      <td>Daniel Hilton</td>\n",
       "      <td>Debra Henley</td>\n",
       "      <td>CPU</td>\n",
       "      <td>2</td>\n",
       "      <td>40000</td>\n",
       "      <td>pending</td>\n",
       "    </tr>\n",
       "    <tr>\n",
       "      <th>6</th>\n",
       "      <td>218895</td>\n",
       "      <td>Kulas Inc</td>\n",
       "      <td>Daniel Hilton</td>\n",
       "      <td>Debra Henley</td>\n",
       "      <td>Software</td>\n",
       "      <td>1</td>\n",
       "      <td>10000</td>\n",
       "      <td>presented</td>\n",
       "    </tr>\n",
       "    <tr>\n",
       "      <th>7</th>\n",
       "      <td>412290</td>\n",
       "      <td>Jerde-Hilpert</td>\n",
       "      <td>John Smith</td>\n",
       "      <td>Debra Henley</td>\n",
       "      <td>Maintenance</td>\n",
       "      <td>2</td>\n",
       "      <td>5000</td>\n",
       "      <td>pending</td>\n",
       "    </tr>\n",
       "    <tr>\n",
       "      <th>8</th>\n",
       "      <td>740150</td>\n",
       "      <td>Barton LLC</td>\n",
       "      <td>John Smith</td>\n",
       "      <td>Debra Henley</td>\n",
       "      <td>CPU</td>\n",
       "      <td>1</td>\n",
       "      <td>35000</td>\n",
       "      <td>declined</td>\n",
       "    </tr>\n",
       "    <tr>\n",
       "      <th>9</th>\n",
       "      <td>141962</td>\n",
       "      <td>Herman LLC</td>\n",
       "      <td>Cedric Moss</td>\n",
       "      <td>Fred Anderson</td>\n",
       "      <td>CPU</td>\n",
       "      <td>2</td>\n",
       "      <td>65000</td>\n",
       "      <td>won</td>\n",
       "    </tr>\n",
       "    <tr>\n",
       "      <th>10</th>\n",
       "      <td>163416</td>\n",
       "      <td>Purdy-Kunde</td>\n",
       "      <td>Cedric Moss</td>\n",
       "      <td>Fred Anderson</td>\n",
       "      <td>CPU</td>\n",
       "      <td>1</td>\n",
       "      <td>30000</td>\n",
       "      <td>presented</td>\n",
       "    </tr>\n",
       "    <tr>\n",
       "      <th>11</th>\n",
       "      <td>239344</td>\n",
       "      <td>Stokes LLC</td>\n",
       "      <td>Cedric Moss</td>\n",
       "      <td>Fred Anderson</td>\n",
       "      <td>Maintenance</td>\n",
       "      <td>1</td>\n",
       "      <td>5000</td>\n",
       "      <td>pending</td>\n",
       "    </tr>\n",
       "    <tr>\n",
       "      <th>12</th>\n",
       "      <td>239344</td>\n",
       "      <td>Stokes LLC</td>\n",
       "      <td>Cedric Moss</td>\n",
       "      <td>Fred Anderson</td>\n",
       "      <td>Software</td>\n",
       "      <td>1</td>\n",
       "      <td>10000</td>\n",
       "      <td>presented</td>\n",
       "    </tr>\n",
       "    <tr>\n",
       "      <th>13</th>\n",
       "      <td>307599</td>\n",
       "      <td>Kassulke, Ondricka and Metz</td>\n",
       "      <td>Wendy Yule</td>\n",
       "      <td>Fred Anderson</td>\n",
       "      <td>Maintenance</td>\n",
       "      <td>3</td>\n",
       "      <td>7000</td>\n",
       "      <td>won</td>\n",
       "    </tr>\n",
       "    <tr>\n",
       "      <th>14</th>\n",
       "      <td>688981</td>\n",
       "      <td>Keeling LLC</td>\n",
       "      <td>Wendy Yule</td>\n",
       "      <td>Fred Anderson</td>\n",
       "      <td>CPU</td>\n",
       "      <td>5</td>\n",
       "      <td>100000</td>\n",
       "      <td>won</td>\n",
       "    </tr>\n",
       "    <tr>\n",
       "      <th>15</th>\n",
       "      <td>729833</td>\n",
       "      <td>Koepp Ltd</td>\n",
       "      <td>Wendy Yule</td>\n",
       "      <td>Fred Anderson</td>\n",
       "      <td>CPU</td>\n",
       "      <td>2</td>\n",
       "      <td>65000</td>\n",
       "      <td>declined</td>\n",
       "    </tr>\n",
       "    <tr>\n",
       "      <th>16</th>\n",
       "      <td>729833</td>\n",
       "      <td>Koepp Ltd</td>\n",
       "      <td>Wendy Yule</td>\n",
       "      <td>Fred Anderson</td>\n",
       "      <td>Monitor</td>\n",
       "      <td>2</td>\n",
       "      <td>5000</td>\n",
       "      <td>presented</td>\n",
       "    </tr>\n",
       "  </tbody>\n",
       "</table>\n",
       "</div>"
      ],
      "text/plain": [
       "    Account                          Name            Rep        Manager  \\\n",
       "0    714466               Trantow-Barrows   Craig Booker   Debra Henley   \n",
       "1    714466               Trantow-Barrows   Craig Booker   Debra Henley   \n",
       "2    714466               Trantow-Barrows   Craig Booker   Debra Henley   \n",
       "3    737550  Fritsch, Russel and Anderson   Craig Booker   Debra Henley   \n",
       "4    146832                  Kiehn-Spinka  Daniel Hilton   Debra Henley   \n",
       "5    218895                     Kulas Inc  Daniel Hilton   Debra Henley   \n",
       "6    218895                     Kulas Inc  Daniel Hilton   Debra Henley   \n",
       "7    412290                 Jerde-Hilpert     John Smith   Debra Henley   \n",
       "8    740150                    Barton LLC     John Smith   Debra Henley   \n",
       "9    141962                    Herman LLC    Cedric Moss  Fred Anderson   \n",
       "10   163416                   Purdy-Kunde    Cedric Moss  Fred Anderson   \n",
       "11   239344                    Stokes LLC    Cedric Moss  Fred Anderson   \n",
       "12   239344                    Stokes LLC    Cedric Moss  Fred Anderson   \n",
       "13   307599   Kassulke, Ondricka and Metz     Wendy Yule  Fred Anderson   \n",
       "14   688981                   Keeling LLC     Wendy Yule  Fred Anderson   \n",
       "15   729833                     Koepp Ltd     Wendy Yule  Fred Anderson   \n",
       "16   729833                     Koepp Ltd     Wendy Yule  Fred Anderson   \n",
       "\n",
       "        Product  Quantity   Price     Status  \n",
       "0           CPU         1   30000  presented  \n",
       "1      Software         1   10000  presented  \n",
       "2   Maintenance         2    5000    pending  \n",
       "3           CPU         1   35000   declined  \n",
       "4           CPU         2   65000        won  \n",
       "5           CPU         2   40000    pending  \n",
       "6      Software         1   10000  presented  \n",
       "7   Maintenance         2    5000    pending  \n",
       "8           CPU         1   35000   declined  \n",
       "9           CPU         2   65000        won  \n",
       "10          CPU         1   30000  presented  \n",
       "11  Maintenance         1    5000    pending  \n",
       "12     Software         1   10000  presented  \n",
       "13  Maintenance         3    7000        won  \n",
       "14          CPU         5  100000        won  \n",
       "15          CPU         2   65000   declined  \n",
       "16      Monitor         2    5000  presented  "
      ]
     },
     "execution_count": 67,
     "metadata": {},
     "output_type": "execute_result"
    },
    {
     "data": {
      "text/html": [
       "<div>\n",
       "<style scoped>\n",
       "    .dataframe tbody tr th:only-of-type {\n",
       "        vertical-align: middle;\n",
       "    }\n",
       "\n",
       "    .dataframe tbody tr th {\n",
       "        vertical-align: top;\n",
       "    }\n",
       "\n",
       "    .dataframe thead th {\n",
       "        text-align: right;\n",
       "    }\n",
       "</style>\n",
       "<table border=\"1\" class=\"dataframe\">\n",
       "  <thead>\n",
       "    <tr style=\"text-align: right;\">\n",
       "      <th></th>\n",
       "      <th>Account</th>\n",
       "      <th>Name</th>\n",
       "      <th>Rep</th>\n",
       "      <th>Manager</th>\n",
       "      <th>Product</th>\n",
       "      <th>Quantity</th>\n",
       "      <th>Price</th>\n",
       "      <th>Status</th>\n",
       "    </tr>\n",
       "  </thead>\n",
       "  <tbody>\n",
       "    <tr>\n",
       "      <th>12</th>\n",
       "      <td>239344</td>\n",
       "      <td>Stokes LLC</td>\n",
       "      <td>Cedric Moss</td>\n",
       "      <td>Fred Anderson</td>\n",
       "      <td>Software</td>\n",
       "      <td>1</td>\n",
       "      <td>10000</td>\n",
       "      <td>presented</td>\n",
       "    </tr>\n",
       "    <tr>\n",
       "      <th>13</th>\n",
       "      <td>307599</td>\n",
       "      <td>Kassulke, Ondricka and Metz</td>\n",
       "      <td>Wendy Yule</td>\n",
       "      <td>Fred Anderson</td>\n",
       "      <td>Maintenance</td>\n",
       "      <td>3</td>\n",
       "      <td>7000</td>\n",
       "      <td>won</td>\n",
       "    </tr>\n",
       "    <tr>\n",
       "      <th>14</th>\n",
       "      <td>688981</td>\n",
       "      <td>Keeling LLC</td>\n",
       "      <td>Wendy Yule</td>\n",
       "      <td>Fred Anderson</td>\n",
       "      <td>CPU</td>\n",
       "      <td>5</td>\n",
       "      <td>100000</td>\n",
       "      <td>won</td>\n",
       "    </tr>\n",
       "    <tr>\n",
       "      <th>15</th>\n",
       "      <td>729833</td>\n",
       "      <td>Koepp Ltd</td>\n",
       "      <td>Wendy Yule</td>\n",
       "      <td>Fred Anderson</td>\n",
       "      <td>CPU</td>\n",
       "      <td>2</td>\n",
       "      <td>65000</td>\n",
       "      <td>declined</td>\n",
       "    </tr>\n",
       "    <tr>\n",
       "      <th>16</th>\n",
       "      <td>729833</td>\n",
       "      <td>Koepp Ltd</td>\n",
       "      <td>Wendy Yule</td>\n",
       "      <td>Fred Anderson</td>\n",
       "      <td>Monitor</td>\n",
       "      <td>2</td>\n",
       "      <td>5000</td>\n",
       "      <td>presented</td>\n",
       "    </tr>\n",
       "  </tbody>\n",
       "</table>\n",
       "</div>"
      ],
      "text/plain": [
       "    Account                         Name          Rep        Manager  \\\n",
       "12   239344                   Stokes LLC  Cedric Moss  Fred Anderson   \n",
       "13   307599  Kassulke, Ondricka and Metz   Wendy Yule  Fred Anderson   \n",
       "14   688981                  Keeling LLC   Wendy Yule  Fred Anderson   \n",
       "15   729833                    Koepp Ltd   Wendy Yule  Fred Anderson   \n",
       "16   729833                    Koepp Ltd   Wendy Yule  Fred Anderson   \n",
       "\n",
       "        Product  Quantity   Price     Status  \n",
       "12     Software         1   10000  presented  \n",
       "13  Maintenance         3    7000        won  \n",
       "14          CPU         5  100000        won  \n",
       "15          CPU         2   65000   declined  \n",
       "16      Monitor         2    5000  presented  "
      ]
     },
     "execution_count": 67,
     "metadata": {},
     "output_type": "execute_result"
    },
    {
     "data": {
      "text/html": [
       "<div>\n",
       "<style scoped>\n",
       "    .dataframe tbody tr th:only-of-type {\n",
       "        vertical-align: middle;\n",
       "    }\n",
       "\n",
       "    .dataframe tbody tr th {\n",
       "        vertical-align: top;\n",
       "    }\n",
       "\n",
       "    .dataframe thead tr th {\n",
       "        text-align: left;\n",
       "    }\n",
       "\n",
       "    .dataframe thead tr:last-of-type th {\n",
       "        text-align: right;\n",
       "    }\n",
       "</style>\n",
       "<table border=\"1\" class=\"dataframe\">\n",
       "  <thead>\n",
       "    <tr>\n",
       "      <th></th>\n",
       "      <th></th>\n",
       "      <th></th>\n",
       "      <th></th>\n",
       "      <th></th>\n",
       "      <th colspan=\"2\" halign=\"left\">mean</th>\n",
       "    </tr>\n",
       "    <tr>\n",
       "      <th></th>\n",
       "      <th></th>\n",
       "      <th></th>\n",
       "      <th></th>\n",
       "      <th></th>\n",
       "      <th>Account</th>\n",
       "      <th>Price</th>\n",
       "    </tr>\n",
       "    <tr>\n",
       "      <th>Name</th>\n",
       "      <th>Rep</th>\n",
       "      <th>Manager</th>\n",
       "      <th>Product</th>\n",
       "      <th>Quantity</th>\n",
       "      <th></th>\n",
       "      <th></th>\n",
       "    </tr>\n",
       "  </thead>\n",
       "  <tbody>\n",
       "    <tr>\n",
       "      <th>Barton LLC</th>\n",
       "      <th>John Smith</th>\n",
       "      <th>Debra Henley</th>\n",
       "      <th>CPU</th>\n",
       "      <th>1</th>\n",
       "      <td>740150</td>\n",
       "      <td>35000</td>\n",
       "    </tr>\n",
       "    <tr>\n",
       "      <th>Fritsch, Russel and Anderson</th>\n",
       "      <th>Craig Booker</th>\n",
       "      <th>Debra Henley</th>\n",
       "      <th>CPU</th>\n",
       "      <th>1</th>\n",
       "      <td>737550</td>\n",
       "      <td>35000</td>\n",
       "    </tr>\n",
       "    <tr>\n",
       "      <th>Herman LLC</th>\n",
       "      <th>Cedric Moss</th>\n",
       "      <th>Fred Anderson</th>\n",
       "      <th>CPU</th>\n",
       "      <th>2</th>\n",
       "      <td>141962</td>\n",
       "      <td>65000</td>\n",
       "    </tr>\n",
       "    <tr>\n",
       "      <th>Jerde-Hilpert</th>\n",
       "      <th>John Smith</th>\n",
       "      <th>Debra Henley</th>\n",
       "      <th>Maintenance</th>\n",
       "      <th>2</th>\n",
       "      <td>412290</td>\n",
       "      <td>5000</td>\n",
       "    </tr>\n",
       "    <tr>\n",
       "      <th>Kassulke, Ondricka and Metz</th>\n",
       "      <th>Wendy Yule</th>\n",
       "      <th>Fred Anderson</th>\n",
       "      <th>Maintenance</th>\n",
       "      <th>3</th>\n",
       "      <td>307599</td>\n",
       "      <td>7000</td>\n",
       "    </tr>\n",
       "    <tr>\n",
       "      <th>Keeling LLC</th>\n",
       "      <th>Wendy Yule</th>\n",
       "      <th>Fred Anderson</th>\n",
       "      <th>CPU</th>\n",
       "      <th>5</th>\n",
       "      <td>688981</td>\n",
       "      <td>100000</td>\n",
       "    </tr>\n",
       "    <tr>\n",
       "      <th>Kiehn-Spinka</th>\n",
       "      <th>Daniel Hilton</th>\n",
       "      <th>Debra Henley</th>\n",
       "      <th>CPU</th>\n",
       "      <th>2</th>\n",
       "      <td>146832</td>\n",
       "      <td>65000</td>\n",
       "    </tr>\n",
       "    <tr>\n",
       "      <th rowspan=\"2\" valign=\"top\">Koepp Ltd</th>\n",
       "      <th rowspan=\"2\" valign=\"top\">Wendy Yule</th>\n",
       "      <th rowspan=\"2\" valign=\"top\">Fred Anderson</th>\n",
       "      <th>CPU</th>\n",
       "      <th>2</th>\n",
       "      <td>729833</td>\n",
       "      <td>65000</td>\n",
       "    </tr>\n",
       "    <tr>\n",
       "      <th>Monitor</th>\n",
       "      <th>2</th>\n",
       "      <td>729833</td>\n",
       "      <td>5000</td>\n",
       "    </tr>\n",
       "    <tr>\n",
       "      <th rowspan=\"2\" valign=\"top\">Kulas Inc</th>\n",
       "      <th rowspan=\"2\" valign=\"top\">Daniel Hilton</th>\n",
       "      <th rowspan=\"2\" valign=\"top\">Debra Henley</th>\n",
       "      <th>CPU</th>\n",
       "      <th>2</th>\n",
       "      <td>218895</td>\n",
       "      <td>40000</td>\n",
       "    </tr>\n",
       "    <tr>\n",
       "      <th>Software</th>\n",
       "      <th>1</th>\n",
       "      <td>218895</td>\n",
       "      <td>10000</td>\n",
       "    </tr>\n",
       "    <tr>\n",
       "      <th>Purdy-Kunde</th>\n",
       "      <th>Cedric Moss</th>\n",
       "      <th>Fred Anderson</th>\n",
       "      <th>CPU</th>\n",
       "      <th>1</th>\n",
       "      <td>163416</td>\n",
       "      <td>30000</td>\n",
       "    </tr>\n",
       "    <tr>\n",
       "      <th rowspan=\"2\" valign=\"top\">Stokes LLC</th>\n",
       "      <th rowspan=\"2\" valign=\"top\">Cedric Moss</th>\n",
       "      <th rowspan=\"2\" valign=\"top\">Fred Anderson</th>\n",
       "      <th>Maintenance</th>\n",
       "      <th>1</th>\n",
       "      <td>239344</td>\n",
       "      <td>5000</td>\n",
       "    </tr>\n",
       "    <tr>\n",
       "      <th>Software</th>\n",
       "      <th>1</th>\n",
       "      <td>239344</td>\n",
       "      <td>10000</td>\n",
       "    </tr>\n",
       "    <tr>\n",
       "      <th rowspan=\"3\" valign=\"top\">Trantow-Barrows</th>\n",
       "      <th rowspan=\"3\" valign=\"top\">Craig Booker</th>\n",
       "      <th rowspan=\"3\" valign=\"top\">Debra Henley</th>\n",
       "      <th>CPU</th>\n",
       "      <th>1</th>\n",
       "      <td>714466</td>\n",
       "      <td>30000</td>\n",
       "    </tr>\n",
       "    <tr>\n",
       "      <th>Maintenance</th>\n",
       "      <th>2</th>\n",
       "      <td>714466</td>\n",
       "      <td>5000</td>\n",
       "    </tr>\n",
       "    <tr>\n",
       "      <th>Software</th>\n",
       "      <th>1</th>\n",
       "      <td>714466</td>\n",
       "      <td>10000</td>\n",
       "    </tr>\n",
       "  </tbody>\n",
       "</table>\n",
       "</div>"
      ],
      "text/plain": [
       "                                                                                 mean  \\\n",
       "                                                                              Account   \n",
       "Name                         Rep           Manager       Product     Quantity           \n",
       "Barton LLC                   John Smith    Debra Henley  CPU         1         740150   \n",
       "Fritsch, Russel and Anderson Craig Booker  Debra Henley  CPU         1         737550   \n",
       "Herman LLC                   Cedric Moss   Fred Anderson CPU         2         141962   \n",
       "Jerde-Hilpert                John Smith    Debra Henley  Maintenance 2         412290   \n",
       "Kassulke, Ondricka and Metz  Wendy Yule    Fred Anderson Maintenance 3         307599   \n",
       "Keeling LLC                  Wendy Yule    Fred Anderson CPU         5         688981   \n",
       "Kiehn-Spinka                 Daniel Hilton Debra Henley  CPU         2         146832   \n",
       "Koepp Ltd                    Wendy Yule    Fred Anderson CPU         2         729833   \n",
       "                                                         Monitor     2         729833   \n",
       "Kulas Inc                    Daniel Hilton Debra Henley  CPU         2         218895   \n",
       "                                                         Software    1         218895   \n",
       "Purdy-Kunde                  Cedric Moss   Fred Anderson CPU         1         163416   \n",
       "Stokes LLC                   Cedric Moss   Fred Anderson Maintenance 1         239344   \n",
       "                                                         Software    1         239344   \n",
       "Trantow-Barrows              Craig Booker  Debra Henley  CPU         1         714466   \n",
       "                                                         Maintenance 2         714466   \n",
       "                                                         Software    1         714466   \n",
       "\n",
       "                                                                                       \n",
       "                                                                                Price  \n",
       "Name                         Rep           Manager       Product     Quantity          \n",
       "Barton LLC                   John Smith    Debra Henley  CPU         1          35000  \n",
       "Fritsch, Russel and Anderson Craig Booker  Debra Henley  CPU         1          35000  \n",
       "Herman LLC                   Cedric Moss   Fred Anderson CPU         2          65000  \n",
       "Jerde-Hilpert                John Smith    Debra Henley  Maintenance 2           5000  \n",
       "Kassulke, Ondricka and Metz  Wendy Yule    Fred Anderson Maintenance 3           7000  \n",
       "Keeling LLC                  Wendy Yule    Fred Anderson CPU         5         100000  \n",
       "Kiehn-Spinka                 Daniel Hilton Debra Henley  CPU         2          65000  \n",
       "Koepp Ltd                    Wendy Yule    Fred Anderson CPU         2          65000  \n",
       "                                                         Monitor     2           5000  \n",
       "Kulas Inc                    Daniel Hilton Debra Henley  CPU         2          40000  \n",
       "                                                         Software    1          10000  \n",
       "Purdy-Kunde                  Cedric Moss   Fred Anderson CPU         1          30000  \n",
       "Stokes LLC                   Cedric Moss   Fred Anderson Maintenance 1           5000  \n",
       "                                                         Software    1          10000  \n",
       "Trantow-Barrows              Craig Booker  Debra Henley  CPU         1          30000  \n",
       "                                                         Maintenance 2           5000  \n",
       "                                                         Software    1          10000  "
      ]
     },
     "execution_count": 67,
     "metadata": {},
     "output_type": "execute_result"
    },
    {
     "data": {
      "text/html": [
       "<div>\n",
       "<style scoped>\n",
       "    .dataframe tbody tr th:only-of-type {\n",
       "        vertical-align: middle;\n",
       "    }\n",
       "\n",
       "    .dataframe tbody tr th {\n",
       "        vertical-align: top;\n",
       "    }\n",
       "\n",
       "    .dataframe thead tr th {\n",
       "        text-align: left;\n",
       "    }\n",
       "\n",
       "    .dataframe thead tr:last-of-type th {\n",
       "        text-align: right;\n",
       "    }\n",
       "</style>\n",
       "<table border=\"1\" class=\"dataframe\">\n",
       "  <thead>\n",
       "    <tr>\n",
       "      <th></th>\n",
       "      <th></th>\n",
       "      <th></th>\n",
       "      <th></th>\n",
       "      <th colspan=\"4\" halign=\"left\">Price</th>\n",
       "      <th colspan=\"4\" halign=\"left\">Quantity</th>\n",
       "    </tr>\n",
       "    <tr>\n",
       "      <th></th>\n",
       "      <th></th>\n",
       "      <th></th>\n",
       "      <th>Product</th>\n",
       "      <th>CPU</th>\n",
       "      <th>Maintenance</th>\n",
       "      <th>Monitor</th>\n",
       "      <th>Software</th>\n",
       "      <th>CPU</th>\n",
       "      <th>Maintenance</th>\n",
       "      <th>Monitor</th>\n",
       "      <th>Software</th>\n",
       "    </tr>\n",
       "    <tr>\n",
       "      <th>Manager</th>\n",
       "      <th>Rep</th>\n",
       "      <th>Name</th>\n",
       "      <th>Status</th>\n",
       "      <th></th>\n",
       "      <th></th>\n",
       "      <th></th>\n",
       "      <th></th>\n",
       "      <th></th>\n",
       "      <th></th>\n",
       "      <th></th>\n",
       "      <th></th>\n",
       "    </tr>\n",
       "  </thead>\n",
       "  <tbody>\n",
       "    <tr>\n",
       "      <th rowspan=\"8\" valign=\"top\">Debra Henley</th>\n",
       "      <th rowspan=\"3\" valign=\"top\">Craig Booker</th>\n",
       "      <th>Fritsch, Russel and Anderson</th>\n",
       "      <th>declined</th>\n",
       "      <td>35000</td>\n",
       "      <td>0</td>\n",
       "      <td>0</td>\n",
       "      <td>0</td>\n",
       "      <td>1</td>\n",
       "      <td>0</td>\n",
       "      <td>0</td>\n",
       "      <td>0</td>\n",
       "    </tr>\n",
       "    <tr>\n",
       "      <th rowspan=\"2\" valign=\"top\">Trantow-Barrows</th>\n",
       "      <th>pending</th>\n",
       "      <td>0</td>\n",
       "      <td>5000</td>\n",
       "      <td>0</td>\n",
       "      <td>0</td>\n",
       "      <td>0</td>\n",
       "      <td>2</td>\n",
       "      <td>0</td>\n",
       "      <td>0</td>\n",
       "    </tr>\n",
       "    <tr>\n",
       "      <th>presented</th>\n",
       "      <td>30000</td>\n",
       "      <td>0</td>\n",
       "      <td>0</td>\n",
       "      <td>10000</td>\n",
       "      <td>1</td>\n",
       "      <td>0</td>\n",
       "      <td>0</td>\n",
       "      <td>1</td>\n",
       "    </tr>\n",
       "    <tr>\n",
       "      <th rowspan=\"3\" valign=\"top\">Daniel Hilton</th>\n",
       "      <th>Kiehn-Spinka</th>\n",
       "      <th>won</th>\n",
       "      <td>65000</td>\n",
       "      <td>0</td>\n",
       "      <td>0</td>\n",
       "      <td>0</td>\n",
       "      <td>2</td>\n",
       "      <td>0</td>\n",
       "      <td>0</td>\n",
       "      <td>0</td>\n",
       "    </tr>\n",
       "    <tr>\n",
       "      <th rowspan=\"2\" valign=\"top\">Kulas Inc</th>\n",
       "      <th>pending</th>\n",
       "      <td>40000</td>\n",
       "      <td>0</td>\n",
       "      <td>0</td>\n",
       "      <td>0</td>\n",
       "      <td>2</td>\n",
       "      <td>0</td>\n",
       "      <td>0</td>\n",
       "      <td>0</td>\n",
       "    </tr>\n",
       "    <tr>\n",
       "      <th>presented</th>\n",
       "      <td>0</td>\n",
       "      <td>0</td>\n",
       "      <td>0</td>\n",
       "      <td>10000</td>\n",
       "      <td>0</td>\n",
       "      <td>0</td>\n",
       "      <td>0</td>\n",
       "      <td>1</td>\n",
       "    </tr>\n",
       "    <tr>\n",
       "      <th rowspan=\"2\" valign=\"top\">John Smith</th>\n",
       "      <th>Barton LLC</th>\n",
       "      <th>declined</th>\n",
       "      <td>35000</td>\n",
       "      <td>0</td>\n",
       "      <td>0</td>\n",
       "      <td>0</td>\n",
       "      <td>1</td>\n",
       "      <td>0</td>\n",
       "      <td>0</td>\n",
       "      <td>0</td>\n",
       "    </tr>\n",
       "    <tr>\n",
       "      <th>Jerde-Hilpert</th>\n",
       "      <th>pending</th>\n",
       "      <td>0</td>\n",
       "      <td>5000</td>\n",
       "      <td>0</td>\n",
       "      <td>0</td>\n",
       "      <td>0</td>\n",
       "      <td>2</td>\n",
       "      <td>0</td>\n",
       "      <td>0</td>\n",
       "    </tr>\n",
       "    <tr>\n",
       "      <th rowspan=\"8\" valign=\"top\">Fred Anderson</th>\n",
       "      <th rowspan=\"4\" valign=\"top\">Cedric Moss</th>\n",
       "      <th>Herman LLC</th>\n",
       "      <th>won</th>\n",
       "      <td>65000</td>\n",
       "      <td>0</td>\n",
       "      <td>0</td>\n",
       "      <td>0</td>\n",
       "      <td>2</td>\n",
       "      <td>0</td>\n",
       "      <td>0</td>\n",
       "      <td>0</td>\n",
       "    </tr>\n",
       "    <tr>\n",
       "      <th>Purdy-Kunde</th>\n",
       "      <th>presented</th>\n",
       "      <td>30000</td>\n",
       "      <td>0</td>\n",
       "      <td>0</td>\n",
       "      <td>0</td>\n",
       "      <td>1</td>\n",
       "      <td>0</td>\n",
       "      <td>0</td>\n",
       "      <td>0</td>\n",
       "    </tr>\n",
       "    <tr>\n",
       "      <th rowspan=\"2\" valign=\"top\">Stokes LLC</th>\n",
       "      <th>pending</th>\n",
       "      <td>0</td>\n",
       "      <td>5000</td>\n",
       "      <td>0</td>\n",
       "      <td>0</td>\n",
       "      <td>0</td>\n",
       "      <td>1</td>\n",
       "      <td>0</td>\n",
       "      <td>0</td>\n",
       "    </tr>\n",
       "    <tr>\n",
       "      <th>presented</th>\n",
       "      <td>0</td>\n",
       "      <td>0</td>\n",
       "      <td>0</td>\n",
       "      <td>10000</td>\n",
       "      <td>0</td>\n",
       "      <td>0</td>\n",
       "      <td>0</td>\n",
       "      <td>1</td>\n",
       "    </tr>\n",
       "    <tr>\n",
       "      <th rowspan=\"4\" valign=\"top\">Wendy Yule</th>\n",
       "      <th>Kassulke, Ondricka and Metz</th>\n",
       "      <th>won</th>\n",
       "      <td>0</td>\n",
       "      <td>7000</td>\n",
       "      <td>0</td>\n",
       "      <td>0</td>\n",
       "      <td>0</td>\n",
       "      <td>3</td>\n",
       "      <td>0</td>\n",
       "      <td>0</td>\n",
       "    </tr>\n",
       "    <tr>\n",
       "      <th>Keeling LLC</th>\n",
       "      <th>won</th>\n",
       "      <td>100000</td>\n",
       "      <td>0</td>\n",
       "      <td>0</td>\n",
       "      <td>0</td>\n",
       "      <td>5</td>\n",
       "      <td>0</td>\n",
       "      <td>0</td>\n",
       "      <td>0</td>\n",
       "    </tr>\n",
       "    <tr>\n",
       "      <th rowspan=\"2\" valign=\"top\">Koepp Ltd</th>\n",
       "      <th>declined</th>\n",
       "      <td>65000</td>\n",
       "      <td>0</td>\n",
       "      <td>0</td>\n",
       "      <td>0</td>\n",
       "      <td>2</td>\n",
       "      <td>0</td>\n",
       "      <td>0</td>\n",
       "      <td>0</td>\n",
       "    </tr>\n",
       "    <tr>\n",
       "      <th>presented</th>\n",
       "      <td>0</td>\n",
       "      <td>0</td>\n",
       "      <td>5000</td>\n",
       "      <td>0</td>\n",
       "      <td>0</td>\n",
       "      <td>0</td>\n",
       "      <td>2</td>\n",
       "      <td>0</td>\n",
       "    </tr>\n",
       "  </tbody>\n",
       "</table>\n",
       "</div>"
      ],
      "text/plain": [
       "                                                                     Price  \\\n",
       "Product                                                                CPU   \n",
       "Manager       Rep           Name                         Status              \n",
       "Debra Henley  Craig Booker  Fritsch, Russel and Anderson declined    35000   \n",
       "                            Trantow-Barrows              pending         0   \n",
       "                                                         presented   30000   \n",
       "              Daniel Hilton Kiehn-Spinka                 won         65000   \n",
       "                            Kulas Inc                    pending     40000   \n",
       "                                                         presented       0   \n",
       "              John Smith    Barton LLC                   declined    35000   \n",
       "                            Jerde-Hilpert                pending         0   \n",
       "Fred Anderson Cedric Moss   Herman LLC                   won         65000   \n",
       "                            Purdy-Kunde                  presented   30000   \n",
       "                            Stokes LLC                   pending         0   \n",
       "                                                         presented       0   \n",
       "              Wendy Yule    Kassulke, Ondricka and Metz  won             0   \n",
       "                            Keeling LLC                  won        100000   \n",
       "                            Koepp Ltd                    declined    65000   \n",
       "                                                         presented       0   \n",
       "\n",
       "                                                                                \\\n",
       "Product                                                            Maintenance   \n",
       "Manager       Rep           Name                         Status                  \n",
       "Debra Henley  Craig Booker  Fritsch, Russel and Anderson declined            0   \n",
       "                            Trantow-Barrows              pending          5000   \n",
       "                                                         presented           0   \n",
       "              Daniel Hilton Kiehn-Spinka                 won                 0   \n",
       "                            Kulas Inc                    pending             0   \n",
       "                                                         presented           0   \n",
       "              John Smith    Barton LLC                   declined            0   \n",
       "                            Jerde-Hilpert                pending          5000   \n",
       "Fred Anderson Cedric Moss   Herman LLC                   won                 0   \n",
       "                            Purdy-Kunde                  presented           0   \n",
       "                            Stokes LLC                   pending          5000   \n",
       "                                                         presented           0   \n",
       "              Wendy Yule    Kassulke, Ondricka and Metz  won              7000   \n",
       "                            Keeling LLC                  won                 0   \n",
       "                            Koepp Ltd                    declined            0   \n",
       "                                                         presented           0   \n",
       "\n",
       "                                                                            \\\n",
       "Product                                                            Monitor   \n",
       "Manager       Rep           Name                         Status              \n",
       "Debra Henley  Craig Booker  Fritsch, Russel and Anderson declined        0   \n",
       "                            Trantow-Barrows              pending         0   \n",
       "                                                         presented       0   \n",
       "              Daniel Hilton Kiehn-Spinka                 won             0   \n",
       "                            Kulas Inc                    pending         0   \n",
       "                                                         presented       0   \n",
       "              John Smith    Barton LLC                   declined        0   \n",
       "                            Jerde-Hilpert                pending         0   \n",
       "Fred Anderson Cedric Moss   Herman LLC                   won             0   \n",
       "                            Purdy-Kunde                  presented       0   \n",
       "                            Stokes LLC                   pending         0   \n",
       "                                                         presented       0   \n",
       "              Wendy Yule    Kassulke, Ondricka and Metz  won             0   \n",
       "                            Keeling LLC                  won             0   \n",
       "                            Koepp Ltd                    declined        0   \n",
       "                                                         presented    5000   \n",
       "\n",
       "                                                                             \\\n",
       "Product                                                            Software   \n",
       "Manager       Rep           Name                         Status               \n",
       "Debra Henley  Craig Booker  Fritsch, Russel and Anderson declined         0   \n",
       "                            Trantow-Barrows              pending          0   \n",
       "                                                         presented    10000   \n",
       "              Daniel Hilton Kiehn-Spinka                 won              0   \n",
       "                            Kulas Inc                    pending          0   \n",
       "                                                         presented    10000   \n",
       "              John Smith    Barton LLC                   declined         0   \n",
       "                            Jerde-Hilpert                pending          0   \n",
       "Fred Anderson Cedric Moss   Herman LLC                   won              0   \n",
       "                            Purdy-Kunde                  presented        0   \n",
       "                            Stokes LLC                   pending          0   \n",
       "                                                         presented    10000   \n",
       "              Wendy Yule    Kassulke, Ondricka and Metz  won              0   \n",
       "                            Keeling LLC                  won              0   \n",
       "                            Koepp Ltd                    declined         0   \n",
       "                                                         presented        0   \n",
       "\n",
       "                                                                   Quantity  \\\n",
       "Product                                                                 CPU   \n",
       "Manager       Rep           Name                         Status               \n",
       "Debra Henley  Craig Booker  Fritsch, Russel and Anderson declined         1   \n",
       "                            Trantow-Barrows              pending          0   \n",
       "                                                         presented        1   \n",
       "              Daniel Hilton Kiehn-Spinka                 won              2   \n",
       "                            Kulas Inc                    pending          2   \n",
       "                                                         presented        0   \n",
       "              John Smith    Barton LLC                   declined         1   \n",
       "                            Jerde-Hilpert                pending          0   \n",
       "Fred Anderson Cedric Moss   Herman LLC                   won              2   \n",
       "                            Purdy-Kunde                  presented        1   \n",
       "                            Stokes LLC                   pending          0   \n",
       "                                                         presented        0   \n",
       "              Wendy Yule    Kassulke, Ondricka and Metz  won              0   \n",
       "                            Keeling LLC                  won              5   \n",
       "                            Koepp Ltd                    declined         2   \n",
       "                                                         presented        0   \n",
       "\n",
       "                                                                                \\\n",
       "Product                                                            Maintenance   \n",
       "Manager       Rep           Name                         Status                  \n",
       "Debra Henley  Craig Booker  Fritsch, Russel and Anderson declined            0   \n",
       "                            Trantow-Barrows              pending             2   \n",
       "                                                         presented           0   \n",
       "              Daniel Hilton Kiehn-Spinka                 won                 0   \n",
       "                            Kulas Inc                    pending             0   \n",
       "                                                         presented           0   \n",
       "              John Smith    Barton LLC                   declined            0   \n",
       "                            Jerde-Hilpert                pending             2   \n",
       "Fred Anderson Cedric Moss   Herman LLC                   won                 0   \n",
       "                            Purdy-Kunde                  presented           0   \n",
       "                            Stokes LLC                   pending             1   \n",
       "                                                         presented           0   \n",
       "              Wendy Yule    Kassulke, Ondricka and Metz  won                 3   \n",
       "                            Keeling LLC                  won                 0   \n",
       "                            Koepp Ltd                    declined            0   \n",
       "                                                         presented           0   \n",
       "\n",
       "                                                                            \\\n",
       "Product                                                            Monitor   \n",
       "Manager       Rep           Name                         Status              \n",
       "Debra Henley  Craig Booker  Fritsch, Russel and Anderson declined        0   \n",
       "                            Trantow-Barrows              pending         0   \n",
       "                                                         presented       0   \n",
       "              Daniel Hilton Kiehn-Spinka                 won             0   \n",
       "                            Kulas Inc                    pending         0   \n",
       "                                                         presented       0   \n",
       "              John Smith    Barton LLC                   declined        0   \n",
       "                            Jerde-Hilpert                pending         0   \n",
       "Fred Anderson Cedric Moss   Herman LLC                   won             0   \n",
       "                            Purdy-Kunde                  presented       0   \n",
       "                            Stokes LLC                   pending         0   \n",
       "                                                         presented       0   \n",
       "              Wendy Yule    Kassulke, Ondricka and Metz  won             0   \n",
       "                            Keeling LLC                  won             0   \n",
       "                            Koepp Ltd                    declined        0   \n",
       "                                                         presented       2   \n",
       "\n",
       "                                                                             \n",
       "Product                                                            Software  \n",
       "Manager       Rep           Name                         Status              \n",
       "Debra Henley  Craig Booker  Fritsch, Russel and Anderson declined         0  \n",
       "                            Trantow-Barrows              pending          0  \n",
       "                                                         presented        1  \n",
       "              Daniel Hilton Kiehn-Spinka                 won              0  \n",
       "                            Kulas Inc                    pending          0  \n",
       "                                                         presented        1  \n",
       "              John Smith    Barton LLC                   declined         0  \n",
       "                            Jerde-Hilpert                pending          0  \n",
       "Fred Anderson Cedric Moss   Herman LLC                   won              0  \n",
       "                            Purdy-Kunde                  presented        0  \n",
       "                            Stokes LLC                   pending          0  \n",
       "                                                         presented        1  \n",
       "              Wendy Yule    Kassulke, Ondricka and Metz  won              0  \n",
       "                            Keeling LLC                  won              0  \n",
       "                            Koepp Ltd                    declined         0  \n",
       "                                                         presented        0  "
      ]
     },
     "execution_count": 67,
     "metadata": {},
     "output_type": "execute_result"
    }
   ],
   "source": [
    "import pandas as pd\n",
    "import numpy as np\n",
    "\n",
    "df = pd.read_csv(\"../../../CSV/sales-funnel-csv.csv\")\n",
    "df.head(20)\n",
    "df.tail(5)\n",
    "pd.pivot_table(df,index=[\"Name\",\"Rep\",\"Manager\", \"Product\", \"Quantity\"], aggfunc=[np.mean])\n",
    "pd.pivot_table(df,index=[\"Manager\", \"Rep\", \"Name\", \"Status\"],values=[\"Quantity\", \"Price\"], columns=[\"Product\"], aggfunc={\"Price\":np.mean,\"Quantity\":np.sum}, fill_value=0)"
   ]
  },
  {
   "cell_type": "code",
   "execution_count": 81,
   "metadata": {},
   "outputs": [
    {
     "data": {
      "text/html": [
       "<div>\n",
       "<style scoped>\n",
       "    .dataframe tbody tr th:only-of-type {\n",
       "        vertical-align: middle;\n",
       "    }\n",
       "\n",
       "    .dataframe tbody tr th {\n",
       "        vertical-align: top;\n",
       "    }\n",
       "\n",
       "    .dataframe thead th {\n",
       "        text-align: right;\n",
       "    }\n",
       "</style>\n",
       "<table border=\"1\" class=\"dataframe\">\n",
       "  <thead>\n",
       "    <tr style=\"text-align: right;\">\n",
       "      <th></th>\n",
       "      <th>Quarter</th>\n",
       "      <th>Month</th>\n",
       "      <th>Region</th>\n",
       "      <th>Quantity</th>\n",
       "      <th>Price</th>\n",
       "      <th>Sales</th>\n",
       "    </tr>\n",
       "  </thead>\n",
       "  <tbody>\n",
       "    <tr>\n",
       "      <th>0</th>\n",
       "      <td>Qtr-1</td>\n",
       "      <td>Jan</td>\n",
       "      <td>East</td>\n",
       "      <td>235</td>\n",
       "      <td>10.50</td>\n",
       "      <td>2467.50</td>\n",
       "    </tr>\n",
       "    <tr>\n",
       "      <th>1</th>\n",
       "      <td>Qtr-1</td>\n",
       "      <td>Feb</td>\n",
       "      <td>East</td>\n",
       "      <td>245</td>\n",
       "      <td>10.50</td>\n",
       "      <td>2572.50</td>\n",
       "    </tr>\n",
       "    <tr>\n",
       "      <th>2</th>\n",
       "      <td>Qtr-1</td>\n",
       "      <td>Mar</td>\n",
       "      <td>East</td>\n",
       "      <td>240</td>\n",
       "      <td>10.50</td>\n",
       "      <td>2520.00</td>\n",
       "    </tr>\n",
       "    <tr>\n",
       "      <th>3</th>\n",
       "      <td>Qtr-2</td>\n",
       "      <td>Apr</td>\n",
       "      <td>East</td>\n",
       "      <td>200</td>\n",
       "      <td>11.00</td>\n",
       "      <td>2200.00</td>\n",
       "    </tr>\n",
       "    <tr>\n",
       "      <th>4</th>\n",
       "      <td>Qtr-2</td>\n",
       "      <td>May</td>\n",
       "      <td>East</td>\n",
       "      <td>240</td>\n",
       "      <td>11.00</td>\n",
       "      <td>2640.00</td>\n",
       "    </tr>\n",
       "    <tr>\n",
       "      <th>5</th>\n",
       "      <td>Qtr-2</td>\n",
       "      <td>Jun</td>\n",
       "      <td>East</td>\n",
       "      <td>297</td>\n",
       "      <td>10.75</td>\n",
       "      <td>3192.75</td>\n",
       "    </tr>\n",
       "    <tr>\n",
       "      <th>6</th>\n",
       "      <td>Qtr-3</td>\n",
       "      <td>Jul</td>\n",
       "      <td>East</td>\n",
       "      <td>300</td>\n",
       "      <td>11.00</td>\n",
       "      <td>3300.00</td>\n",
       "    </tr>\n",
       "    <tr>\n",
       "      <th>7</th>\n",
       "      <td>Qtr-3</td>\n",
       "      <td>Aug</td>\n",
       "      <td>East</td>\n",
       "      <td>325</td>\n",
       "      <td>11.00</td>\n",
       "      <td>3575.00</td>\n",
       "    </tr>\n",
       "    <tr>\n",
       "      <th>8</th>\n",
       "      <td>Qtr-3</td>\n",
       "      <td>Sep</td>\n",
       "      <td>East</td>\n",
       "      <td>310</td>\n",
       "      <td>10.95</td>\n",
       "      <td>3394.50</td>\n",
       "    </tr>\n",
       "    <tr>\n",
       "      <th>9</th>\n",
       "      <td>Qtr-4</td>\n",
       "      <td>Oct</td>\n",
       "      <td>East</td>\n",
       "      <td>330</td>\n",
       "      <td>10.95</td>\n",
       "      <td>3613.50</td>\n",
       "    </tr>\n",
       "    <tr>\n",
       "      <th>10</th>\n",
       "      <td>Qtr-4</td>\n",
       "      <td>Nov</td>\n",
       "      <td>East</td>\n",
       "      <td>387</td>\n",
       "      <td>10.75</td>\n",
       "      <td>4160.25</td>\n",
       "    </tr>\n",
       "    <tr>\n",
       "      <th>11</th>\n",
       "      <td>Qtr-4</td>\n",
       "      <td>Dec</td>\n",
       "      <td>East</td>\n",
       "      <td>400</td>\n",
       "      <td>10.50</td>\n",
       "      <td>4200.00</td>\n",
       "    </tr>\n",
       "    <tr>\n",
       "      <th>12</th>\n",
       "      <td>Qtr-1</td>\n",
       "      <td>Jan</td>\n",
       "      <td>West</td>\n",
       "      <td>300</td>\n",
       "      <td>12.25</td>\n",
       "      <td>3675.00</td>\n",
       "    </tr>\n",
       "    <tr>\n",
       "      <th>13</th>\n",
       "      <td>Qtr-1</td>\n",
       "      <td>Feb</td>\n",
       "      <td>West</td>\n",
       "      <td>297</td>\n",
       "      <td>12.25</td>\n",
       "      <td>3638.25</td>\n",
       "    </tr>\n",
       "    <tr>\n",
       "      <th>14</th>\n",
       "      <td>Qtr-1</td>\n",
       "      <td>Mar</td>\n",
       "      <td>West</td>\n",
       "      <td>235</td>\n",
       "      <td>12.25</td>\n",
       "      <td>2878.75</td>\n",
       "    </tr>\n",
       "    <tr>\n",
       "      <th>15</th>\n",
       "      <td>Qtr-2</td>\n",
       "      <td>Apr</td>\n",
       "      <td>West</td>\n",
       "      <td>245</td>\n",
       "      <td>13.25</td>\n",
       "      <td>3246.25</td>\n",
       "    </tr>\n",
       "    <tr>\n",
       "      <th>16</th>\n",
       "      <td>Qtr-2</td>\n",
       "      <td>May</td>\n",
       "      <td>West</td>\n",
       "      <td>235</td>\n",
       "      <td>13.25</td>\n",
       "      <td>3113.75</td>\n",
       "    </tr>\n",
       "    <tr>\n",
       "      <th>17</th>\n",
       "      <td>Qtr-2</td>\n",
       "      <td>Jun</td>\n",
       "      <td>West</td>\n",
       "      <td>202</td>\n",
       "      <td>12.90</td>\n",
       "      <td>2605.80</td>\n",
       "    </tr>\n",
       "    <tr>\n",
       "      <th>18</th>\n",
       "      <td>Qtr-3</td>\n",
       "      <td>Jul</td>\n",
       "      <td>West</td>\n",
       "      <td>190</td>\n",
       "      <td>12.25</td>\n",
       "      <td>2327.50</td>\n",
       "    </tr>\n",
       "    <tr>\n",
       "      <th>19</th>\n",
       "      <td>Qtr-3</td>\n",
       "      <td>Aug</td>\n",
       "      <td>West</td>\n",
       "      <td>210</td>\n",
       "      <td>12.25</td>\n",
       "      <td>2572.50</td>\n",
       "    </tr>\n",
       "  </tbody>\n",
       "</table>\n",
       "</div>"
      ],
      "text/plain": [
       "   Quarter Month Region  Quantity  Price    Sales\n",
       "0    Qtr-1   Jan   East       235  10.50  2467.50\n",
       "1    Qtr-1   Feb   East       245  10.50  2572.50\n",
       "2    Qtr-1   Mar   East       240  10.50  2520.00\n",
       "3    Qtr-2   Apr   East       200  11.00  2200.00\n",
       "4    Qtr-2   May   East       240  11.00  2640.00\n",
       "5    Qtr-2   Jun   East       297  10.75  3192.75\n",
       "6    Qtr-3   Jul   East       300  11.00  3300.00\n",
       "7    Qtr-3   Aug   East       325  11.00  3575.00\n",
       "8    Qtr-3   Sep   East       310  10.95  3394.50\n",
       "9    Qtr-4   Oct   East       330  10.95  3613.50\n",
       "10   Qtr-4   Nov   East       387  10.75  4160.25\n",
       "11   Qtr-4   Dec   East       400  10.50  4200.00\n",
       "12   Qtr-1   Jan   West       300  12.25  3675.00\n",
       "13   Qtr-1   Feb   West       297  12.25  3638.25\n",
       "14   Qtr-1   Mar   West       235  12.25  2878.75\n",
       "15   Qtr-2   Apr   West       245  13.25  3246.25\n",
       "16   Qtr-2   May   West       235  13.25  3113.75\n",
       "17   Qtr-2   Jun   West       202  12.90  2605.80\n",
       "18   Qtr-3   Jul   West       190  12.25  2327.50\n",
       "19   Qtr-3   Aug   West       210  12.25  2572.50"
      ]
     },
     "execution_count": 81,
     "metadata": {},
     "output_type": "execute_result"
    },
    {
     "data": {
      "text/html": [
       "<div>\n",
       "<style scoped>\n",
       "    .dataframe tbody tr th:only-of-type {\n",
       "        vertical-align: middle;\n",
       "    }\n",
       "\n",
       "    .dataframe tbody tr th {\n",
       "        vertical-align: top;\n",
       "    }\n",
       "\n",
       "    .dataframe thead th {\n",
       "        text-align: right;\n",
       "    }\n",
       "</style>\n",
       "<table border=\"1\" class=\"dataframe\">\n",
       "  <thead>\n",
       "    <tr style=\"text-align: right;\">\n",
       "      <th></th>\n",
       "      <th>Quarter</th>\n",
       "      <th>Month</th>\n",
       "      <th>Region</th>\n",
       "      <th>Quantity</th>\n",
       "      <th>Price</th>\n",
       "      <th>Sales</th>\n",
       "    </tr>\n",
       "  </thead>\n",
       "  <tbody>\n",
       "    <tr>\n",
       "      <th>43</th>\n",
       "      <td>Qtr-3</td>\n",
       "      <td>Aug</td>\n",
       "      <td>North</td>\n",
       "      <td>287</td>\n",
       "      <td>11.45</td>\n",
       "      <td>3286.15</td>\n",
       "    </tr>\n",
       "    <tr>\n",
       "      <th>44</th>\n",
       "      <td>Qtr-3</td>\n",
       "      <td>Sep</td>\n",
       "      <td>North</td>\n",
       "      <td>300</td>\n",
       "      <td>11.75</td>\n",
       "      <td>3525.00</td>\n",
       "    </tr>\n",
       "    <tr>\n",
       "      <th>45</th>\n",
       "      <td>Qtr-4</td>\n",
       "      <td>Oct</td>\n",
       "      <td>North</td>\n",
       "      <td>330</td>\n",
       "      <td>11.75</td>\n",
       "      <td>3877.50</td>\n",
       "    </tr>\n",
       "    <tr>\n",
       "      <th>46</th>\n",
       "      <td>Qtr-4</td>\n",
       "      <td>Nov</td>\n",
       "      <td>North</td>\n",
       "      <td>380</td>\n",
       "      <td>11.00</td>\n",
       "      <td>4180.00</td>\n",
       "    </tr>\n",
       "    <tr>\n",
       "      <th>47</th>\n",
       "      <td>Qtr-4</td>\n",
       "      <td>Dec</td>\n",
       "      <td>North</td>\n",
       "      <td>410</td>\n",
       "      <td>10.95</td>\n",
       "      <td>4489.50</td>\n",
       "    </tr>\n",
       "  </tbody>\n",
       "</table>\n",
       "</div>"
      ],
      "text/plain": [
       "   Quarter Month Region  Quantity  Price    Sales\n",
       "43   Qtr-3   Aug  North       287  11.45  3286.15\n",
       "44   Qtr-3   Sep  North       300  11.75  3525.00\n",
       "45   Qtr-4   Oct  North       330  11.75  3877.50\n",
       "46   Qtr-4   Nov  North       380  11.00  4180.00\n",
       "47   Qtr-4   Dec  North       410  10.95  4489.50"
      ]
     },
     "execution_count": 81,
     "metadata": {},
     "output_type": "execute_result"
    },
    {
     "data": {
      "text/html": [
       "<div>\n",
       "<style scoped>\n",
       "    .dataframe tbody tr th:only-of-type {\n",
       "        vertical-align: middle;\n",
       "    }\n",
       "\n",
       "    .dataframe tbody tr th {\n",
       "        vertical-align: top;\n",
       "    }\n",
       "\n",
       "    .dataframe thead th {\n",
       "        text-align: right;\n",
       "    }\n",
       "</style>\n",
       "<table border=\"1\" class=\"dataframe\">\n",
       "  <thead>\n",
       "    <tr style=\"text-align: right;\">\n",
       "      <th></th>\n",
       "      <th></th>\n",
       "      <th>Price</th>\n",
       "      <th>Quantity</th>\n",
       "      <th>Sales</th>\n",
       "    </tr>\n",
       "    <tr>\n",
       "      <th>Region</th>\n",
       "      <th>Quarter</th>\n",
       "      <th></th>\n",
       "      <th></th>\n",
       "      <th></th>\n",
       "    </tr>\n",
       "  </thead>\n",
       "  <tbody>\n",
       "    <tr>\n",
       "      <th rowspan=\"4\" valign=\"top\">East</th>\n",
       "      <th>Qtr-1</th>\n",
       "      <td>10.500000</td>\n",
       "      <td>720</td>\n",
       "      <td>7560.00</td>\n",
       "    </tr>\n",
       "    <tr>\n",
       "      <th>Qtr-2</th>\n",
       "      <td>10.916667</td>\n",
       "      <td>737</td>\n",
       "      <td>8032.75</td>\n",
       "    </tr>\n",
       "    <tr>\n",
       "      <th>Qtr-3</th>\n",
       "      <td>10.983333</td>\n",
       "      <td>935</td>\n",
       "      <td>10269.50</td>\n",
       "    </tr>\n",
       "    <tr>\n",
       "      <th>Qtr-4</th>\n",
       "      <td>10.733333</td>\n",
       "      <td>1117</td>\n",
       "      <td>11973.75</td>\n",
       "    </tr>\n",
       "    <tr>\n",
       "      <th rowspan=\"4\" valign=\"top\">North</th>\n",
       "      <th>Qtr-1</th>\n",
       "      <td>10.000000</td>\n",
       "      <td>592</td>\n",
       "      <td>5920.00</td>\n",
       "    </tr>\n",
       "    <tr>\n",
       "      <th>Qtr-2</th>\n",
       "      <td>10.833333</td>\n",
       "      <td>629</td>\n",
       "      <td>6821.75</td>\n",
       "    </tr>\n",
       "    <tr>\n",
       "      <th>Qtr-3</th>\n",
       "      <td>11.550000</td>\n",
       "      <td>837</td>\n",
       "      <td>9673.65</td>\n",
       "    </tr>\n",
       "    <tr>\n",
       "      <th>Qtr-4</th>\n",
       "      <td>11.233333</td>\n",
       "      <td>1120</td>\n",
       "      <td>12547.00</td>\n",
       "    </tr>\n",
       "    <tr>\n",
       "      <th rowspan=\"4\" valign=\"top\">South</th>\n",
       "      <th>Qtr-1</th>\n",
       "      <td>9.750000</td>\n",
       "      <td>689</td>\n",
       "      <td>6717.75</td>\n",
       "    </tr>\n",
       "    <tr>\n",
       "      <th>Qtr-2</th>\n",
       "      <td>9.933333</td>\n",
       "      <td>802</td>\n",
       "      <td>7960.30</td>\n",
       "    </tr>\n",
       "    <tr>\n",
       "      <th>Qtr-3</th>\n",
       "      <td>10.400000</td>\n",
       "      <td>750</td>\n",
       "      <td>7803.75</td>\n",
       "    </tr>\n",
       "    <tr>\n",
       "      <th>Qtr-4</th>\n",
       "      <td>10.516667</td>\n",
       "      <td>947</td>\n",
       "      <td>9945.55</td>\n",
       "    </tr>\n",
       "    <tr>\n",
       "      <th rowspan=\"4\" valign=\"top\">West</th>\n",
       "      <th>Qtr-1</th>\n",
       "      <td>12.250000</td>\n",
       "      <td>832</td>\n",
       "      <td>10192.00</td>\n",
       "    </tr>\n",
       "    <tr>\n",
       "      <th>Qtr-2</th>\n",
       "      <td>13.133333</td>\n",
       "      <td>682</td>\n",
       "      <td>8965.80</td>\n",
       "    </tr>\n",
       "    <tr>\n",
       "      <th>Qtr-3</th>\n",
       "      <td>12.333333</td>\n",
       "      <td>675</td>\n",
       "      <td>8337.50</td>\n",
       "    </tr>\n",
       "    <tr>\n",
       "      <th>Qtr-4</th>\n",
       "      <td>11.766667</td>\n",
       "      <td>1047</td>\n",
       "      <td>12195.50</td>\n",
       "    </tr>\n",
       "  </tbody>\n",
       "</table>\n",
       "</div>"
      ],
      "text/plain": [
       "                    Price  Quantity     Sales\n",
       "Region Quarter                               \n",
       "East   Qtr-1    10.500000       720   7560.00\n",
       "       Qtr-2    10.916667       737   8032.75\n",
       "       Qtr-3    10.983333       935  10269.50\n",
       "       Qtr-4    10.733333      1117  11973.75\n",
       "North  Qtr-1    10.000000       592   5920.00\n",
       "       Qtr-2    10.833333       629   6821.75\n",
       "       Qtr-3    11.550000       837   9673.65\n",
       "       Qtr-4    11.233333      1120  12547.00\n",
       "South  Qtr-1     9.750000       689   6717.75\n",
       "       Qtr-2     9.933333       802   7960.30\n",
       "       Qtr-3    10.400000       750   7803.75\n",
       "       Qtr-4    10.516667       947   9945.55\n",
       "West   Qtr-1    12.250000       832  10192.00\n",
       "       Qtr-2    13.133333       682   8965.80\n",
       "       Qtr-3    12.333333       675   8337.50\n",
       "       Qtr-4    11.766667      1047  12195.50"
      ]
     },
     "execution_count": 81,
     "metadata": {},
     "output_type": "execute_result"
    }
   ],
   "source": [
    "df1 = pd.read_csv(\"../../../CSV/sales-funnel-utpal.csv\")\n",
    "df1.head(20)\n",
    "df1.tail(5)\n",
    "pd.pivot_table(df1, index=[\"Region\", \"Quarter\"], \n",
    "                    values=[\"Quantity\", \"Sales\", \"Price\"], \n",
    "                    aggfunc={\"Quantity\":np.sum, \"Sales\":np.sum, \"Price\":np.mean})"
   ]
  },
  {
   "cell_type": "code",
   "execution_count": 71,
   "metadata": {},
   "outputs": [],
   "source": [
    "my_list = df1['Sales'].tolist()"
   ]
  },
  {
   "cell_type": "code",
   "execution_count": 72,
   "metadata": {},
   "outputs": [
    {
     "data": {
      "text/plain": [
       "[2467.5,\n",
       " 2572.5,\n",
       " 2520.0,\n",
       " 2200.0,\n",
       " 2640.0,\n",
       " 3192.75,\n",
       " 3300.0,\n",
       " 3575.0,\n",
       " 3394.5,\n",
       " 3613.5,\n",
       " 4160.25,\n",
       " 4200.0,\n",
       " 3675.0,\n",
       " 3638.25,\n",
       " 2878.75,\n",
       " 3246.25,\n",
       " 3113.75,\n",
       " 2605.8,\n",
       " 2327.5,\n",
       " 2572.5,\n",
       " 3437.5,\n",
       " 3587.5,\n",
       " 3658.0,\n",
       " 4950.0,\n",
       " 1823.25,\n",
       " 1969.5,\n",
       " 2925.0,\n",
       " 2940.3,\n",
       " 2970.0,\n",
       " 2050.0,\n",
       " 2328.75,\n",
       " 2587.5,\n",
       " 2887.5,\n",
       " 3056.55,\n",
       " 3301.5,\n",
       " 3587.5,\n",
       " 2000.0,\n",
       " 2050.0,\n",
       " 1870.0,\n",
       " 2171.5,\n",
       " 2010.25,\n",
       " 2640.0,\n",
       " 2862.5,\n",
       " 3286.15,\n",
       " 3525.0,\n",
       " 3877.5,\n",
       " 4180.0,\n",
       " 4489.5]"
      ]
     },
     "execution_count": 72,
     "metadata": {},
     "output_type": "execute_result"
    }
   ],
   "source": [
    "my_list"
   ]
  },
  {
   "cell_type": "code",
   "execution_count": 73,
   "metadata": {},
   "outputs": [
    {
     "name": "stdout",
     "output_type": "stream",
     "text": [
      "2467.5 2572.5 2520.0 2200.0 2640.0 3192.75 3300.0 3575.0 3394.5 3613.5 4160.25 4200.0 3675.0 3638.25 2878.75 3246.25 3113.75 2605.8 2327.5 2572.5 3437.5 3587.5 3658.0 4950.0 1823.25 1969.5 2925.0 2940.3 2970.0 2050.0 2328.75 2587.5 2887.5 3056.55 3301.5 3587.5 2000.0 2050.0 1870.0 2171.5 2010.25 2640.0 2862.5 3286.15 3525.0 3877.5 4180.0 4489.5\n"
     ]
    }
   ],
   "source": [
    "print(*my_list)"
   ]
  },
  {
   "cell_type": "code",
   "execution_count": 74,
   "metadata": {},
   "outputs": [],
   "source": [
    "my_list = df1['Quantity']\n"
   ]
  },
  {
   "cell_type": "code",
   "execution_count": 75,
   "metadata": {},
   "outputs": [
    {
     "name": "stdout",
     "output_type": "stream",
     "text": [
      "0     235\n",
      "1     245\n",
      "2     240\n",
      "3     200\n",
      "4     240\n",
      "5     297\n",
      "6     300\n",
      "7     325\n",
      "8     310\n",
      "9     330\n",
      "10    387\n",
      "11    400\n",
      "12    300\n",
      "13    297\n",
      "14    235\n",
      "15    245\n",
      "16    235\n",
      "17    202\n",
      "18    190\n",
      "19    210\n",
      "20    275\n",
      "21    287\n",
      "22    310\n",
      "23    450\n",
      "24    187\n",
      "25    202\n",
      "26    300\n",
      "27    297\n",
      "28    300\n",
      "29    205\n",
      "30    225\n",
      "31    250\n",
      "32    275\n",
      "33    287\n",
      "34    310\n",
      "35    350\n",
      "36    200\n",
      "37    205\n",
      "38    187\n",
      "39    202\n",
      "40    187\n",
      "41    240\n",
      "42    250\n",
      "43    287\n",
      "44    300\n",
      "45    330\n",
      "46    380\n",
      "47    410\n",
      "Name: Quantity, dtype: int64\n"
     ]
    }
   ],
   "source": [
    "print(my_list)"
   ]
  },
  {
   "cell_type": "code",
   "execution_count": 76,
   "metadata": {},
   "outputs": [
    {
     "name": "stdout",
     "output_type": "stream",
     "text": [
      "235 245 240 200 240 297 300 325 310 330 387 400 300 297 235 245 235 202 190 210 275 287 310 450 187 202 300 297 300 205 225 250 275 287 310 350 200 205 187 202 187 240 250 287 300 330 380 410\n"
     ]
    }
   ],
   "source": [
    "print(*my_list)"
   ]
  },
  {
   "cell_type": "code",
   "execution_count": 77,
   "metadata": {},
   "outputs": [],
   "source": [
    "x= my_list"
   ]
  },
  {
   "cell_type": "code",
   "execution_count": 78,
   "metadata": {},
   "outputs": [
    {
     "name": "stdout",
     "output_type": "stream",
     "text": [
      "0     235\n",
      "1     245\n",
      "2     240\n",
      "3     200\n",
      "4     240\n",
      "5     297\n",
      "6     300\n",
      "7     325\n",
      "8     310\n",
      "9     330\n",
      "10    387\n",
      "11    400\n",
      "12    300\n",
      "13    297\n",
      "14    235\n",
      "15    245\n",
      "16    235\n",
      "17    202\n",
      "18    190\n",
      "19    210\n",
      "20    275\n",
      "21    287\n",
      "22    310\n",
      "23    450\n",
      "24    187\n",
      "25    202\n",
      "26    300\n",
      "27    297\n",
      "28    300\n",
      "29    205\n",
      "30    225\n",
      "31    250\n",
      "32    275\n",
      "33    287\n",
      "34    310\n",
      "35    350\n",
      "36    200\n",
      "37    205\n",
      "38    187\n",
      "39    202\n",
      "40    187\n",
      "41    240\n",
      "42    250\n",
      "43    287\n",
      "44    300\n",
      "45    330\n",
      "46    380\n",
      "47    410\n",
      "Name: Quantity, dtype: int64\n"
     ]
    }
   ],
   "source": [
    "print(x)"
   ]
  },
  {
   "cell_type": "code",
   "execution_count": 79,
   "metadata": {},
   "outputs": [
    {
     "name": "stdout",
     "output_type": "stream",
     "text": [
      "10th Member = 330\n"
     ]
    }
   ],
   "source": [
    "print('10th Member =', x[9])"
   ]
  },
  {
   "cell_type": "code",
   "execution_count": 80,
   "metadata": {},
   "outputs": [
    {
     "data": {
      "text/plain": [
       "15"
      ]
     },
     "execution_count": 80,
     "metadata": {},
     "output_type": "execute_result"
    }
   ],
   "source": [
    "my_list = [1, 2, 3, 4, 5]\n",
    "sum(my_list)"
   ]
  },
  {
   "cell_type": "code",
   "execution_count": 82,
   "metadata": {},
   "outputs": [
    {
     "data": {
      "text/plain": [
       "13111"
      ]
     },
     "execution_count": 82,
     "metadata": {},
     "output_type": "execute_result"
    }
   ],
   "source": [
    "sum(x)"
   ]
  },
  {
   "cell_type": "code",
   "execution_count": null,
   "metadata": {},
   "outputs": [],
   "source": []
  }
 ],
 "metadata": {
  "kernelspec": {
   "display_name": "Python 3",
   "language": "python",
   "name": "python3"
  },
  "language_info": {
   "codemirror_mode": {
    "name": "ipython",
    "version": 3
   },
   "file_extension": ".py",
   "mimetype": "text/x-python",
   "name": "python",
   "nbconvert_exporter": "python",
   "pygments_lexer": "ipython3",
   "version": "3.7.9"
  }
 },
 "nbformat": 4,
 "nbformat_minor": 2
}
