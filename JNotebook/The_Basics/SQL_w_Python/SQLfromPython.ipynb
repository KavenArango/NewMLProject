{
 "cells": [
  {
   "cell_type": "code",
   "execution_count": 15,
   "metadata": {},
   "outputs": [],
   "source": [
    "import mysql.connector\n"
   ]
  },
  {
   "cell_type": "code",
   "execution_count": 16,
   "metadata": {},
   "outputs": [],
   "source": [
    "from IPython.core.interactiveshell import InteractiveShell\n",
    "InteractiveShell.ast_node_interactivity = \"all\""
   ]
  },
  {
   "cell_type": "code",
   "execution_count": 17,
   "metadata": {},
   "outputs": [],
   "source": [
    "  my_connection = mysql.connector.connect(user='root', password='Scribe123!',\n",
    "                              host= 'localhost',\n",
    "                              database='mytestdb',\n",
    "                              auth_plugin='caching_sha2_password')                          "
   ]
  },
  {
   "cell_type": "code",
   "execution_count": 18,
   "metadata": {},
   "outputs": [
    {
     "name": "stdout",
     "output_type": "stream",
     "text": [
      "(1, 'USA', 'East', 'New Hampshire', 'Manchester', 100000)\n",
      "(2, 'USA', 'EAST', 'New Hampshire', 'Nashua', 200000)\n",
      "(3, 'USA', 'EAST', 'Maine', 'Portland', 150000)\n",
      "(4, 'USA', 'WEST', 'California', 'San Francisco', 300000)\n",
      "(5, 'USA', 'WEST', 'California', 'Los Angales', 500000)\n",
      "(6, 'CANADA', 'EAST', 'Ontario', 'Toronto', 500000)\n",
      "(7, 'CANADA', 'EAST', 'Ontario', 'Ottawa', 600000)\n",
      "(8, 'CANADA', 'WEST', 'British Columbia', 'Vancuver', 500000)\n",
      "(9, 'CANADA', 'NORTH', 'Nunavut', 'Dawsn City', 5000)\n",
      "(10, 'UK', 'South', 'England', 'London', 500000)\n",
      "(11, 'UK', 'NORTH', 'Scotland', 'Edinborough', 300000)\n"
     ]
    }
   ],
   "source": [
    "my_cursor = my_connection.cursor()\n",
    "sql = 'Select * from basedata'\n",
    "my_cursor.execute (sql)\n",
    "for x in my_cursor:\n",
    "    print(x)"
   ]
  },
  {
   "cell_type": "code",
   "execution_count": 5,
   "metadata": {},
   "outputs": [
    {
     "name": "stdout",
     "output_type": "stream",
     "text": [
      "(1, 'Manchester', 100000, 1)\n",
      "(2, 'Nashua', 200000, 1)\n"
     ]
    }
   ],
   "source": [
    "sql = 'select * from city where stateid = 1'\n",
    "my_cursor.execute(sql)\n",
    "data = my_cursor.fetchmany(2)\n",
    "for x in data:\n",
    "    print(x)"
   ]
  },
  {
   "cell_type": "code",
   "execution_count": 6,
   "metadata": {},
   "outputs": [],
   "source": [
    "data = my_cursor.fetchmany(2)\n",
    "for x in data:\n",
    "    print(x)"
   ]
  },
  {
   "cell_type": "code",
   "execution_count": 7,
   "metadata": {},
   "outputs": [],
   "source": [
    "data = my_cursor.fetchmany(2)\n",
    "for x in data:\n",
    "    print(x)"
   ]
  },
  {
   "cell_type": "code",
   "execution_count": 8,
   "metadata": {},
   "outputs": [
    {
     "name": "stdout",
     "output_type": "stream",
     "text": [
      "DB connection is still open\n",
      "(4, 'San Francisco', 300000, 3)\n",
      "(5, 'Los Angeles', 500000, 3)\n",
      "===============================\n",
      "DB connection is still open\n",
      "(8, 'Vancuver', 500000, 5)\n",
      "=============================== basedata\n",
      "(1, 'USA', 'East', 'New Hampshire', 'Manchester', 100000)\n",
      "(2, 'USA', 'EAST', 'New Hampshire', 'Nashua', 200000)\n",
      "(3, 'USA', 'EAST', 'Maine', 'Portland', 150000)\n",
      "(4, 'USA', 'WEST', 'California', 'San Francisco', 300000)\n",
      "(5, 'USA', 'WEST', 'California', 'Los Angales', 500000)\n",
      "(6, 'CANADA', 'EAST', 'Ontario', 'Toronto', 500000)\n",
      "(7, 'CANADA', 'EAST', 'Ontario', 'Ottawa', 600000)\n",
      "(8, 'CANADA', 'WEST', 'British Columbia', 'Vancuver', 500000)\n",
      "(9, 'CANADA', 'NORTH', 'Nunavut', 'Dawsn City', 5000)\n",
      "(10, 'UK', 'South', 'England', 'London', 500000)\n",
      "(11, 'UK', 'NORTH', 'Scotland', 'Edinborough', 300000)\n",
      "===============================city\n",
      "(1, 'Manchester', 100000, 1)\n",
      "(2, 'Nashua', 200000, 1)\n",
      "(3, 'Portland', 150000, 2)\n",
      "(4, 'San Francisco', 300000, 3)\n",
      "(5, 'Los Angeles', 500000, 3)\n",
      "(6, 'Toronto', 500000, 4)\n",
      "(7, 'Ottawa', 600000, 4)\n",
      "(8, 'Vancuver', 500000, 5)\n",
      "(9, 'Dawsn City', 5000, 8)\n",
      "(10, 'London', 500000, 6)\n",
      "(11, 'Edinborough', 300000, 7)\n",
      "===============================state\n",
      "(1, 'New Hampshire', 1)\n",
      "(2, 'Maine', 1)\n",
      "(3, 'California', 2)\n",
      "(4, 'Ontario', 3)\n",
      "(5, 'British Columbia', 4)\n",
      "(6, 'England', 5)\n",
      "(7, 'Scotland', 6)\n",
      "(8, 'Nunavut', 7)\n",
      "===============================region\n",
      "(1, 'US EAST', 1)\n",
      "(2, 'US WEST', 1)\n",
      "(3, 'CANADA EAST', 2)\n",
      "(4, 'CANADA WEST', 2)\n",
      "(5, 'UK SOUTH', 2)\n",
      "(6, 'UK NORTH', 3)\n",
      "(7, 'CANADA NORTH', 2)\n",
      "===============================country\n",
      "(1, 'USA')\n",
      "(2, 'CANADA')\n",
      "(3, 'UK')\n"
     ]
    }
   ],
   "source": [
    "sql = 'select * from city where stateid = 3'\n",
    "if my_connection.is_connected():\n",
    "    print('DB connection is still open')\n",
    "else:\n",
    "    my_connection = mysql.connector.connect(user='root', password='Scribe123!',\n",
    "                              host= 'localhost',\n",
    "                              database='utpaldb')\n",
    "my_cursor = my_connection.cursor()\n",
    "my_cursor.execute(sql)\n",
    "data = my_cursor.fetchall()\n",
    "for x in data:\n",
    "    print(x)\n",
    "print('===============================')\n",
    "sql = 'select * from city where stateid = 5 '\n",
    "if my_connection.is_connected():\n",
    "    print('DB connection is still open')\n",
    "else:\n",
    "    my_connection = mysql.connector.connect(user='root', password='Scribe123!',\n",
    "                              host= 'localhost',\n",
    "                              database='utpaldb')\n",
    "my_cursor = my_connection.cursor()\n",
    "my_cursor.execute(sql)\n",
    "data = my_cursor.fetchall()\n",
    "for x in data:\n",
    "    print(x)\n",
    "print('=============================== basedata')\n",
    "sql = 'Select * from basedata'\n",
    "my_cursor.execute(sql)\n",
    "data = my_cursor.fetchall()\n",
    "for x in data:\n",
    "    print(x)\n",
    "print('===============================city')\n",
    "sql = 'Select * from city'\n",
    "my_cursor.execute(sql)\n",
    "data = my_cursor.fetchall()\n",
    "for x in data:\n",
    "    print(x)\n",
    "print('===============================state')\n",
    "sql = 'Select * from state'\n",
    "my_cursor.execute(sql)\n",
    "data = my_cursor.fetchall()\n",
    "for x in data:\n",
    "    print(x)\n",
    "print('===============================region')\n",
    "sql = 'Select * from region'\n",
    "my_cursor.execute(sql)\n",
    "data = my_cursor.fetchall()\n",
    "for x in data:\n",
    "    print(x)\n",
    "print('===============================country')\n",
    "sql = 'Select * from country'\n",
    "my_cursor.execute(sql)\n",
    "data = my_cursor.fetchall()\n",
    "for x in data:\n",
    "    print(x)"
   ]
  },
  {
   "cell_type": "code",
   "execution_count": 9,
   "metadata": {},
   "outputs": [],
   "source": [
    "import csv\n",
    "import pandas as pd\n",
    "import numpy as np"
   ]
  },
  {
   "cell_type": "code",
   "execution_count": 10,
   "metadata": {},
   "outputs": [
    {
     "data": {
      "text/plain": [
       "31"
      ]
     },
     "execution_count": 10,
     "metadata": {},
     "output_type": "execute_result"
    },
    {
     "name": "stdout",
     "output_type": "stream",
     "text": [
      "(1, 'USA')\n"
     ]
    },
    {
     "data": {
      "text/plain": [
       "7"
      ]
     },
     "execution_count": 10,
     "metadata": {},
     "output_type": "execute_result"
    },
    {
     "name": "stdout",
     "output_type": "stream",
     "text": [
      "(2, 'CANADA')\n"
     ]
    },
    {
     "data": {
      "text/plain": [
       "10"
      ]
     },
     "execution_count": 10,
     "metadata": {},
     "output_type": "execute_result"
    },
    {
     "name": "stdout",
     "output_type": "stream",
     "text": [
      "(3, 'UK')\n"
     ]
    },
    {
     "data": {
      "text/plain": [
       "6"
      ]
     },
     "execution_count": 10,
     "metadata": {},
     "output_type": "execute_result"
    }
   ],
   "source": [
    "with open('c:/users/utpal/desktop/test.csv', 'w', newline='') as f_handle:\n",
    "    writer = csv.writer(f_handle)\n",
    "    # Add the header/column names\n",
    "    header = ['City', 'State', 'Population', 'Capital']\n",
    "    writer.writerow(header)\n",
    "    my_cursor.execute(sql)\n",
    "    data = my_cursor.fetchall()\n",
    "    # Iterate over `data`  and  write to the csv file\n",
    "    for row in data:\n",
    "        print(row)\n",
    "        writer.writerow(row)\n",
    "    f_handle.close()"
   ]
  },
  {
   "cell_type": "code",
   "execution_count": 11,
   "metadata": {},
   "outputs": [
    {
     "ename": "FileNotFoundError",
     "evalue": "[Errno 2] File b'c:/users/utpal.datta/desktop/test.csv' does not exist: b'c:/users/utpal.datta/desktop/test.csv'",
     "output_type": "error",
     "traceback": [
      "\u001b[1;31m---------------------------------------------------------------------------\u001b[0m",
      "\u001b[1;31mFileNotFoundError\u001b[0m                         Traceback (most recent call last)",
      "\u001b[1;32m<ipython-input-11-4169e930c994>\u001b[0m in \u001b[0;36m<module>\u001b[1;34m\u001b[0m\n\u001b[1;32m----> 1\u001b[1;33m \u001b[0mnewdf\u001b[0m \u001b[1;33m=\u001b[0m \u001b[0mpd\u001b[0m\u001b[1;33m.\u001b[0m\u001b[0mread_csv\u001b[0m\u001b[1;33m(\u001b[0m\u001b[1;34m\"c:/users/utpal.datta/desktop/test.csv\"\u001b[0m\u001b[1;33m)\u001b[0m\u001b[1;33m\u001b[0m\u001b[1;33m\u001b[0m\u001b[0m\n\u001b[0m\u001b[0;32m      2\u001b[0m \u001b[0mprint\u001b[0m\u001b[1;33m(\u001b[0m\u001b[0mnewdf\u001b[0m\u001b[1;33m)\u001b[0m\u001b[1;33m\u001b[0m\u001b[1;33m\u001b[0m\u001b[0m\n\u001b[0;32m      3\u001b[0m \u001b[0mnewdf\u001b[0m\u001b[1;33m.\u001b[0m\u001b[0mhead\u001b[0m\u001b[1;33m(\u001b[0m\u001b[1;36m10\u001b[0m\u001b[1;33m)\u001b[0m\u001b[1;33m\u001b[0m\u001b[1;33m\u001b[0m\u001b[0m\n",
      "\u001b[1;32mc:\\users\\utpal\\appdata\\local\\programs\\python\\python37-32\\lib\\site-packages\\pandas\\io\\parsers.py\u001b[0m in \u001b[0;36mparser_f\u001b[1;34m(filepath_or_buffer, sep, delimiter, header, names, index_col, usecols, squeeze, prefix, mangle_dupe_cols, dtype, engine, converters, true_values, false_values, skipinitialspace, skiprows, skipfooter, nrows, na_values, keep_default_na, na_filter, verbose, skip_blank_lines, parse_dates, infer_datetime_format, keep_date_col, date_parser, dayfirst, cache_dates, iterator, chunksize, compression, thousands, decimal, lineterminator, quotechar, quoting, doublequote, escapechar, comment, encoding, dialect, error_bad_lines, warn_bad_lines, delim_whitespace, low_memory, memory_map, float_precision)\u001b[0m\n\u001b[0;32m    683\u001b[0m         )\n\u001b[0;32m    684\u001b[0m \u001b[1;33m\u001b[0m\u001b[0m\n\u001b[1;32m--> 685\u001b[1;33m         \u001b[1;32mreturn\u001b[0m \u001b[0m_read\u001b[0m\u001b[1;33m(\u001b[0m\u001b[0mfilepath_or_buffer\u001b[0m\u001b[1;33m,\u001b[0m \u001b[0mkwds\u001b[0m\u001b[1;33m)\u001b[0m\u001b[1;33m\u001b[0m\u001b[1;33m\u001b[0m\u001b[0m\n\u001b[0m\u001b[0;32m    686\u001b[0m \u001b[1;33m\u001b[0m\u001b[0m\n\u001b[0;32m    687\u001b[0m     \u001b[0mparser_f\u001b[0m\u001b[1;33m.\u001b[0m\u001b[0m__name__\u001b[0m \u001b[1;33m=\u001b[0m \u001b[0mname\u001b[0m\u001b[1;33m\u001b[0m\u001b[1;33m\u001b[0m\u001b[0m\n",
      "\u001b[1;32mc:\\users\\utpal\\appdata\\local\\programs\\python\\python37-32\\lib\\site-packages\\pandas\\io\\parsers.py\u001b[0m in \u001b[0;36m_read\u001b[1;34m(filepath_or_buffer, kwds)\u001b[0m\n\u001b[0;32m    455\u001b[0m \u001b[1;33m\u001b[0m\u001b[0m\n\u001b[0;32m    456\u001b[0m     \u001b[1;31m# Create the parser.\u001b[0m\u001b[1;33m\u001b[0m\u001b[1;33m\u001b[0m\u001b[1;33m\u001b[0m\u001b[0m\n\u001b[1;32m--> 457\u001b[1;33m     \u001b[0mparser\u001b[0m \u001b[1;33m=\u001b[0m \u001b[0mTextFileReader\u001b[0m\u001b[1;33m(\u001b[0m\u001b[0mfp_or_buf\u001b[0m\u001b[1;33m,\u001b[0m \u001b[1;33m**\u001b[0m\u001b[0mkwds\u001b[0m\u001b[1;33m)\u001b[0m\u001b[1;33m\u001b[0m\u001b[1;33m\u001b[0m\u001b[0m\n\u001b[0m\u001b[0;32m    458\u001b[0m \u001b[1;33m\u001b[0m\u001b[0m\n\u001b[0;32m    459\u001b[0m     \u001b[1;32mif\u001b[0m \u001b[0mchunksize\u001b[0m \u001b[1;32mor\u001b[0m \u001b[0miterator\u001b[0m\u001b[1;33m:\u001b[0m\u001b[1;33m\u001b[0m\u001b[1;33m\u001b[0m\u001b[0m\n",
      "\u001b[1;32mc:\\users\\utpal\\appdata\\local\\programs\\python\\python37-32\\lib\\site-packages\\pandas\\io\\parsers.py\u001b[0m in \u001b[0;36m__init__\u001b[1;34m(self, f, engine, **kwds)\u001b[0m\n\u001b[0;32m    893\u001b[0m             \u001b[0mself\u001b[0m\u001b[1;33m.\u001b[0m\u001b[0moptions\u001b[0m\u001b[1;33m[\u001b[0m\u001b[1;34m\"has_index_names\"\u001b[0m\u001b[1;33m]\u001b[0m \u001b[1;33m=\u001b[0m \u001b[0mkwds\u001b[0m\u001b[1;33m[\u001b[0m\u001b[1;34m\"has_index_names\"\u001b[0m\u001b[1;33m]\u001b[0m\u001b[1;33m\u001b[0m\u001b[1;33m\u001b[0m\u001b[0m\n\u001b[0;32m    894\u001b[0m \u001b[1;33m\u001b[0m\u001b[0m\n\u001b[1;32m--> 895\u001b[1;33m         \u001b[0mself\u001b[0m\u001b[1;33m.\u001b[0m\u001b[0m_make_engine\u001b[0m\u001b[1;33m(\u001b[0m\u001b[0mself\u001b[0m\u001b[1;33m.\u001b[0m\u001b[0mengine\u001b[0m\u001b[1;33m)\u001b[0m\u001b[1;33m\u001b[0m\u001b[1;33m\u001b[0m\u001b[0m\n\u001b[0m\u001b[0;32m    896\u001b[0m \u001b[1;33m\u001b[0m\u001b[0m\n\u001b[0;32m    897\u001b[0m     \u001b[1;32mdef\u001b[0m \u001b[0mclose\u001b[0m\u001b[1;33m(\u001b[0m\u001b[0mself\u001b[0m\u001b[1;33m)\u001b[0m\u001b[1;33m:\u001b[0m\u001b[1;33m\u001b[0m\u001b[1;33m\u001b[0m\u001b[0m\n",
      "\u001b[1;32mc:\\users\\utpal\\appdata\\local\\programs\\python\\python37-32\\lib\\site-packages\\pandas\\io\\parsers.py\u001b[0m in \u001b[0;36m_make_engine\u001b[1;34m(self, engine)\u001b[0m\n\u001b[0;32m   1133\u001b[0m     \u001b[1;32mdef\u001b[0m \u001b[0m_make_engine\u001b[0m\u001b[1;33m(\u001b[0m\u001b[0mself\u001b[0m\u001b[1;33m,\u001b[0m \u001b[0mengine\u001b[0m\u001b[1;33m=\u001b[0m\u001b[1;34m\"c\"\u001b[0m\u001b[1;33m)\u001b[0m\u001b[1;33m:\u001b[0m\u001b[1;33m\u001b[0m\u001b[1;33m\u001b[0m\u001b[0m\n\u001b[0;32m   1134\u001b[0m         \u001b[1;32mif\u001b[0m \u001b[0mengine\u001b[0m \u001b[1;33m==\u001b[0m \u001b[1;34m\"c\"\u001b[0m\u001b[1;33m:\u001b[0m\u001b[1;33m\u001b[0m\u001b[1;33m\u001b[0m\u001b[0m\n\u001b[1;32m-> 1135\u001b[1;33m             \u001b[0mself\u001b[0m\u001b[1;33m.\u001b[0m\u001b[0m_engine\u001b[0m \u001b[1;33m=\u001b[0m \u001b[0mCParserWrapper\u001b[0m\u001b[1;33m(\u001b[0m\u001b[0mself\u001b[0m\u001b[1;33m.\u001b[0m\u001b[0mf\u001b[0m\u001b[1;33m,\u001b[0m \u001b[1;33m**\u001b[0m\u001b[0mself\u001b[0m\u001b[1;33m.\u001b[0m\u001b[0moptions\u001b[0m\u001b[1;33m)\u001b[0m\u001b[1;33m\u001b[0m\u001b[1;33m\u001b[0m\u001b[0m\n\u001b[0m\u001b[0;32m   1136\u001b[0m         \u001b[1;32melse\u001b[0m\u001b[1;33m:\u001b[0m\u001b[1;33m\u001b[0m\u001b[1;33m\u001b[0m\u001b[0m\n\u001b[0;32m   1137\u001b[0m             \u001b[1;32mif\u001b[0m \u001b[0mengine\u001b[0m \u001b[1;33m==\u001b[0m \u001b[1;34m\"python\"\u001b[0m\u001b[1;33m:\u001b[0m\u001b[1;33m\u001b[0m\u001b[1;33m\u001b[0m\u001b[0m\n",
      "\u001b[1;32mc:\\users\\utpal\\appdata\\local\\programs\\python\\python37-32\\lib\\site-packages\\pandas\\io\\parsers.py\u001b[0m in \u001b[0;36m__init__\u001b[1;34m(self, src, **kwds)\u001b[0m\n\u001b[0;32m   1904\u001b[0m         \u001b[0mkwds\u001b[0m\u001b[1;33m[\u001b[0m\u001b[1;34m\"usecols\"\u001b[0m\u001b[1;33m]\u001b[0m \u001b[1;33m=\u001b[0m \u001b[0mself\u001b[0m\u001b[1;33m.\u001b[0m\u001b[0musecols\u001b[0m\u001b[1;33m\u001b[0m\u001b[1;33m\u001b[0m\u001b[0m\n\u001b[0;32m   1905\u001b[0m \u001b[1;33m\u001b[0m\u001b[0m\n\u001b[1;32m-> 1906\u001b[1;33m         \u001b[0mself\u001b[0m\u001b[1;33m.\u001b[0m\u001b[0m_reader\u001b[0m \u001b[1;33m=\u001b[0m \u001b[0mparsers\u001b[0m\u001b[1;33m.\u001b[0m\u001b[0mTextReader\u001b[0m\u001b[1;33m(\u001b[0m\u001b[0msrc\u001b[0m\u001b[1;33m,\u001b[0m \u001b[1;33m**\u001b[0m\u001b[0mkwds\u001b[0m\u001b[1;33m)\u001b[0m\u001b[1;33m\u001b[0m\u001b[1;33m\u001b[0m\u001b[0m\n\u001b[0m\u001b[0;32m   1907\u001b[0m         \u001b[0mself\u001b[0m\u001b[1;33m.\u001b[0m\u001b[0munnamed_cols\u001b[0m \u001b[1;33m=\u001b[0m \u001b[0mself\u001b[0m\u001b[1;33m.\u001b[0m\u001b[0m_reader\u001b[0m\u001b[1;33m.\u001b[0m\u001b[0munnamed_cols\u001b[0m\u001b[1;33m\u001b[0m\u001b[1;33m\u001b[0m\u001b[0m\n\u001b[0;32m   1908\u001b[0m \u001b[1;33m\u001b[0m\u001b[0m\n",
      "\u001b[1;32mpandas\\_libs\\parsers.pyx\u001b[0m in \u001b[0;36mpandas._libs.parsers.TextReader.__cinit__\u001b[1;34m()\u001b[0m\n",
      "\u001b[1;32mpandas\\_libs\\parsers.pyx\u001b[0m in \u001b[0;36mpandas._libs.parsers.TextReader._setup_parser_source\u001b[1;34m()\u001b[0m\n",
      "\u001b[1;31mFileNotFoundError\u001b[0m: [Errno 2] File b'c:/users/utpal.datta/desktop/test.csv' does not exist: b'c:/users/utpal.datta/desktop/test.csv'"
     ]
    }
   ],
   "source": [
    "newdf = pd.read_csv(\"c:/users/utpal.datta/desktop/test.csv\")\n",
    "print(newdf)\n",
    "newdf.head(10)"
   ]
  },
  {
   "cell_type": "code",
   "execution_count": 12,
   "metadata": {},
   "outputs": [
    {
     "ename": "ModuleNotFoundError",
     "evalue": "No module named 'pyodbc'",
     "output_type": "error",
     "traceback": [
      "\u001b[1;31m---------------------------------------------------------------------------\u001b[0m",
      "\u001b[1;31mModuleNotFoundError\u001b[0m                       Traceback (most recent call last)",
      "\u001b[1;32m<ipython-input-12-cea82c14c67c>\u001b[0m in \u001b[0;36m<module>\u001b[1;34m\u001b[0m\n\u001b[1;32m----> 1\u001b[1;33m \u001b[1;32mimport\u001b[0m \u001b[0mpyodbc\u001b[0m\u001b[1;33m\u001b[0m\u001b[1;33m\u001b[0m\u001b[0m\n\u001b[0m\u001b[0;32m      2\u001b[0m \u001b[1;32mimport\u001b[0m \u001b[0mpandas\u001b[0m \u001b[1;32mas\u001b[0m \u001b[0mpd\u001b[0m\u001b[1;33m\u001b[0m\u001b[1;33m\u001b[0m\u001b[0m\n\u001b[0;32m      3\u001b[0m \u001b[1;33m\u001b[0m\u001b[0m\n\u001b[0;32m      4\u001b[0m cnxn = pyodbc.connect(\"DRIVER={SQL Server};\"\n\u001b[0;32m      5\u001b[0m                   \u001b[1;34m\"Server=LAPTOP-0RO30RDQ;\"\u001b[0m\u001b[1;33m\u001b[0m\u001b[1;33m\u001b[0m\u001b[0m\n",
      "\u001b[1;31mModuleNotFoundError\u001b[0m: No module named 'pyodbc'"
     ]
    }
   ],
   "source": [
    "import pyodbc \n",
    "import pandas as pd\n",
    "\n",
    "cnxn = pyodbc.connect(\"DRIVER={SQL Server};\"\n",
    "                  \"Server=LAPTOP-0RO30RDQ;\"\n",
    "                  \"DATABASE=Leaderscape_Dev;\"\n",
    "                  \"UID=utpal.datta@leaderscapecorp.com;\"\n",
    "                  \"PWD=Scribe123!;\"\n",
    "                  \"Trusted_Connection=Yes;\"\n",
    "                  \"Connection Timeout=10\")\n",
    "\n",
    "df = pd.read_sql_query('select * from tblState', cnxn)\n",
    "df.head(5)"
   ]
  },
  {
   "cell_type": "code",
   "execution_count": 13,
   "metadata": {},
   "outputs": [
    {
     "ename": "NameError",
     "evalue": "name 'cnxn' is not defined",
     "output_type": "error",
     "traceback": [
      "\u001b[1;31m---------------------------------------------------------------------------\u001b[0m",
      "\u001b[1;31mNameError\u001b[0m                                 Traceback (most recent call last)",
      "\u001b[1;32m<ipython-input-13-98dd03be868b>\u001b[0m in \u001b[0;36m<module>\u001b[1;34m\u001b[0m\n\u001b[1;32m----> 1\u001b[1;33m \u001b[0mdf\u001b[0m \u001b[1;33m=\u001b[0m \u001b[0mpd\u001b[0m\u001b[1;33m.\u001b[0m\u001b[0mread_sql_query\u001b[0m\u001b[1;33m(\u001b[0m\u001b[1;34m'select * from tblProjectStakeholder'\u001b[0m\u001b[1;33m,\u001b[0m \u001b[0mcnxn\u001b[0m\u001b[1;33m)\u001b[0m\u001b[1;33m\u001b[0m\u001b[1;33m\u001b[0m\u001b[0m\n\u001b[0m\u001b[0;32m      2\u001b[0m \u001b[0mdf\u001b[0m\u001b[1;33m.\u001b[0m\u001b[0mhead\u001b[0m\u001b[1;33m(\u001b[0m\u001b[1;36m25\u001b[0m\u001b[1;33m)\u001b[0m\u001b[1;33m\u001b[0m\u001b[1;33m\u001b[0m\u001b[0m\n",
      "\u001b[1;31mNameError\u001b[0m: name 'cnxn' is not defined"
     ]
    }
   ],
   "source": [
    "df = pd.read_sql_query('select * from tblProjectStakeholder', cnxn)\n",
    "df.head(25)"
   ]
  },
  {
   "cell_type": "code",
   "execution_count": 14,
   "metadata": {},
   "outputs": [
    {
     "ename": "NameError",
     "evalue": "name 'cnxn' is not defined",
     "output_type": "error",
     "traceback": [
      "\u001b[1;31m---------------------------------------------------------------------------\u001b[0m",
      "\u001b[1;31mNameError\u001b[0m                                 Traceback (most recent call last)",
      "\u001b[1;32m<ipython-input-14-fc207e22ed0c>\u001b[0m in \u001b[0;36m<module>\u001b[1;34m\u001b[0m\n\u001b[0;32m      1\u001b[0m \u001b[0msql\u001b[0m \u001b[1;33m=\u001b[0m \u001b[1;34m'select * from tblstate'\u001b[0m\u001b[1;33m\u001b[0m\u001b[1;33m\u001b[0m\u001b[0m\n\u001b[1;32m----> 2\u001b[1;33m \u001b[0mmy_sqlex_cursor\u001b[0m \u001b[1;33m=\u001b[0m \u001b[0mcnxn\u001b[0m\u001b[1;33m.\u001b[0m\u001b[0mcursor\u001b[0m\u001b[1;33m(\u001b[0m\u001b[1;33m)\u001b[0m\u001b[1;33m\u001b[0m\u001b[1;33m\u001b[0m\u001b[0m\n\u001b[0m\u001b[0;32m      3\u001b[0m \u001b[1;32mwith\u001b[0m \u001b[0mopen\u001b[0m\u001b[1;33m(\u001b[0m\u001b[1;34m'c:/users/utpal.datta/desktop/test.csv'\u001b[0m\u001b[1;33m,\u001b[0m \u001b[1;34m'w'\u001b[0m\u001b[1;33m,\u001b[0m \u001b[0mnewline\u001b[0m\u001b[1;33m=\u001b[0m\u001b[1;34m''\u001b[0m\u001b[1;33m)\u001b[0m \u001b[1;32mas\u001b[0m \u001b[0mf_handle\u001b[0m\u001b[1;33m:\u001b[0m\u001b[1;33m\u001b[0m\u001b[1;33m\u001b[0m\u001b[0m\n\u001b[0;32m      4\u001b[0m     \u001b[0mwriter\u001b[0m \u001b[1;33m=\u001b[0m \u001b[0mcsv\u001b[0m\u001b[1;33m.\u001b[0m\u001b[0mwriter\u001b[0m\u001b[1;33m(\u001b[0m\u001b[0mf_handle\u001b[0m\u001b[1;33m)\u001b[0m\u001b[1;33m\u001b[0m\u001b[1;33m\u001b[0m\u001b[0m\n\u001b[0;32m      5\u001b[0m     \u001b[1;31m# Add the header/column names\u001b[0m\u001b[1;33m\u001b[0m\u001b[1;33m\u001b[0m\u001b[1;33m\u001b[0m\u001b[0m\n",
      "\u001b[1;31mNameError\u001b[0m: name 'cnxn' is not defined"
     ]
    }
   ],
   "source": [
    "sql = 'select * from tblstate'\n",
    "my_sqlex_cursor = cnxn.cursor()\n",
    "with open('c:/users/utpal.datta/desktop/test.csv', 'w', newline='') as f_handle:\n",
    "    writer = csv.writer(f_handle)\n",
    "    # Add the header/column names\n",
    "    header = ['StateId', 'CountryId', 'DisplayOrder', 'IsActive', 'NameState', 'NameStateShort']\n",
    "    writer.writerow(header)\n",
    "    my_sqlex_cursor.execute(sql)\n",
    "    data = my_sqlex_cursor.fetchall()\n",
    "    # Iterate over `data`  and  write to the csv file\n",
    "    for row in data:\n",
    "        writer.writerow(row)\n",
    "    f_handle.close()"
   ]
  },
  {
   "cell_type": "code",
   "execution_count": null,
   "metadata": {},
   "outputs": [],
   "source": []
  },
  {
   "cell_type": "code",
   "execution_count": null,
   "metadata": {},
   "outputs": [],
   "source": []
  }
 ],
 "metadata": {
  "kernelspec": {
   "display_name": "Python 3",
   "language": "python",
   "name": "python3"
  },
  "language_info": {
   "codemirror_mode": {
    "name": "ipython",
    "version": 3
   },
   "file_extension": ".py",
   "mimetype": "text/x-python",
   "name": "python",
   "nbconvert_exporter": "python",
   "pygments_lexer": "ipython3",
   "version": "3.7.4"
  }
 },
 "nbformat": 4,
 "nbformat_minor": 2
}
