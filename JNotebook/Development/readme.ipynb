{
 "metadata": {
  "language_info": {
   "codemirror_mode": {
    "name": "ipython",
    "version": 3
   },
   "file_extension": ".py",
   "mimetype": "text/x-python",
   "name": "python",
   "nbconvert_exporter": "python",
   "pygments_lexer": "ipython3",
   "version": "3.6.2-final"
  },
  "orig_nbformat": 2,
  "kernelspec": {
   "name": "python3",
   "display_name": "Python 3",
   "language": "python"
  }
 },
 "nbformat": 4,
 "nbformat_minor": 2,
 "cells": [
  {
   "source": [
    "# IMPORTANT: DO NOT DELETE THIS FILE!!!"
   ],
   "cell_type": "markdown",
   "metadata": {}
  },
  {
   "source": [
    "# Creating a python notebook file.\n",
    "1. From the portal click the Development Folder button. <br />\n",
    "2. Create a new .ipynb file in the development directory.<br />\n",
    "3. Use the card to access the Jupyter notebook.<br />\n"
   ],
   "cell_type": "markdown",
   "metadata": {}
  },
  {
   "source": [
    "# Locating and accessing CSV folder\n",
    "If you want to use the CSV's that are included in the package.<br />\n",
    "pd.read_csv(\"../CSV/(The_CSV_Name).csv\")\n"
   ],
   "cell_type": "markdown",
   "metadata": {}
  },
  {
   "cell_type": "code",
   "execution_count": 2,
   "metadata": {},
   "outputs": [
    {
     "output_type": "execute_result",
     "data": {
      "text/plain": [
       "   House Price  Square Footage\n",
       "0          245            1400\n",
       "1          312            1600\n",
       "2          279            1700\n",
       "3          308            1875\n",
       "4          199            1100\n",
       "5          219            1550\n",
       "6          405            2350\n",
       "7          324            2450\n",
       "8          319            1425\n",
       "9          255            1700"
      ],
      "text/html": "<div>\n<style>\n    .dataframe thead tr:only-child th {\n        text-align: right;\n    }\n\n    .dataframe thead th {\n        text-align: left;\n    }\n\n    .dataframe tbody tr th {\n        vertical-align: top;\n    }\n</style>\n<table border=\"1\" class=\"dataframe\">\n  <thead>\n    <tr style=\"text-align: right;\">\n      <th></th>\n      <th>House Price</th>\n      <th>Square Footage</th>\n    </tr>\n  </thead>\n  <tbody>\n    <tr>\n      <th>0</th>\n      <td>245</td>\n      <td>1400</td>\n    </tr>\n    <tr>\n      <th>1</th>\n      <td>312</td>\n      <td>1600</td>\n    </tr>\n    <tr>\n      <th>2</th>\n      <td>279</td>\n      <td>1700</td>\n    </tr>\n    <tr>\n      <th>3</th>\n      <td>308</td>\n      <td>1875</td>\n    </tr>\n    <tr>\n      <th>4</th>\n      <td>199</td>\n      <td>1100</td>\n    </tr>\n    <tr>\n      <th>5</th>\n      <td>219</td>\n      <td>1550</td>\n    </tr>\n    <tr>\n      <th>6</th>\n      <td>405</td>\n      <td>2350</td>\n    </tr>\n    <tr>\n      <th>7</th>\n      <td>324</td>\n      <td>2450</td>\n    </tr>\n    <tr>\n      <th>8</th>\n      <td>319</td>\n      <td>1425</td>\n    </tr>\n    <tr>\n      <th>9</th>\n      <td>255</td>\n      <td>1700</td>\n    </tr>\n  </tbody>\n</table>\n</div>"
     },
     "metadata": {},
     "execution_count": 2
    }
   ],
   "source": [
    "import pandas as pdD\n",
    "data_frame = pd.read_csv(\"../CSV/HousePrices.csv\")\n",
    "data_frame"
   ]
  }
 ]
}